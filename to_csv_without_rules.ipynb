{
 "cells": [
  {
   "cell_type": "code",
   "execution_count": null,
   "metadata": {},
   "outputs": [],
   "source": [
    "import os\n",
    "import pickle\n",
    "\n",
    "import pandas as pd"
   ]
  },
  {
   "cell_type": "code",
   "execution_count": null,
   "metadata": {},
   "outputs": [],
   "source": [
    "texts = {}\n",
    "trees = {}\n",
    "results = {}\n",
    "names = os.listdir('../русский авторазметчик эде')\n",
    "for name in names:\n",
    "    with open('../русский авторазметчик эде' + '/' + name, 'br') as f:\n",
    "            obj = pickle.load(f)\n",
    "            if 'tree' in name:\n",
    "                trees[name] = obj\n",
    "            else:\n",
    "                if 'result' in name:\n",
    "                    results[name] = obj\n",
    "                else:\n",
    "                    texts[name] = obj"
   ]
  },
  {
   "cell_type": "code",
   "execution_count": null,
   "metadata": {},
   "outputs": [],
   "source": [
    "def segmentation(tree, index):\n",
    "    if tree.relation != 'elementary':\n",
    "        segmentation(tree.left, index)\n",
    "        segmentation(tree.right, index)\n",
    "    else:\n",
    "        segments.append(tree.text)\n",
    "        indices.append(index)"
   ]
  },
  {
   "cell_type": "code",
   "execution_count": null,
   "metadata": {},
   "outputs": [],
   "source": [
    "segments = []\n",
    "indices = []\n",
    "\n",
    "for key in results:\n",
    "    index = key.split('.')[0].split('_')[-1]\n",
    "    res = results[key]\n",
    "    segmentation(res['rst'][0], index)\n",
    "    segments.append('\\n')\n",
    "    indices.append(index)\n",
    "    print(index)"
   ]
  },
  {
   "cell_type": "code",
   "execution_count": null,
   "metadata": {},
   "outputs": [],
   "source": [
    "to_csv = pd.DataFrame({'text' : indices, 'segment' : segments})"
   ]
  },
  {
   "cell_type": "code",
   "execution_count": null,
   "metadata": {},
   "outputs": [],
   "source": [
    "to_csv"
   ]
  },
  {
   "cell_type": "code",
   "execution_count": null,
   "metadata": {},
   "outputs": [],
   "source": [
    "to_csv.to_csv('no_rules.csv', index=False, encoding='utf-8')"
   ]
  },
  {
   "cell_type": "code",
   "execution_count": null,
   "metadata": {},
   "outputs": [],
   "source": []
  }
 ],
 "metadata": {
  "kernelspec": {
   "display_name": "Python 3",
   "language": "python",
   "name": "python3"
  },
  "language_info": {
   "codemirror_mode": {
    "name": "ipython",
    "version": 3
   },
   "file_extension": ".py",
   "mimetype": "text/x-python",
   "name": "python",
   "nbconvert_exporter": "python",
   "pygments_lexer": "ipython3",
   "version": "3.8.8"
  }
 },
 "nbformat": 4,
 "nbformat_minor": 4
}
