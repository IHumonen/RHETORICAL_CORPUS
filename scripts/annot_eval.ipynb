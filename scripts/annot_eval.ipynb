{
 "cells": [
  {
   "cell_type": "code",
   "execution_count": null,
   "metadata": {
    "colab": {
     "base_uri": "https://localhost:8080/"
    },
    "id": "PMP8pp9j-V9-",
    "outputId": "bf648aec-1feb-4aa3-f9c3-77a5c1151e5e"
   },
   "outputs": [],
   "source": [
    "#from google.colab import drive\n",
    "#drive.mount('/content/gdrive') #, force_remount=True"
   ]
  },
  {
   "cell_type": "code",
   "execution_count": null,
   "metadata": {
    "id": "nCS-rbBO-mlA"
   },
   "outputs": [],
   "source": [
    "#import os\n",
    "#os.chdir('gdrive/My Drive/Colab Notebooks')"
   ]
  },
  {
   "cell_type": "markdown",
   "metadata": {
    "id": "sc5Bg3BJ9Pov"
   },
   "source": [
    "# annot df"
   ]
  },
  {
   "cell_type": "code",
   "execution_count": null,
   "metadata": {
    "id": "kVIcFRE59Ryh"
   },
   "outputs": [],
   "source": [
    "import pandas as pd\n",
    "import numpy as np"
   ]
  },
  {
   "cell_type": "code",
   "execution_count": null,
   "metadata": {
    "id": "pWhAt9jQ9aVx"
   },
   "outputs": [],
   "source": [
    "df = pd.read_excel('все сегментации.xlsx')"
   ]
  },
  {
   "cell_type": "code",
   "execution_count": null,
   "metadata": {
    "colab": {
     "base_uri": "https://localhost:8080/",
     "height": 306
    },
    "id": "aouz86Ii9tMU",
    "outputId": "9ffd0da9-5c56-4614-9e2c-4b842c410503"
   },
   "outputs": [],
   "source": [
    "df.head(10)"
   ]
  },
  {
   "cell_type": "code",
   "execution_count": null,
   "metadata": {
    "colab": {
     "base_uri": "https://localhost:8080/"
    },
    "id": "elOlzBMf9uIk",
    "outputId": "a995fad3-4ece-4c90-bc9d-135d683ecac1"
   },
   "outputs": [],
   "source": [
    "df.columns.tolist()"
   ]
  },
  {
   "cell_type": "code",
   "execution_count": null,
   "metadata": {
    "id": "Rmnq9T9l-DuI"
   },
   "outputs": [],
   "source": [
    "df = df.drop(['Полина и Кеша','comment - С.Ю.', 'согласие у всех'], axis = 1)"
   ]
  },
  {
   "cell_type": "code",
   "execution_count": null,
   "metadata": {
    "id": "hJ0zUg-zB1L_"
   },
   "outputs": [],
   "source": [
    "df = df.dropna(how='all')"
   ]
  },
  {
   "cell_type": "code",
   "execution_count": null,
   "metadata": {
    "id": "GdfngpadfKVG"
   },
   "outputs": [],
   "source": [
    "df['кеша'] = df['кеша'].fillna('None')\n",
    "df['полина'] = df['полина'].fillna('None')\n",
    "df['даша'] = df['даша'].fillna('None')"
   ]
  },
  {
   "cell_type": "code",
   "execution_count": null,
   "metadata": {
    "id": "S1DkXveN_nj4"
   },
   "outputs": [],
   "source": [
    "df['id текста'] = df['id текста'].astype('int')"
   ]
  },
  {
   "cell_type": "code",
   "execution_count": null,
   "metadata": {
    "id": "hRvbYNwonoOb"
   },
   "outputs": [],
   "source": [
    "df = df.drop(df[df['id текста'] == 10].index)"
   ]
  },
  {
   "cell_type": "code",
   "execution_count": null,
   "metadata": {
    "colab": {
     "base_uri": "https://localhost:8080/",
     "height": 204
    },
    "id": "-T8KDtgKHLEB",
    "outputId": "2693f2c9-8727-4ef3-9744-ded3e9e93f32"
   },
   "outputs": [],
   "source": [
    "df.tail()"
   ]
  },
  {
   "cell_type": "markdown",
   "metadata": {
    "id": "ttImbvRMnQbB"
   },
   "source": [
    "# 1 text example"
   ]
  },
  {
   "cell_type": "code",
   "execution_count": null,
   "metadata": {
    "id": "G3F1l8M1-dpx"
   },
   "outputs": [],
   "source": [
    "df_text1 = df[df['id текста'] == 1]"
   ]
  },
  {
   "cell_type": "code",
   "execution_count": null,
   "metadata": {
    "colab": {
     "base_uri": "https://localhost:8080/",
     "height": 328
    },
    "id": "NrnLtqS2Hhce",
    "outputId": "dca5dd02-8e22-48bb-a937-655bfbb58081"
   },
   "outputs": [],
   "source": [
    "df_text1"
   ]
  },
  {
   "cell_type": "code",
   "execution_count": null,
   "metadata": {
    "colab": {
     "base_uri": "https://localhost:8080/"
    },
    "id": "ca6jYUo6MZRX",
    "outputId": "16f16b93-de07-49c6-c817-f702c6e966f1"
   },
   "outputs": [],
   "source": [
    "df_text1.shape"
   ]
  },
  {
   "cell_type": "code",
   "execution_count": null,
   "metadata": {
    "id": "h3v7M5cIHjBb"
   },
   "outputs": [],
   "source": [
    "annots = ['полина','кеша','даша']"
   ]
  },
  {
   "cell_type": "code",
   "execution_count": null,
   "metadata": {
    "colab": {
     "base_uri": "https://localhost:8080/"
    },
    "id": "ANWpn1B1Krtk",
    "outputId": "451abe85-4023-4161-f0af-cddb78384981"
   },
   "outputs": [],
   "source": [
    "for index, row in df_text1.iterrows():\n",
    "  print(index)\n",
    "  print(row[annots[0]])\n",
    "  print(row[annots[1]])\n",
    "  print(row[annots[2]])\n",
    "  print(\"\\n\")"
   ]
  },
  {
   "cell_type": "code",
   "execution_count": null,
   "metadata": {
    "colab": {
     "base_uri": "https://localhost:8080/"
    },
    "id": "SAQPiM-oMSIx",
    "outputId": "dc951171-4513-48be-f4a4-15d3c0bfa14b"
   },
   "outputs": [],
   "source": [
    "total_agree = []\n",
    "agree = disagree = 0\n",
    "for index, row in df_text1.iterrows():\n",
    "  if row[annots[0]] == row[annots[1]] and row[annots[0]] == row[annots[2]]:\n",
    "    agree += 1\n",
    "  else:\n",
    "    disagree += 1\n",
    "\n",
    "#print(agree, disagree)\n",
    "#print(agree/(agree+disagree))\n",
    "print(agree/(agree+disagree-1)) "
   ]
  },
  {
   "cell_type": "code",
   "execution_count": null,
   "metadata": {
    "colab": {
     "base_uri": "https://localhost:8080/"
    },
    "id": "6kpdzFSPPyxf",
    "outputId": "2d49f055-b11f-4f96-9471-e420d543029b"
   },
   "outputs": [],
   "source": [
    "import sklearn\n",
    "from sklearn.metrics import cohen_kappa_score\n",
    "\n",
    "print(cohen_kappa_score(df_text1[annots[0]], df_text1[annots[1]]))\n",
    "print(cohen_kappa_score(df_text1[annots[0]], df_text1[annots[2]]))\n",
    "print(cohen_kappa_score(df_text1[annots[1]], df_text1[annots[2]]))"
   ]
  },
  {
   "cell_type": "markdown",
   "metadata": {
    "id": "-MADNc4MnY6w"
   },
   "source": [
    "# all texts eval"
   ]
  },
  {
   "cell_type": "code",
   "execution_count": null,
   "metadata": {
    "id": "_DzKTWcCZ7La"
   },
   "outputs": [],
   "source": [
    "annots = ['полина','кеша','даша']"
   ]
  },
  {
   "cell_type": "code",
   "execution_count": null,
   "metadata": {
    "id": "RhkHorTGWyIK"
   },
   "outputs": [],
   "source": [
    "def annot_agree(diff = False):\n",
    "  \"\"\"\n",
    "  Согласие аннотаторов\n",
    "  Annotators agreement\n",
    "  \"\"\"\n",
    "  agree = disagree = 0\n",
    "  for index, row in df.iterrows():\n",
    "    if row[annots[0]] == row[annots[1]] and row[annots[0]] == row[annots[2]]:\n",
    "      agree += 1\n",
    "    else:\n",
    "      disagree += 1\n",
    "      if diff == True:\n",
    "        print(f'row_id = {index}, text_id = {row[\"id текста\"]}')\n",
    "        for i in annots:\n",
    "          print(f'{i}: {row[i]}')\n",
    "        print('\\n')\n",
    "      else:\n",
    "        continue\n",
    "  return agree/(agree+disagree-1)"
   ]
  },
  {
   "cell_type": "code",
   "execution_count": null,
   "metadata": {
    "colab": {
     "base_uri": "https://localhost:8080/"
    },
    "id": "Wgm8LmMIXl2K",
    "outputId": "b447514c-df30-4016-c6a6-bd30330dbdb6"
   },
   "outputs": [],
   "source": [
    "annot_agree(diff=True)"
   ]
  },
  {
   "cell_type": "code",
   "execution_count": null,
   "metadata": {
    "colab": {
     "base_uri": "https://localhost:8080/"
    },
    "id": "-Ady6zf_o4GA",
    "outputId": "6bf97b5d-53f1-4946-e0ef-6eee7ce30b02"
   },
   "outputs": [],
   "source": [
    "import sklearn\n",
    "from sklearn.metrics import cohen_kappa_score\n",
    "\n",
    "print(cohen_kappa_score(df[annots[0]], df[annots[1]]))\n",
    "print(cohen_kappa_score(df[annots[0]], df[annots[2]]))\n",
    "print(cohen_kappa_score(df[annots[1]], df[annots[2]]))"
   ]
  },
  {
   "cell_type": "code",
   "execution_count": null,
   "metadata": {
    "id": "JXlkK1ano_zK"
   },
   "outputs": [],
   "source": []
  },
  {
   "cell_type": "markdown",
   "metadata": {
    "id": "cZd-luRb9DW4"
   },
   "source": [
    "# deeppavlov"
   ]
  },
  {
   "cell_type": "markdown",
   "metadata": {
    "id": "U_sqGPtNZ9kQ"
   },
   "source": [
    "Тут я просто устанавливаю deeppavlov и чекаю его работу"
   ]
  },
  {
   "cell_type": "code",
   "execution_count": null,
   "metadata": {
    "colab": {
     "base_uri": "https://localhost:8080/"
    },
    "id": "wNa6FfLm-x-q",
    "outputId": "e5fc19ea-b93b-4f03-f67c-067ba702eb62"
   },
   "outputs": [],
   "source": [
    "!pip install deeppavlov"
   ]
  },
  {
   "cell_type": "code",
   "execution_count": null,
   "metadata": {
    "colab": {
     "base_uri": "https://localhost:8080/"
    },
    "id": "Lx7KcNH6HlW1",
    "outputId": "3d4af02d-66d6-4c2e-f3b0-1d5947a8532e"
   },
   "outputs": [],
   "source": [
    "!python -m deeppavlov install syntax_ru_syntagrus_bert"
   ]
  },
  {
   "cell_type": "code",
   "execution_count": null,
   "metadata": {
    "colab": {
     "base_uri": "https://localhost:8080/"
    },
    "id": "VLxVIUf-M1ad",
    "outputId": "8315dc6a-0cc0-4b13-83b9-d26702c1d99e"
   },
   "outputs": [],
   "source": [
    "!python -m deeppavlov install squad_bert"
   ]
  },
  {
   "cell_type": "code",
   "execution_count": null,
   "metadata": {
    "colab": {
     "base_uri": "https://localhost:8080/"
    },
    "id": "Wq90I1tTOwk4",
    "outputId": "2b80d356-a6d9-44ea-b735-46099f0a90aa"
   },
   "outputs": [],
   "source": [
    "!pip install tensorflow==1.14 "
   ]
  },
  {
   "cell_type": "code",
   "execution_count": null,
   "metadata": {
    "colab": {
     "base_uri": "https://localhost:8080/"
    },
    "id": "XIAuQPciQITQ",
    "outputId": "50bb3319-53a6-4304-88d8-fa1f802afa59"
   },
   "outputs": [],
   "source": [
    "!pip install russian_tagsets"
   ]
  },
  {
   "cell_type": "code",
   "execution_count": null,
   "metadata": {
    "colab": {
     "base_uri": "https://localhost:8080/"
    },
    "id": "jaV6JF9cFNcQ",
    "outputId": "2e7e4f75-90e4-4256-d0ea-ed9b57a2b9b5"
   },
   "outputs": [],
   "source": [
    "from deeppavlov import build_model, configs\n",
    "model = build_model(\"ru_syntagrus_joint_parsing\", download=True)"
   ]
  },
  {
   "cell_type": "code",
   "execution_count": null,
   "metadata": {
    "id": "X6uo-LhzBxU8"
   },
   "outputs": [],
   "source": []
  },
  {
   "cell_type": "code",
   "execution_count": null,
   "metadata": {
    "id": "M0gPe4qlCWF9"
   },
   "outputs": [],
   "source": [
    "text_parsed = []\n",
    "\n",
    "sentences = [\"Я шёл домой по незнакомой улице.\", \"Девушка пела в церковном хоре.\"]\n",
    "for parse in model(sentences):\n",
    "  sent_info = []\n",
    "  row = parse.split('\\t_\\n')\n",
    "  for i in row:\n",
    "    inf = i.split('\\t')\n",
    "    sent_info.append(inf)\n",
    "  text_parsed.append(sent_info)\n",
    "  #print(parse, end=\"\\n\\n\")"
   ]
  },
  {
   "cell_type": "code",
   "execution_count": null,
   "metadata": {
    "id": "lFC14RjVQp8R"
   },
   "outputs": [],
   "source": [
    "mas = ['001','003','004','005']"
   ]
  },
  {
   "cell_type": "code",
   "execution_count": null,
   "metadata": {
    "colab": {
     "base_uri": "https://localhost:8080/"
    },
    "id": "42Zk3KjbFQHv",
    "outputId": "32816046-2066-4551-9714-60d1592911df"
   },
   "outputs": [],
   "source": [
    "raw_texts = []\n",
    "for i in mas:\n",
    "  name = i+'_rus_raw.txt'\n",
    "  text = open(name, 'r', encoding = 'utf-8').read()\n",
    "  print(text)\n",
    "  raw_texts.append(text)"
   ]
  },
  {
   "cell_type": "code",
   "execution_count": null,
   "metadata": {
    "colab": {
     "base_uri": "https://localhost:8080/"
    },
    "id": "4urCPVhqR_rN",
    "outputId": "d487962d-2693-415e-e1a1-2199f7b540e9"
   },
   "outputs": [],
   "source": [
    "pip install rusenttokenize"
   ]
  },
  {
   "cell_type": "code",
   "execution_count": null,
   "metadata": {
    "id": "VUquvdypSDFZ"
   },
   "outputs": [],
   "source": [
    "from rusenttokenize import ru_sent_tokenize"
   ]
  },
  {
   "cell_type": "code",
   "execution_count": null,
   "metadata": {
    "id": "ZLeZEdQ2SFgb"
   },
   "outputs": [],
   "source": [
    "raw_sents = []\n",
    "for i in raw_texts:\n",
    "  raw_sents.append(ru_sent_tokenize(i))"
   ]
  },
  {
   "cell_type": "code",
   "execution_count": null,
   "metadata": {
    "colab": {
     "base_uri": "https://localhost:8080/"
    },
    "id": "Qp9uzIC_SRIH",
    "outputId": "22ad9045-73d6-4703-9b44-abe98a566304"
   },
   "outputs": [],
   "source": [
    "for i in raw_sents:\n",
    "  print(i)"
   ]
  },
  {
   "cell_type": "code",
   "execution_count": null,
   "metadata": {
    "colab": {
     "base_uri": "https://localhost:8080/"
    },
    "id": "ani8nVpTRb3-",
    "outputId": "cf6b829c-f403-4626-f1c6-c79f136979bb"
   },
   "outputs": [],
   "source": [
    "for parse in model(raw_sents[0]):\n",
    "    print(parse, end=\"\\n\\n\")"
   ]
  },
  {
   "cell_type": "code",
   "execution_count": null,
   "metadata": {
    "id": "Alfr3kXxR3fz"
   },
   "outputs": [],
   "source": []
  },
  {
   "cell_type": "markdown",
   "metadata": {
    "id": "UMCSmY6WY5yr"
   },
   "source": [
    "# text tok"
   ]
  },
  {
   "cell_type": "code",
   "execution_count": null,
   "metadata": {
    "id": "pZe3fU63Y-JX"
   },
   "outputs": [],
   "source": [
    "for index, row in df.iterrows():\n",
    "  ann0 = row[annots[0]]\n",
    "  ann1 = row[annots[1]]\n",
    "  ann2 = row[annots[2]]\n",
    "  edus = [ann0, ann1, ann2]\n",
    "  for parse in model(edus):\n",
    "    print(parse, end=\"\\n\\n\")"
   ]
  },
  {
   "cell_type": "code",
   "execution_count": null,
   "metadata": {
    "colab": {
     "base_uri": "https://localhost:8080/"
    },
    "id": "m0kkcTEhUJg5",
    "outputId": "579cd9df-8807-4f90-c91f-223c262e1896"
   },
   "outputs": [],
   "source": [
    "from deeppavlov import build_model, configs\n",
    "model = build_model(\"ru_syntagrus_joint_parsing\", download=True)"
   ]
  },
  {
   "cell_type": "code",
   "execution_count": null,
   "metadata": {
    "id": "M3rMY0QQUKOG"
   },
   "outputs": [],
   "source": [
    "text_parsed = []\n",
    "\n",
    "sentences = [\"Я шёл домой по незнакомой улице.\", \"Девушка пела в церковном хоре.\"]\n",
    "for parse in model(sentences):\n",
    "  sent_info = []\n",
    "  row = parse.split('\\t_\\n')\n",
    "  for i in row:\n",
    "    inf = i.split('\\t')\n",
    "    sent_info.append(inf)\n",
    "  text_parsed.append(sent_info)\n",
    "  #print(parse, end=\"\\n\\n\")"
   ]
  },
  {
   "cell_type": "code",
   "execution_count": null,
   "metadata": {
    "id": "87A1q8JtUk1Q"
   },
   "outputs": [],
   "source": [
    "annots_parsed = {}#{'полина':[],'кеша':[]}\n",
    "for index, row in df.iterrows():\n",
    "  text_parsed = []\n",
    "  ann0 = row[annots[0]]\n",
    "  ann1 = row[annots[1]]\n",
    "  ann2 = row[annots[2]]\n",
    "  edus = [ann0, ann1, ann2]\n",
    "  for parse in model(edus):\n",
    "     sent_info = []\n",
    "     row = parse.split('\\t_\\n')\n",
    "     for i in row:\n",
    "       inf = i.split('\\t')\n",
    "       sent_info.append(inf)\n",
    "     text_parsed.append(sent_info)\n",
    "  for name_id in range(len(annots)):\n",
    "    if annots[name_id] not in annots_parsed.keys():\n",
    "      annots_parsed[annots[name_id]] = []\n",
    "      annots_parsed[annots[name_id]].append(text_parsed[name_id])\n",
    "    else:\n",
    "      annots_parsed[annots[name_id]].append(text_parsed[name_id])"
   ]
  },
  {
   "cell_type": "code",
   "execution_count": null,
   "metadata": {
    "colab": {
     "base_uri": "https://localhost:8080/"
    },
    "id": "wySbOp_DVb2R",
    "outputId": "f0c97875-45fb-49a8-8b0d-fff59dee456c"
   },
   "outputs": [],
   "source": [
    "for i in annots_parsed.keys():\n",
    "  print(i)\n",
    "  print(len(annots_parsed[i]))"
   ]
  },
  {
   "cell_type": "code",
   "execution_count": null,
   "metadata": {
    "colab": {
     "base_uri": "https://localhost:8080/",
     "height": 204
    },
    "id": "W5TadnXkV6gu",
    "outputId": "25c17c1c-97f7-4839-819e-e87949c69ffd"
   },
   "outputs": [],
   "source": [
    "df.head()"
   ]
  },
  {
   "cell_type": "code",
   "execution_count": null,
   "metadata": {
    "id": "_Yvulnu-Zotu"
   },
   "outputs": [],
   "source": [
    "for name in annots:\n",
    "  new_col_name = name+'_conllu'\n",
    "  df[new_col_name] = annots_parsed[name]"
   ]
  },
  {
   "cell_type": "code",
   "execution_count": null,
   "metadata": {
    "colab": {
     "base_uri": "https://localhost:8080/",
     "height": 357
    },
    "id": "ODyuPKtdaNsI",
    "outputId": "ef1ee41c-f00a-4dca-ffba-9455a2b721e3"
   },
   "outputs": [],
   "source": [
    "df.head()"
   ]
  },
  {
   "cell_type": "code",
   "execution_count": null,
   "metadata": {
    "id": "2dyt7NVYa_vb"
   },
   "outputs": [],
   "source": [
    "edus_norm = {}\n",
    "for i in annots_parsed.keys():\n",
    "\n",
    "  for row in annots_parsed[i]:\n",
    "    tokens = []\n",
    "    for j in row:\n",
    "      tokens.append(j[2])\n",
    "    row_tok = ' '.join(tokens)\n",
    "    if i not in edus_norm.keys():\n",
    "      edus_norm[i] = []\n",
    "      edus_norm[i].append(row_tok)\n",
    "    else:\n",
    "      edus_norm[i].append(row_tok)"
   ]
  },
  {
   "cell_type": "code",
   "execution_count": null,
   "metadata": {
    "colab": {
     "base_uri": "https://localhost:8080/"
    },
    "id": "P2lQluXmbxVF",
    "outputId": "edb6a228-6b2d-4c9f-c1be-32e1d45e1d27"
   },
   "outputs": [],
   "source": [
    "for i in edus_norm.keys():\n",
    "  print(i)\n",
    "  print(len(edus_norm[i]))\n",
    "  print(edus_norm[i][0])"
   ]
  },
  {
   "cell_type": "code",
   "execution_count": null,
   "metadata": {
    "id": "tRf3Lv5pdIn5"
   },
   "outputs": [],
   "source": [
    "for name in annots:\n",
    "  new_col_name = name+'_norm'\n",
    "  df[new_col_name] = edus_norm[name]"
   ]
  },
  {
   "cell_type": "code",
   "execution_count": null,
   "metadata": {
    "colab": {
     "base_uri": "https://localhost:8080/",
     "height": 547
    },
    "id": "cWYk8VaZc5De",
    "outputId": "f0ed7e33-19f7-455d-a10b-0c583747cf93"
   },
   "outputs": [],
   "source": [
    "df.head()"
   ]
  },
  {
   "cell_type": "code",
   "execution_count": null,
   "metadata": {
    "colab": {
     "base_uri": "https://localhost:8080/"
    },
    "id": "XmVbObrjdQyI",
    "outputId": "9b147b66-e4ec-455f-e482-82130b35b7fc"
   },
   "outputs": [],
   "source": [
    "total_agree = []\n",
    "agree = disagree = 0\n",
    "for index, row in df.iterrows():\n",
    "  if row[annots[0]+'_norm'] == row[annots[1]+'_norm'] and row[annots[0]+'_norm'] == row[annots[2]+'_norm']:\n",
    "    agree += 1\n",
    "  else:\n",
    "    disagree += 1\n",
    "\n",
    "#print(agree, disagree)\n",
    "#print(agree/(agree+disagree))\n",
    "print(agree/(agree+disagree-1)) "
   ]
  },
  {
   "cell_type": "code",
   "execution_count": null,
   "metadata": {
    "colab": {
     "base_uri": "https://localhost:8080/"
    },
    "id": "oNBJsTlAdiqB",
    "outputId": "42ce682f-f6b2-4e43-ee5f-710484296c5a"
   },
   "outputs": [],
   "source": [
    "import sklearn\n",
    "from sklearn.metrics import cohen_kappa_score\n",
    "\n",
    "print(cohen_kappa_score(df[annots[0]+'_norm'], df[annots[1]+'_norm']))\n",
    "print(cohen_kappa_score(df[annots[0]+'_norm'], df[annots[2]+'_norm']))\n",
    "print(cohen_kappa_score(df[annots[1]+'_norm'], df[annots[2]+'_norm']))"
   ]
  },
  {
   "cell_type": "code",
   "execution_count": null,
   "metadata": {
    "id": "Uhl_DMFgdxpu"
   },
   "outputs": [],
   "source": []
  }
 ],
 "metadata": {
  "colab": {
   "name": "annot_eval.ipynb",
   "provenance": []
  },
  "kernelspec": {
   "display_name": "Python 3",
   "language": "python",
   "name": "python3"
  },
  "language_info": {
   "codemirror_mode": {
    "name": "ipython",
    "version": 3
   },
   "file_extension": ".py",
   "mimetype": "text/x-python",
   "name": "python",
   "nbconvert_exporter": "python",
   "pygments_lexer": "ipython3",
   "version": "3.8.8"
  }
 },
 "nbformat": 4,
 "nbformat_minor": 1
}
