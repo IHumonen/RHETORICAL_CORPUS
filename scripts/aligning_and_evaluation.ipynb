{
  "nbformat": 4,
  "nbformat_minor": 0,
  "metadata": {
    "colab": {
      "name": "aligning_and_evaluation.ipynb",
      "provenance": [],
      "collapsed_sections": [
        "-4v2i3sPff7r",
        "pgq5Zp6dh0De",
        "iFQiZe8v1zZ8",
        "qP0eqCiAp-Mc",
        "fAfp3Oxa1u75",
        "kUrkAzJ-T0mX",
        "79biSjUwT9J1",
        "P2nTSASV1NJE",
        "-EiaWs2rdhMl",
        "l96GTSbddnTC",
        "VRQQmmticbLL",
        "3LeNsiAIpwxX",
        "1tksu2Mvcmb1",
        "eZepMm4PYiUO",
        "VU61wj6Mp2Rm",
        "TNf9CMl2cZ4p",
        "XpZJ5CpCckco",
        "sqNnSIrQkPGM",
        "HvXGtHKochfq",
        "bbWNcP9OgC-Y",
        "gsSg10CUFovc",
        "wdGoc2mFknH6",
        "Q6szFHoLfoxX",
        "sc5Bg3BJ9Pov",
        "-MADNc4MnY6w"
      ]
    },
    "kernelspec": {
      "name": "python3",
      "display_name": "Python 3"
    }
  },
  "cells": [
    {
      "cell_type": "code",
      "metadata": {
        "colab": {
          "base_uri": "https://localhost:8080/"
        },
        "id": "PMP8pp9j-V9-",
        "outputId": "1be077d5-6054-42ef-c876-3b0a520baacb"
      },
      "source": [
        "from google.colab import drive\n",
        "drive.mount('/content/gdrive') #, force_remount=True"
      ],
      "execution_count": null,
      "outputs": [
        {
          "output_type": "stream",
          "text": [
            "Mounted at /content/gdrive\n"
          ],
          "name": "stdout"
        }
      ]
    },
    {
      "cell_type": "code",
      "metadata": {
        "id": "nCS-rbBO-mlA"
      },
      "source": [
        "import os\n",
        "os.chdir('gdrive/My Drive/Colab Notebooks/data_aligned')"
      ],
      "execution_count": null,
      "outputs": []
    },
    {
      "cell_type": "markdown",
      "metadata": {
        "id": "-4v2i3sPff7r"
      },
      "source": [
        "# data load"
      ]
    },
    {
      "cell_type": "code",
      "metadata": {
        "id": "KlCtp6dDgj-7"
      },
      "source": [
        "import pandas as pd\n",
        "df = pd.read_csv('all_segm_Kesha_5_test_clean.csv')"
      ],
      "execution_count": null,
      "outputs": []
    },
    {
      "cell_type": "code",
      "metadata": {
        "id": "JAEG6JdCuu_j"
      },
      "source": [
        "f = open('test_names.txt','r', encoding='utf-8')\n",
        "test_names = []\n",
        "for line in f.readlines():\n",
        "  test_names.append(line[:-1])\n",
        "f.close()"
      ],
      "execution_count": null,
      "outputs": []
    },
    {
      "cell_type": "code",
      "metadata": {
        "id": "FPlNVs8nvO16"
      },
      "source": [
        "f = open('train_names.txt','r', encoding='utf-8')\n",
        "train_names = []\n",
        "for line in f.readlines():\n",
        "  train_names.append(line[:-1])\n",
        "f.close()"
      ],
      "execution_count": null,
      "outputs": []
    },
    {
      "cell_type": "code",
      "metadata": {
        "colab": {
          "base_uri": "https://localhost:8080/"
        },
        "id": "NxPjBRNAvVfI",
        "outputId": "f717ae22-a34a-4711-85ba-1fdbaaf9057d"
      },
      "source": [
        "len(train_names), len(test_names)"
      ],
      "execution_count": null,
      "outputs": [
        {
          "output_type": "execute_result",
          "data": {
            "text/plain": [
              "(237, 102)"
            ]
          },
          "metadata": {
            "tags": []
          },
          "execution_count": 225
        }
      ]
    },
    {
      "cell_type": "code",
      "metadata": {
        "id": "vKwkvq3GwE7I"
      },
      "source": [
        "#train_proj = []\n",
        "test_proj = []\n",
        "for i in test_names:\n",
        "  if i.startswith('ar_micro') == True:\n",
        "    test_proj.append(i[3:-7]+'.txt')"
      ],
      "execution_count": null,
      "outputs": []
    },
    {
      "cell_type": "code",
      "metadata": {
        "colab": {
          "base_uri": "https://localhost:8080/"
        },
        "id": "jvuBvFSgxDzh",
        "outputId": "bb1068b4-b591-491a-ad2d-8bb2e2d3ed58"
      },
      "source": [
        "len(train_proj)"
      ],
      "execution_count": null,
      "outputs": [
        {
          "output_type": "execute_result",
          "data": {
            "text/plain": [
              "79"
            ]
          },
          "metadata": {
            "tags": []
          },
          "execution_count": 241
        }
      ]
    },
    {
      "cell_type": "code",
      "metadata": {
        "colab": {
          "base_uri": "https://localhost:8080/"
        },
        "id": "gXdcOmtCB4iO",
        "outputId": "487ecc03-28e9-4b1d-c3c2-c3fe1dc3b66e"
      },
      "source": [
        "len(test_proj) #4 отсутствуют"
      ],
      "execution_count": null,
      "outputs": [
        {
          "output_type": "execute_result",
          "data": {
            "text/plain": [
              "34"
            ]
          },
          "metadata": {
            "tags": []
          },
          "execution_count": 359
        }
      ]
    },
    {
      "cell_type": "code",
      "metadata": {
        "id": "W1GNE5kbfmEu"
      },
      "source": [
        "all_texts = []\n",
        "for i in sorted(os.listdir('projected')):\n",
        "  if i in test_proj:#test\n",
        "    name1 = 'projected/'+i\n",
        "    f = open(name1, 'r',encoding='utf-8')\n",
        "    text = f.readlines()\n",
        "    for i in text:\n",
        "      all_texts.append(i)\n",
        "    all_texts.append('None')"
      ],
      "execution_count": null,
      "outputs": []
    },
    {
      "cell_type": "code",
      "metadata": {
        "colab": {
          "base_uri": "https://localhost:8080/"
        },
        "id": "qCMqQok1g4oJ",
        "outputId": "bafdf62a-4d29-4b04-9fc0-f824d96a1e03"
      },
      "source": [
        "len(list(df['зс'])), len(all_texts)"
      ],
      "execution_count": null,
      "outputs": [
        {
          "output_type": "execute_result",
          "data": {
            "text/plain": [
              "(601, 532)"
            ]
          },
          "metadata": {
            "tags": []
          },
          "execution_count": 240
        }
      ]
    },
    {
      "cell_type": "code",
      "metadata": {
        "colab": {
          "base_uri": "https://localhost:8080/"
        },
        "id": "tTuIpGfVCQ7g",
        "outputId": "920ed522-00a9-4897-a42c-7b588b5bd04e"
      },
      "source": [
        "len(list(df['зс'])), len(all_texts)"
      ],
      "execution_count": null,
      "outputs": [
        {
          "output_type": "execute_result",
          "data": {
            "text/plain": [
              "(236, 210)"
            ]
          },
          "metadata": {
            "tags": []
          },
          "execution_count": 363
        }
      ]
    },
    {
      "cell_type": "code",
      "metadata": {
        "id": "rZApuhR0g8oX"
      },
      "source": [
        "while len(all_texts) != len(list(df['зс'])):\n",
        "  all_texts.append('None')"
      ],
      "execution_count": null,
      "outputs": []
    },
    {
      "cell_type": "code",
      "metadata": {
        "colab": {
          "base_uri": "https://localhost:8080/"
        },
        "id": "-GFMLr77hL5J",
        "outputId": "0f1fa9a3-8b9b-4178-84e8-754065a1a6f9"
      },
      "source": [
        "len(list(df['зс'])), len(all_texts)"
      ],
      "execution_count": null,
      "outputs": [
        {
          "output_type": "execute_result",
          "data": {
            "text/plain": [
              "(236, 236)"
            ]
          },
          "metadata": {
            "tags": []
          },
          "execution_count": 365
        }
      ]
    },
    {
      "cell_type": "code",
      "metadata": {
        "id": "-X3P59b2gtTY"
      },
      "source": [
        "df_proj = pd.DataFrame()\n",
        "df_proj['зс'] = list(df['зс'])\n",
        "df_proj['proj'] = all_texts"
      ],
      "execution_count": null,
      "outputs": []
    },
    {
      "cell_type": "code",
      "metadata": {
        "colab": {
          "base_uri": "https://localhost:8080/",
          "height": 204
        },
        "id": "ET4dcb6yhcci",
        "outputId": "81d97110-495e-4f8f-fd31-238c008d56a9"
      },
      "source": [
        "df_proj.head()"
      ],
      "execution_count": null,
      "outputs": [
        {
          "output_type": "execute_result",
          "data": {
            "text/html": [
              "<div>\n",
              "<style scoped>\n",
              "    .dataframe tbody tr th:only-of-type {\n",
              "        vertical-align: middle;\n",
              "    }\n",
              "\n",
              "    .dataframe tbody tr th {\n",
              "        vertical-align: top;\n",
              "    }\n",
              "\n",
              "    .dataframe thead th {\n",
              "        text-align: right;\n",
              "    }\n",
              "</style>\n",
              "<table border=\"1\" class=\"dataframe\">\n",
              "  <thead>\n",
              "    <tr style=\"text-align: right;\">\n",
              "      <th></th>\n",
              "      <th>зс</th>\n",
              "      <th>proj</th>\n",
              "    </tr>\n",
              "  </thead>\n",
              "  <tbody>\n",
              "    <tr>\n",
              "      <th>0</th>\n",
              "      <td>В течение многих лет в Берлине не хватало жилья</td>\n",
              "      <td>В течение многих лет в Берлине не хватало жиль...</td>\n",
              "    </tr>\n",
              "    <tr>\n",
              "      <th>1</th>\n",
              "      <td>поэтому использовать Темпельхофское поле</td>\n",
              "      <td>поэтому использовать Темпельхофское поле ,\\n</td>\n",
              "    </tr>\n",
              "    <tr>\n",
              "      <th>2</th>\n",
              "      <td>предоставляющее огромное и почти не используем...</td>\n",
              "      <td>предоставляющее огромное и почти не используем...</td>\n",
              "    </tr>\n",
              "    <tr>\n",
              "      <th>3</th>\n",
              "      <td>под жилые дома представляется разумной идеей</td>\n",
              "      <td>под жилые дома представляется разумной идеей .\\n</td>\n",
              "    </tr>\n",
              "    <tr>\n",
              "      <th>4</th>\n",
              "      <td>Так как территория принадлежит федеративному г...</td>\n",
              "      <td>Так как территория принадлежит федеративному г...</td>\n",
              "    </tr>\n",
              "  </tbody>\n",
              "</table>\n",
              "</div>"
            ],
            "text/plain": [
              "                                                  зс                                               proj\n",
              "0    В течение многих лет в Берлине не хватало жилья  В течение многих лет в Берлине не хватало жиль...\n",
              "1           поэтому использовать Темпельхофское поле       поэтому использовать Темпельхофское поле ,\\n\n",
              "2  предоставляющее огромное и почти не используем...  предоставляющее огромное и почти не используем...\n",
              "3       под жилые дома представляется разумной идеей   под жилые дома представляется разумной идеей .\\n\n",
              "4  Так как территория принадлежит федеративному г...  Так как территория принадлежит федеративному г..."
            ]
          },
          "metadata": {
            "tags": []
          },
          "execution_count": 367
        }
      ]
    },
    {
      "cell_type": "code",
      "metadata": {
        "id": "ur5h0Caahn0Y"
      },
      "source": [
        "df_proj.to_csv('data_proj_all.csv')"
      ],
      "execution_count": null,
      "outputs": []
    },
    {
      "cell_type": "code",
      "metadata": {
        "id": "ZBulw4cfvOoS"
      },
      "source": [
        "df_proj = pd.read_csv('data_proj_all.csv')"
      ],
      "execution_count": null,
      "outputs": []
    },
    {
      "cell_type": "code",
      "metadata": {
        "id": "-o4vz_QIiNvD"
      },
      "source": [
        "df = df_proj"
      ],
      "execution_count": null,
      "outputs": []
    },
    {
      "cell_type": "markdown",
      "metadata": {
        "id": "pgq5Zp6dh0De"
      },
      "source": [
        "# preprocess data"
      ]
    },
    {
      "cell_type": "markdown",
      "source": [
        "загружаем полученную авторазметку с зс"
      ],
      "metadata": {
        "id": "_DuD_hDj1beP"
      }
    },
    {
      "cell_type": "code",
      "metadata": {
        "id": "zOyo8jdDeAU-"
      },
      "source": [
        "import pandas as pd\n",
        "#df = pd.read_csv('all_segm_kesha_4.csv')\n",
        "#df = pd.read_csv('data_proj_all_2.csv')\n",
        "#df = pd.read_csv('all_segm_kesha_5_train.csv')\n",
        "#df = pd.read_csv('all_segm_kesha_5_test.csv')\n",
        "df = pd.read_csv('proj_test.csv')"
      ],
      "execution_count": null,
      "outputs": []
    },
    {
      "cell_type": "code",
      "metadata": {
        "colab": {
          "base_uri": "https://localhost:8080/",
          "height": 390
        },
        "id": "OoeM75jVfHJl",
        "outputId": "84a73970-f3d6-4ab4-fc36-f3fb79a52c3a"
      },
      "source": [
        "df.head(11)"
      ],
      "execution_count": null,
      "outputs": [
        {
          "output_type": "execute_result",
          "data": {
            "text/html": [
              "<div>\n",
              "<style scoped>\n",
              "    .dataframe tbody tr th:only-of-type {\n",
              "        vertical-align: middle;\n",
              "    }\n",
              "\n",
              "    .dataframe tbody tr th {\n",
              "        vertical-align: top;\n",
              "    }\n",
              "\n",
              "    .dataframe thead th {\n",
              "        text-align: right;\n",
              "    }\n",
              "</style>\n",
              "<table border=\"1\" class=\"dataframe\">\n",
              "  <thead>\n",
              "    <tr style=\"text-align: right;\">\n",
              "      <th></th>\n",
              "      <th>зс</th>\n",
              "      <th>proj</th>\n",
              "    </tr>\n",
              "  </thead>\n",
              "  <tbody>\n",
              "    <tr>\n",
              "      <th>0</th>\n",
              "      <td>В течение многих лет в Берлине не хватало жилья</td>\n",
              "      <td>В течение многих лет в Берлине не хватало жилья</td>\n",
              "    </tr>\n",
              "    <tr>\n",
              "      <th>1</th>\n",
              "      <td>поэтому использовать Темпельхофское поле</td>\n",
              "      <td>поэтому использовать Темпельхофское поле</td>\n",
              "    </tr>\n",
              "    <tr>\n",
              "      <th>2</th>\n",
              "      <td>предоставляющее огромное и почти не используем...</td>\n",
              "      <td>предоставляющее огромное и почти не используем...</td>\n",
              "    </tr>\n",
              "    <tr>\n",
              "      <th>3</th>\n",
              "      <td>под жилые дома представляется разумной идеей</td>\n",
              "      <td>под жилые дома представляется разумной идеей</td>\n",
              "    </tr>\n",
              "    <tr>\n",
              "      <th>4</th>\n",
              "      <td>Так как территория принадлежит федеративному г...</td>\n",
              "      <td>Так как территория принадлежит федеративному г...</td>\n",
              "    </tr>\n",
              "    <tr>\n",
              "      <th>5</th>\n",
              "      <td>её можно было бы использовать даже как социаль...</td>\n",
              "      <td>её можно было бы использовать даже как социаль...</td>\n",
              "    </tr>\n",
              "    <tr>\n",
              "      <th>6</th>\n",
              "      <td>Необходимо признать что поля стали привлекател...</td>\n",
              "      <td>Необходимо признать что поля стали привлекател...</td>\n",
              "    </tr>\n",
              "    <tr>\n",
              "      <th>7</th>\n",
              "      <td>Если однако можно найти компромисс между зелён...</td>\n",
              "      <td>Если однако можно найти компромисс между зелён...</td>\n",
              "    </tr>\n",
              "    <tr>\n",
              "      <th>8</th>\n",
              "      <td>Темпельхофское поле несомненно стоит использов...</td>\n",
              "      <td>Темпельхофское поле несомненно стоит использов...</td>\n",
              "    </tr>\n",
              "    <tr>\n",
              "      <th>9</th>\n",
              "      <td>Как фармацевт я категорически выступаю за прод...</td>\n",
              "      <td>None</td>\n",
              "    </tr>\n",
              "    <tr>\n",
              "      <th>10</th>\n",
              "      <td>С медицинской точки зрения противозачаточные р...</td>\n",
              "      <td>Как фармацевт</td>\n",
              "    </tr>\n",
              "  </tbody>\n",
              "</table>\n",
              "</div>"
            ],
            "text/plain": [
              "                                                   зс                                               proj\n",
              "0     В течение многих лет в Берлине не хватало жилья    В течение многих лет в Берлине не хватало жилья\n",
              "1            поэтому использовать Темпельхофское поле           поэтому использовать Темпельхофское поле\n",
              "2   предоставляющее огромное и почти не используем...  предоставляющее огромное и почти не используем...\n",
              "3        под жилые дома представляется разумной идеей       под жилые дома представляется разумной идеей\n",
              "4   Так как территория принадлежит федеративному г...  Так как территория принадлежит федеративному г...\n",
              "5   её можно было бы использовать даже как социаль...  её можно было бы использовать даже как социаль...\n",
              "6   Необходимо признать что поля стали привлекател...  Необходимо признать что поля стали привлекател...\n",
              "7   Если однако можно найти компромисс между зелён...  Если однако можно найти компромисс между зелён...\n",
              "8   Темпельхофское поле несомненно стоит использов...  Темпельхофское поле несомненно стоит использов...\n",
              "9   Как фармацевт я категорически выступаю за прод...                                               None\n",
              "10  С медицинской точки зрения противозачаточные р...                                      Как фармацевт"
            ]
          },
          "metadata": {
            "tags": []
          },
          "execution_count": 405
        }
      ]
    },
    {
      "cell_type": "code",
      "metadata": {
        "id": "kJMpmiIsgVB3"
      },
      "source": [
        "#golden = pd.read_csv('golden.csv')\n",
        "golden = pd.read_csv('segm_final.csv')"
      ],
      "execution_count": null,
      "outputs": []
    },
    {
      "cell_type": "code",
      "metadata": {
        "id": "daQzp8Ch7sA-"
      },
      "source": [
        "new_g_data = []\n",
        "for ind, row in golden.iterrows():\n",
        "  if ind <= 352:\n",
        "    new_g_data.append(row['зс'])"
      ],
      "execution_count": null,
      "outputs": []
    },
    {
      "cell_type": "code",
      "metadata": {
        "colab": {
          "base_uri": "https://localhost:8080/"
        },
        "id": "46ZZWk-L8rqv",
        "outputId": "5a5ba792-a6f8-47c4-e5ca-eec393facf45"
      },
      "source": [
        "len(new_g_data)"
      ],
      "execution_count": null,
      "outputs": [
        {
          "output_type": "execute_result",
          "data": {
            "text/plain": [
              "353"
            ]
          },
          "metadata": {
            "tags": []
          },
          "execution_count": 238
        }
      ]
    },
    {
      "cell_type": "code",
      "metadata": {
        "colab": {
          "base_uri": "https://localhost:8080/"
        },
        "id": "ZiRTN3Gl8umc",
        "outputId": "e33dc8f8-ef89-49ba-aeba-557a88eefe19"
      },
      "source": [
        "new_g_data[-2:]"
      ],
      "execution_count": null,
      "outputs": [
        {
          "output_type": "execute_result",
          "data": {
            "text/plain": [
              "['И всё же никто не должен быть обязан работать больше 40 лет.',\n",
              " 'Повышение относительного пенсионного возраста на основании состояния здоровья рядового гражданина – это справедливо.']"
            ]
          },
          "metadata": {
            "tags": []
          },
          "execution_count": 120
        }
      ]
    },
    {
      "cell_type": "code",
      "metadata": {
        "id": "kt--C3XGipMT"
      },
      "source": [
        "new_g_data = list(golden['зс'])"
      ],
      "execution_count": null,
      "outputs": []
    },
    {
      "cell_type": "code",
      "metadata": {
        "id": "lJYBevWFj1TS"
      },
      "source": [
        "while len(new_g_data) != len(list(df['зс'])):\n",
        "  new_g_data.append('None')"
      ],
      "execution_count": null,
      "outputs": []
    },
    {
      "cell_type": "code",
      "metadata": {
        "id": "RsjvJ8HsgaCn"
      },
      "source": [
        "df['зс'] = new_g_data"
      ],
      "execution_count": null,
      "outputs": []
    },
    {
      "cell_type": "code",
      "metadata": {
        "colab": {
          "base_uri": "https://localhost:8080/",
          "height": 390
        },
        "id": "zsZJ3yixgquU",
        "outputId": "aa5f2b2e-774a-496a-c4e7-d80c1ea68989"
      },
      "source": [
        "df.head(11)"
      ],
      "execution_count": null,
      "outputs": [
        {
          "output_type": "execute_result",
          "data": {
            "text/html": [
              "<div>\n",
              "<style scoped>\n",
              "    .dataframe tbody tr th:only-of-type {\n",
              "        vertical-align: middle;\n",
              "    }\n",
              "\n",
              "    .dataframe tbody tr th {\n",
              "        vertical-align: top;\n",
              "    }\n",
              "\n",
              "    .dataframe thead th {\n",
              "        text-align: right;\n",
              "    }\n",
              "</style>\n",
              "<table border=\"1\" class=\"dataframe\">\n",
              "  <thead>\n",
              "    <tr style=\"text-align: right;\">\n",
              "      <th></th>\n",
              "      <th>зс</th>\n",
              "      <th>proj</th>\n",
              "    </tr>\n",
              "  </thead>\n",
              "  <tbody>\n",
              "    <tr>\n",
              "      <th>0</th>\n",
              "      <td>В течение многих лет в Берлине не хватало жилья</td>\n",
              "      <td>В течение многих лет в Берлине не хватало жилья</td>\n",
              "    </tr>\n",
              "    <tr>\n",
              "      <th>1</th>\n",
              "      <td>поэтому использовать Темпельхофское поле</td>\n",
              "      <td>поэтому использовать Темпельхофское поле</td>\n",
              "    </tr>\n",
              "    <tr>\n",
              "      <th>2</th>\n",
              "      <td>предоставляющее огромное и почти не используем...</td>\n",
              "      <td>предоставляющее огромное и почти не используем...</td>\n",
              "    </tr>\n",
              "    <tr>\n",
              "      <th>3</th>\n",
              "      <td>под жилые дома представляется разумной идеей</td>\n",
              "      <td>под жилые дома представляется разумной идеей</td>\n",
              "    </tr>\n",
              "    <tr>\n",
              "      <th>4</th>\n",
              "      <td>Так как территория принадлежит федеративному г...</td>\n",
              "      <td>Так как территория принадлежит федеративному г...</td>\n",
              "    </tr>\n",
              "    <tr>\n",
              "      <th>5</th>\n",
              "      <td>её можно было бы использовать даже как социаль...</td>\n",
              "      <td>её можно было бы использовать даже как социаль...</td>\n",
              "    </tr>\n",
              "    <tr>\n",
              "      <th>6</th>\n",
              "      <td>Необходимо признать что поля стали привлекател...</td>\n",
              "      <td>Необходимо признать что поля стали привлекател...</td>\n",
              "    </tr>\n",
              "    <tr>\n",
              "      <th>7</th>\n",
              "      <td>Если однако можно найти компромисс между зелён...</td>\n",
              "      <td>Если однако можно найти компромисс между зелён...</td>\n",
              "    </tr>\n",
              "    <tr>\n",
              "      <th>8</th>\n",
              "      <td>Темпельхофское поле несомненно стоит использов...</td>\n",
              "      <td>Темпельхофское поле несомненно стоит использов...</td>\n",
              "    </tr>\n",
              "    <tr>\n",
              "      <th>9</th>\n",
              "      <td>Как фармацевт я категорически выступаю за прод...</td>\n",
              "      <td>None</td>\n",
              "    </tr>\n",
              "    <tr>\n",
              "      <th>10</th>\n",
              "      <td>С медицинской точки зрения противозачаточные р...</td>\n",
              "      <td>Как фармацевт</td>\n",
              "    </tr>\n",
              "  </tbody>\n",
              "</table>\n",
              "</div>"
            ],
            "text/plain": [
              "                                                   зс                                               proj\n",
              "0     В течение многих лет в Берлине не хватало жилья    В течение многих лет в Берлине не хватало жилья\n",
              "1            поэтому использовать Темпельхофское поле           поэтому использовать Темпельхофское поле\n",
              "2   предоставляющее огромное и почти не используем...  предоставляющее огромное и почти не используем...\n",
              "3        под жилые дома представляется разумной идеей       под жилые дома представляется разумной идеей\n",
              "4   Так как территория принадлежит федеративному г...  Так как территория принадлежит федеративному г...\n",
              "5   её можно было бы использовать даже как социаль...  её можно было бы использовать даже как социаль...\n",
              "6   Необходимо признать что поля стали привлекател...  Необходимо признать что поля стали привлекател...\n",
              "7   Если однако можно найти компромисс между зелён...  Если однако можно найти компромисс между зелён...\n",
              "8   Темпельхофское поле несомненно стоит использов...  Темпельхофское поле несомненно стоит использов...\n",
              "9   Как фармацевт я категорически выступаю за прод...                                               None\n",
              "10  С медицинской точки зрения противозачаточные р...                                      Как фармацевт"
            ]
          },
          "metadata": {
            "tags": []
          },
          "execution_count": 373
        }
      ]
    },
    {
      "cell_type": "code",
      "metadata": {
        "id": "k72w0QdI9ZbF"
      },
      "source": [
        "#для обработки rule_morph\n",
        "df = df_proj"
      ],
      "execution_count": null,
      "outputs": []
    },
    {
      "cell_type": "code",
      "metadata": {
        "colab": {
          "base_uri": "https://localhost:8080/"
        },
        "id": "U5dGny3yeQ2U",
        "outputId": "c18705f7-ffe5-4c7c-bcda-25e40e06f861"
      },
      "source": [
        "cols = list(df.columns)\n",
        "print(cols)"
      ],
      "execution_count": null,
      "outputs": [
        {
          "output_type": "stream",
          "text": [
            "['зс', 'proj']\n"
          ],
          "name": "stdout"
        }
      ]
    },
    {
      "cell_type": "code",
      "metadata": {
        "id": "tipWKsSDvWNb"
      },
      "source": [
        "df = df.drop('Unnamed: 0', axis = 1).reset_index(drop = True)"
      ],
      "execution_count": null,
      "outputs": []
    },
    {
      "cell_type": "code",
      "metadata": {
        "id": "O3ST7A1VhgKc"
      },
      "source": [
        "for col in cols:\n",
        "  df[col] = df[col].fillna('None')"
      ],
      "execution_count": null,
      "outputs": []
    },
    {
      "cell_type": "code",
      "metadata": {
        "id": "tqBhWAy7h_5W"
      },
      "source": [
        "import re"
      ],
      "execution_count": null,
      "outputs": []
    },
    {
      "cell_type": "code",
      "metadata": {
        "id": "2A-zghwEenvm"
      },
      "source": [
        "for i, row in df.iterrows():\n",
        "  for col in cols:    \n",
        "    if row[col] == '\\n':\n",
        "      row[col] = 'None'\n",
        "    if row[col] == 'none':\n",
        "      row[col] = 'None'\n",
        "    if row[col] != 'None':\n",
        "      row[col] = ' '.join(row[col].split())\n",
        "    row[col] = re.sub(\"[^\\s\\w]+\", \" \", row[col])\n",
        "    row[col] = re.sub('  +', ' ', row[col])\n",
        "    if row[col][0] == ' ':\n",
        "      row[col] = row[col][1:]\n",
        "    if row[col][-1] == ' ':\n",
        "      row[col] = row[col][:-1]\n",
        "    if row[col] == ' ':\n",
        "      row[col] = 'None'\n",
        "      print('done')"
      ],
      "execution_count": null,
      "outputs": []
    },
    {
      "cell_type": "code",
      "metadata": {
        "id": "6q8bY_MniWCM"
      },
      "source": [
        "drop_ids = []\n",
        "for i, row in df.iterrows():\n",
        "  if row[cols[0]] == 'None' and row[cols[1]] == 'None' and row[cols[2]] == 'None' and row[cols[3]] == 'None' and row[cols[4]] == 'None' and row[cols[5]] == 'None' and row[cols[6]] == 'None' and row[cols[7]] == 'None' and row[cols[8]] == 'None' and row[cols[9]] == 'None':\n",
        "    drop_ids.append(i)"
      ],
      "execution_count": null,
      "outputs": []
    },
    {
      "cell_type": "code",
      "metadata": {
        "colab": {
          "base_uri": "https://localhost:8080/"
        },
        "id": "9BTLPT7ZdI9y",
        "outputId": "179fa90d-630f-4d7d-dcce-f3328577252e"
      },
      "source": [
        "len(cols), cols[8]"
      ],
      "execution_count": null,
      "outputs": [
        {
          "output_type": "execute_result",
          "data": {
            "text/plain": [
              "(9, 'rule_1__rule_morph')"
            ]
          },
          "metadata": {
            "tags": []
          },
          "execution_count": 10
        }
      ]
    },
    {
      "cell_type": "code",
      "metadata": {
        "id": "dVMe5uGxdIKE"
      },
      "source": [
        "drop_ids = []\n",
        "for i, row in df.iterrows():\n",
        "  if row[cols[0]] == 'None' and row[cols[1]] == 'None' and row[cols[2]] == 'None' and row[cols[3]] == 'None' and row[cols[4]] == 'None' and row[cols[5]] == 'None' and row[cols[6]] == 'None' and row[cols[7]] == 'None' and row[cols[8]] == 'None' and row[cols[9]] == 'None':\n",
        "    drop_ids.append(i)"
      ],
      "execution_count": null,
      "outputs": []
    },
    {
      "cell_type": "code",
      "metadata": {
        "id": "sLIpDFPTSunV"
      },
      "source": [
        "\"\"\"drop_ids = []\n",
        "for i, row in df.iterrows():\n",
        "  if row[cols[0]] == 'None' and row[cols[1]] == 'None' and row[cols[2]] == 'None' and row[cols[3]] == 'None' and row[cols[4]] == 'None' and row[cols[5]] == 'None' and row[cols[6]] == 'None' and row[cols[7]] == 'None' and row[cols[8]] == 'None':\n",
        "    drop_ids.append(i)\"\"\""
      ],
      "execution_count": null,
      "outputs": []
    },
    {
      "cell_type": "code",
      "metadata": {
        "id": "PkRS3J7IiGBi"
      },
      "source": [
        "\"\"\"drop_ids = []\n",
        "for i, row in df.iterrows():\n",
        "  if row[cols[0]] == 'None' and row[cols[1]] == 'None':\n",
        "    drop_ids.append(i)\"\"\""
      ],
      "execution_count": null,
      "outputs": []
    },
    {
      "cell_type": "code",
      "metadata": {
        "colab": {
          "base_uri": "https://localhost:8080/"
        },
        "id": "X-sG5BoQ5-ry",
        "outputId": "a19f9720-32c6-4cd2-c662-552ba3c73882"
      },
      "source": [
        "len(drop_ids)"
      ],
      "execution_count": null,
      "outputs": [
        {
          "output_type": "execute_result",
          "data": {
            "text/plain": [
              "1"
            ]
          },
          "metadata": {
            "tags": []
          },
          "execution_count": 411
        }
      ]
    },
    {
      "cell_type": "code",
      "metadata": {
        "id": "CT6C6MzfjZkM"
      },
      "source": [
        "df = df.drop(drop_ids).reset_index(drop=True)"
      ],
      "execution_count": null,
      "outputs": []
    },
    {
      "cell_type": "code",
      "metadata": {
        "id": "IG4L4dpHrGDz",
        "colab": {
          "base_uri": "https://localhost:8080/"
        },
        "outputId": "03b831d1-657a-42fb-d70a-866cf4911925"
      },
      "source": [
        "new_golden = []\n",
        "glist = list(df['зс'])\n",
        "print(len(glist))\n",
        "for i in range(len(glist)):\n",
        "  if glist[i] == 'None':\n",
        "    continue\n",
        "  else:\n",
        "    new_golden.append(glist[i])\n",
        "\n",
        "print(len(new_golden))\n",
        "\n",
        "while len(new_golden) != len(list(df['зс'])):\n",
        "  new_golden.append('None')"
      ],
      "execution_count": null,
      "outputs": [
        {
          "output_type": "stream",
          "text": [
            "236\n",
            "191\n"
          ],
          "name": "stdout"
        }
      ]
    },
    {
      "cell_type": "code",
      "metadata": {
        "id": "TROgcZEsrJet"
      },
      "source": [
        "df['зс'] = new_golden"
      ],
      "execution_count": null,
      "outputs": []
    },
    {
      "cell_type": "code",
      "metadata": {
        "colab": {
          "base_uri": "https://localhost:8080/",
          "height": 390
        },
        "id": "sNgFKtzjr3Xk",
        "outputId": "208aca78-eb0b-4ed0-8bec-152d266a054c"
      },
      "source": [
        "df.head(11)"
      ],
      "execution_count": null,
      "outputs": [
        {
          "output_type": "execute_result",
          "data": {
            "text/html": [
              "<div>\n",
              "<style scoped>\n",
              "    .dataframe tbody tr th:only-of-type {\n",
              "        vertical-align: middle;\n",
              "    }\n",
              "\n",
              "    .dataframe tbody tr th {\n",
              "        vertical-align: top;\n",
              "    }\n",
              "\n",
              "    .dataframe thead th {\n",
              "        text-align: right;\n",
              "    }\n",
              "</style>\n",
              "<table border=\"1\" class=\"dataframe\">\n",
              "  <thead>\n",
              "    <tr style=\"text-align: right;\">\n",
              "      <th></th>\n",
              "      <th>зс</th>\n",
              "      <th>proj</th>\n",
              "    </tr>\n",
              "  </thead>\n",
              "  <tbody>\n",
              "    <tr>\n",
              "      <th>0</th>\n",
              "      <td>В течение многих лет в Берлине не хватало жилья</td>\n",
              "      <td>В течение многих лет в Берлине не хватало жилья</td>\n",
              "    </tr>\n",
              "    <tr>\n",
              "      <th>1</th>\n",
              "      <td>поэтому использовать Темпельхофское поле</td>\n",
              "      <td>поэтому использовать Темпельхофское поле</td>\n",
              "    </tr>\n",
              "    <tr>\n",
              "      <th>2</th>\n",
              "      <td>предоставляющее огромное и почти не используем...</td>\n",
              "      <td>предоставляющее огромное и почти не используем...</td>\n",
              "    </tr>\n",
              "    <tr>\n",
              "      <th>3</th>\n",
              "      <td>под жилые дома представляется разумной идеей</td>\n",
              "      <td>под жилые дома представляется разумной идеей</td>\n",
              "    </tr>\n",
              "    <tr>\n",
              "      <th>4</th>\n",
              "      <td>Так как территория принадлежит федеративному г...</td>\n",
              "      <td>Так как территория принадлежит федеративному г...</td>\n",
              "    </tr>\n",
              "    <tr>\n",
              "      <th>5</th>\n",
              "      <td>её можно было бы использовать даже как социаль...</td>\n",
              "      <td>её можно было бы использовать даже как социаль...</td>\n",
              "    </tr>\n",
              "    <tr>\n",
              "      <th>6</th>\n",
              "      <td>Необходимо признать что поля стали привлекател...</td>\n",
              "      <td>Необходимо признать что поля стали привлекател...</td>\n",
              "    </tr>\n",
              "    <tr>\n",
              "      <th>7</th>\n",
              "      <td>Если однако можно найти компромисс между зелён...</td>\n",
              "      <td>Если однако можно найти компромисс между зелён...</td>\n",
              "    </tr>\n",
              "    <tr>\n",
              "      <th>8</th>\n",
              "      <td>Темпельхофское поле несомненно стоит использов...</td>\n",
              "      <td>Темпельхофское поле несомненно стоит использов...</td>\n",
              "    </tr>\n",
              "    <tr>\n",
              "      <th>9</th>\n",
              "      <td>Как фармацевт я категорически выступаю за прод...</td>\n",
              "      <td>None</td>\n",
              "    </tr>\n",
              "    <tr>\n",
              "      <th>10</th>\n",
              "      <td>С медицинской точки зрения противозачаточные р...</td>\n",
              "      <td>Как фармацевт</td>\n",
              "    </tr>\n",
              "  </tbody>\n",
              "</table>\n",
              "</div>"
            ],
            "text/plain": [
              "                                                   зс                                               proj\n",
              "0     В течение многих лет в Берлине не хватало жилья    В течение многих лет в Берлине не хватало жилья\n",
              "1            поэтому использовать Темпельхофское поле           поэтому использовать Темпельхофское поле\n",
              "2   предоставляющее огромное и почти не используем...  предоставляющее огромное и почти не используем...\n",
              "3        под жилые дома представляется разумной идеей       под жилые дома представляется разумной идеей\n",
              "4   Так как территория принадлежит федеративному г...  Так как территория принадлежит федеративному г...\n",
              "5   её можно было бы использовать даже как социаль...  её можно было бы использовать даже как социаль...\n",
              "6   Необходимо признать что поля стали привлекател...  Необходимо признать что поля стали привлекател...\n",
              "7   Если однако можно найти компромисс между зелён...  Если однако можно найти компромисс между зелён...\n",
              "8   Темпельхофское поле несомненно стоит использов...  Темпельхофское поле несомненно стоит использов...\n",
              "9   Как фармацевт я категорически выступаю за прод...                                               None\n",
              "10  С медицинской точки зрения противозачаточные р...                                      Как фармацевт"
            ]
          },
          "metadata": {
            "tags": []
          },
          "execution_count": 381
        }
      ]
    },
    {
      "cell_type": "markdown",
      "source": [
        "# save preprocess data"
      ],
      "metadata": {
        "id": "iFQiZe8v1zZ8"
      }
    },
    {
      "cell_type": "code",
      "metadata": {
        "id": "AC2k-HTeDfZ2"
      },
      "source": [
        "df.to_csv('proj_test_clean.csv')"
      ],
      "execution_count": null,
      "outputs": []
    },
    {
      "cell_type": "code",
      "metadata": {
        "id": "4QjaF6rkxv4o"
      },
      "source": [
        "df.to_csv('proj_train.csv')"
      ],
      "execution_count": null,
      "outputs": []
    },
    {
      "cell_type": "code",
      "metadata": {
        "id": "ZBOUP2Mf0r35"
      },
      "source": [
        "df.to_csv('all_segm_Kesha_5_test_clean.csv')"
      ],
      "execution_count": null,
      "outputs": []
    },
    {
      "cell_type": "code",
      "metadata": {
        "id": "4AOsk9qXdmCa"
      },
      "source": [
        "df.to_csv('all_segm_Kesha_5_train_clean.csv')"
      ],
      "execution_count": null,
      "outputs": []
    },
    {
      "cell_type": "code",
      "metadata": {
        "id": "wLnFYSDI-IRH"
      },
      "source": [
        "df.to_csv('rule_1__rule_morph_2ver_2.csv')"
      ],
      "execution_count": null,
      "outputs": []
    },
    {
      "cell_type": "code",
      "metadata": {
        "id": "tXXF7TL3p51L"
      },
      "source": [
        "df.to_csv('all_segm_Kesha_2.csv')"
      ],
      "execution_count": null,
      "outputs": []
    },
    {
      "cell_type": "code",
      "metadata": {
        "id": "253fbcNT6yFJ"
      },
      "source": [
        "#final gs\n",
        "df.to_csv('all_segm_Kesha_3.csv')"
      ],
      "execution_count": null,
      "outputs": []
    },
    {
      "cell_type": "code",
      "metadata": {
        "id": "F1rTRz4f9Bxl"
      },
      "source": [
        "#final gs 50 texts\n",
        "df.to_csv('all_segm_Kesha_3_50.csv')"
      ],
      "execution_count": null,
      "outputs": []
    },
    {
      "cell_type": "code",
      "metadata": {
        "id": "4EVG5FdmTBS1"
      },
      "source": [
        "#fixed data\n",
        "df.to_csv('all_segm_Kesha_4_2.csv')"
      ],
      "execution_count": null,
      "outputs": []
    },
    {
      "cell_type": "code",
      "metadata": {
        "id": "NTExYnb3qhHH"
      },
      "source": [
        "df.to_csv('data_proj_all_2.csv')"
      ],
      "execution_count": null,
      "outputs": []
    },
    {
      "cell_type": "code",
      "metadata": {
        "id": "G9U8SsezPEDD"
      },
      "source": [
        "df.to_csv('data_proj_all_3_50.csv')"
      ],
      "execution_count": null,
      "outputs": []
    },
    {
      "cell_type": "markdown",
      "metadata": {
        "id": "qP0eqCiAp-Mc"
      },
      "source": [
        "# no order eval"
      ]
    },
    {
      "cell_type": "code",
      "metadata": {
        "id": "x73KzFTsrHSk"
      },
      "source": [
        "import pandas as pd\n",
        "\n",
        "df = pd.read_csv('all_segm_Kesha_2.csv')\n",
        "df_proj = pd.read_csv('data_proj_all_2.csv')"
      ],
      "execution_count": null,
      "outputs": []
    },
    {
      "cell_type": "code",
      "metadata": {
        "id": "gbJR-F717Fh_"
      },
      "source": [
        "df_morph = pd.read_csv('rule_1__rule_morph_2ver_2.csv')"
      ],
      "execution_count": null,
      "outputs": []
    },
    {
      "cell_type": "code",
      "metadata": {
        "colab": {
          "base_uri": "https://localhost:8080/",
          "height": 204
        },
        "id": "NGVpCEVf8FDW",
        "outputId": "e51bad11-d109-4a4e-ddb4-316260824ab7"
      },
      "source": [
        "df_morph.head()"
      ],
      "execution_count": null,
      "outputs": [
        {
          "output_type": "execute_result",
          "data": {
            "text/html": [
              "<div>\n",
              "<style scoped>\n",
              "    .dataframe tbody tr th:only-of-type {\n",
              "        vertical-align: middle;\n",
              "    }\n",
              "\n",
              "    .dataframe tbody tr th {\n",
              "        vertical-align: top;\n",
              "    }\n",
              "\n",
              "    .dataframe thead th {\n",
              "        text-align: right;\n",
              "    }\n",
              "</style>\n",
              "<table border=\"1\" class=\"dataframe\">\n",
              "  <thead>\n",
              "    <tr style=\"text-align: right;\">\n",
              "      <th></th>\n",
              "      <th>0</th>\n",
              "    </tr>\n",
              "  </thead>\n",
              "  <tbody>\n",
              "    <tr>\n",
              "      <th>0</th>\n",
              "      <td>Да, очень раздражает</td>\n",
              "    </tr>\n",
              "    <tr>\n",
              "      <th>1</th>\n",
              "      <td>и утомляет все время сортировать мусор правильно.</td>\n",
              "    </tr>\n",
              "    <tr>\n",
              "      <th>2</th>\n",
              "      <td>На кухне воняют три разных мешка для мусора.</td>\n",
              "    </tr>\n",
              "    <tr>\n",
              "      <th>3</th>\n",
              "      <td>Их нужно отсортировать в разные мусорные баки.</td>\n",
              "    </tr>\n",
              "    <tr>\n",
              "      <th>4</th>\n",
              "      <td>Но все же Германия производит слишком много му...</td>\n",
              "    </tr>\n",
              "  </tbody>\n",
              "</table>\n",
              "</div>"
            ],
            "text/plain": [
              "                                                   0\n",
              "0                               Да, очень раздражает\n",
              "1  и утомляет все время сортировать мусор правильно.\n",
              "2       На кухне воняют три разных мешка для мусора.\n",
              "3     Их нужно отсортировать в разные мусорные баки.\n",
              "4  Но все же Германия производит слишком много му..."
            ]
          },
          "metadata": {
            "tags": []
          },
          "execution_count": 11
        }
      ]
    },
    {
      "cell_type": "code",
      "metadata": {
        "id": "Qno6VlU-yCWg"
      },
      "source": [
        "def rough_acc(df, col):\n",
        "  \"\"\"Accuracy без учёта порядка сегментов\"\"\"\n",
        "  \n",
        "  agree = 0\n",
        "  nones = 0\n",
        "  for i, row in df.iterrows():\n",
        "    if row['зс'] in list(df[col]) and row['зс'] != 'None':\n",
        "      agree += 1\n",
        "    elif row['зс'] == 'None':\n",
        "      nones += 1\n",
        "  #print(agree, nones, agree+nones, df.shape[0])\n",
        "  return agree/gsize"
      ],
      "execution_count": null,
      "outputs": []
    },
    {
      "cell_type": "code",
      "metadata": {
        "colab": {
          "base_uri": "https://localhost:8080/"
        },
        "id": "bbFqzNbbxA39",
        "outputId": "04b888f0-ce29-47bb-8466-f069d9fe1953"
      },
      "source": [
        "#old\n",
        "proj_acc"
      ],
      "execution_count": null,
      "outputs": [
        {
          "output_type": "execute_result",
          "data": {
            "text/plain": [
              "0.8793604651162791"
            ]
          },
          "metadata": {
            "tags": []
          },
          "execution_count": 394
        }
      ]
    },
    {
      "cell_type": "code",
      "metadata": {
        "id": "eyTXFOF72tuW",
        "colab": {
          "base_uri": "https://localhost:8080/"
        },
        "outputId": "31be0227-b6d2-4df3-bea0-1bafa2e8eed3"
      },
      "source": [
        "#old\n",
        "proj_acc"
      ],
      "execution_count": null,
      "outputs": [
        {
          "output_type": "execute_result",
          "data": {
            "text/plain": [
              "0.9060324825986079"
            ]
          },
          "metadata": {
            "tags": []
          },
          "execution_count": 280
        }
      ]
    },
    {
      "cell_type": "code",
      "metadata": {
        "colab": {
          "base_uri": "https://localhost:8080/"
        },
        "id": "Uzvjzz6Jtmjx",
        "outputId": "6f7b6d34-af85-46f1-b956-ae5506c08e5d"
      },
      "source": [
        "rough_acc(df_proj, 'proj')"
      ],
      "execution_count": null,
      "outputs": [
        {
          "output_type": "execute_result",
          "data": {
            "text/plain": [
              "0.8827785817655571"
            ]
          },
          "metadata": {
            "tags": []
          },
          "execution_count": 65
        }
      ]
    },
    {
      "cell_type": "code",
      "metadata": {
        "colab": {
          "base_uri": "https://localhost:8080/"
        },
        "id": "hNEs4YDDuuIC",
        "outputId": "cee3f646-cc46-4be1-adff-a7dab4922703"
      },
      "source": [
        "gsize = 0\n",
        "for i, row in df.iterrows():\n",
        "  if row['зс'] != 'None':\n",
        "    gsize += 1\n",
        "gsize"
      ],
      "execution_count": null,
      "outputs": [
        {
          "output_type": "execute_result",
          "data": {
            "text/plain": [
              "287"
            ]
          },
          "metadata": {
            "tags": []
          },
          "execution_count": 9
        }
      ]
    },
    {
      "cell_type": "markdown",
      "metadata": {
        "id": "Ham9ecs-xwZP"
      },
      "source": [
        "New scores"
      ]
    },
    {
      "cell_type": "code",
      "metadata": {
        "colab": {
          "base_uri": "https://localhost:8080/"
        },
        "id": "20A82-fruBVs",
        "outputId": "9c0556dd-2151-48f7-cab0-e8e4de514b3a"
      },
      "source": [
        "rough_acc(df_proj, 'proj')"
      ],
      "execution_count": null,
      "outputs": [
        {
          "output_type": "execute_result",
          "data": {
            "text/plain": [
              "0.7142857142857143"
            ]
          },
          "metadata": {
            "tags": []
          },
          "execution_count": 85
        }
      ]
    },
    {
      "cell_type": "code",
      "metadata": {
        "colab": {
          "base_uri": "https://localhost:8080/"
        },
        "id": "vC-sEVu9zAmQ",
        "outputId": "f53cd706-1d17-40d7-aea6-76671a4ba43a"
      },
      "source": [
        "cols = list(df.columns)\n",
        "print(cols)"
      ],
      "execution_count": null,
      "outputs": [
        {
          "output_type": "stream",
          "text": [
            "['Unnamed: 0', 'зс', 'no rules', 'rule_1', 'rule_2', 'rule_3_mystem', 'rule_3', 'rule_1__rule2', 'rule_1__rule_3', 'rule_2__rule_3', 'rule_1__rule_2__rule_3']\n"
          ],
          "name": "stdout"
        }
      ]
    },
    {
      "cell_type": "code",
      "metadata": {
        "id": "NE4gegxo0jpk"
      },
      "source": [
        "rr = []\n",
        "for i in cols[2:]:\n",
        "  #print(f'{i} --- {rough_acc(i)}')\n",
        "  rr.append([i, rough_acc(df,i)])"
      ],
      "execution_count": null,
      "outputs": []
    },
    {
      "cell_type": "code",
      "metadata": {
        "colab": {
          "base_uri": "https://localhost:8080/"
        },
        "id": "332LBdzgzUI4",
        "outputId": "8bf1d018-91b7-4c35-d13d-fbc148cf49d6"
      },
      "source": [
        "sorted(rr, key = lambda x:x[1], reverse=True)"
      ],
      "execution_count": null,
      "outputs": [
        {
          "output_type": "execute_result",
          "data": {
            "text/plain": [
              "[['no rules', 0.8606271777003485],\n",
              " ['rule_1', 0.8606271777003485],\n",
              " ['rule_1__rule_3', 0.8606271777003485],\n",
              " ['rule_2__rule_3', 0.8606271777003485],\n",
              " ['rule_1__rule_2__rule_3', 0.8606271777003485],\n",
              " ['rule_3', 0.8571428571428571],\n",
              " ['rule_3_mystem', 0.8397212543554007],\n",
              " ['rule_2', 0.8118466898954704],\n",
              " ['rule_1__rule2', 0.8118466898954704]]"
            ]
          },
          "metadata": {
            "tags": []
          },
          "execution_count": 108
        }
      ]
    },
    {
      "cell_type": "code",
      "metadata": {
        "colab": {
          "base_uri": "https://localhost:8080/"
        },
        "id": "APKQ-fFU8BL7",
        "outputId": "ec545560-ad52-4239-b206-72f9df0a322d"
      },
      "source": [
        "#rule_1 + rule_morph\n",
        "rough_acc(df_morph, '0')"
      ],
      "execution_count": null,
      "outputs": [
        {
          "output_type": "execute_result",
          "data": {
            "text/plain": [
              "0.8780487804878049"
            ]
          },
          "metadata": {
            "tags": []
          },
          "execution_count": 37
        }
      ]
    },
    {
      "cell_type": "markdown",
      "metadata": {
        "id": "fAfp3Oxa1u75"
      },
      "source": [
        "# check missing values"
      ]
    },
    {
      "cell_type": "code",
      "metadata": {
        "id": "Co_XS-Yzhxul"
      },
      "source": [
        "import pandas as pd\n",
        "df = pd.read_csv('proj_test.csv')\n",
        "#df = pd.read_csv('proj_train.csv')\n",
        "#df = pd.read_csv('no_rules_train_clean.csv')\n",
        "#df = pd.read_csv('all_segm_Kesha_5_test_clean.csv')\n",
        "#df = pd.read_csv('all_segm_Kesha_5_train_clean.csv')\n",
        "#df = pd.read_csv('all_segm_Kesha_4_2_50.csv')\n",
        "#df_proj = pd.read_csv('data_proj_all_2.csv')\n",
        "#df_morph = pd.read_csv('rule_1__rule_morph_2ver_2.csv')"
      ],
      "execution_count": null,
      "outputs": []
    },
    {
      "cell_type": "code",
      "metadata": {
        "id": "35KtCCa0ANeD"
      },
      "source": [
        "#df_morph.rename(columns = {'0':'morph'}, inplace = True)"
      ],
      "execution_count": null,
      "outputs": []
    },
    {
      "cell_type": "code",
      "metadata": {
        "colab": {
          "base_uri": "https://localhost:8080/",
          "height": 204
        },
        "id": "JjpOZrN67Cwv",
        "outputId": "91749c18-9763-4d61-8e29-a3f452650284"
      },
      "source": [
        "df.head()"
      ],
      "execution_count": null,
      "outputs": [
        {
          "output_type": "execute_result",
          "data": {
            "text/html": [
              "<div>\n",
              "<style scoped>\n",
              "    .dataframe tbody tr th:only-of-type {\n",
              "        vertical-align: middle;\n",
              "    }\n",
              "\n",
              "    .dataframe tbody tr th {\n",
              "        vertical-align: top;\n",
              "    }\n",
              "\n",
              "    .dataframe thead th {\n",
              "        text-align: right;\n",
              "    }\n",
              "</style>\n",
              "<table border=\"1\" class=\"dataframe\">\n",
              "  <thead>\n",
              "    <tr style=\"text-align: right;\">\n",
              "      <th></th>\n",
              "      <th>зс</th>\n",
              "      <th>proj</th>\n",
              "    </tr>\n",
              "  </thead>\n",
              "  <tbody>\n",
              "    <tr>\n",
              "      <th>0</th>\n",
              "      <td>В течение многих лет в Берлине не хватало жилья</td>\n",
              "      <td>В течение многих лет в Берлине не хватало жилья</td>\n",
              "    </tr>\n",
              "    <tr>\n",
              "      <th>1</th>\n",
              "      <td>поэтому использовать Темпельхофское поле</td>\n",
              "      <td>поэтому использовать Темпельхофское поле</td>\n",
              "    </tr>\n",
              "    <tr>\n",
              "      <th>2</th>\n",
              "      <td>предоставляющее огромное и почти не используем...</td>\n",
              "      <td>предоставляющее огромное и почти не используем...</td>\n",
              "    </tr>\n",
              "    <tr>\n",
              "      <th>3</th>\n",
              "      <td>под жилые дома представляется разумной идеей</td>\n",
              "      <td>под жилые дома представляется разумной идеей</td>\n",
              "    </tr>\n",
              "    <tr>\n",
              "      <th>4</th>\n",
              "      <td>Так как территория принадлежит федеративному г...</td>\n",
              "      <td>Так как территория принадлежит федеративному г...</td>\n",
              "    </tr>\n",
              "  </tbody>\n",
              "</table>\n",
              "</div>"
            ],
            "text/plain": [
              "                                                  зс                                               proj\n",
              "0    В течение многих лет в Берлине не хватало жилья    В течение многих лет в Берлине не хватало жилья\n",
              "1           поэтому использовать Темпельхофское поле           поэтому использовать Темпельхофское поле\n",
              "2  предоставляющее огромное и почти не используем...  предоставляющее огромное и почти не используем...\n",
              "3       под жилые дома представляется разумной идеей       под жилые дома представляется разумной идеей\n",
              "4  Так как территория принадлежит федеративному г...  Так как территория принадлежит федеративному г..."
            ]
          },
          "metadata": {
            "tags": []
          },
          "execution_count": 400
        }
      ]
    },
    {
      "cell_type": "code",
      "metadata": {
        "id": "DgO4V2J_1xcC"
      },
      "source": [
        "df = df.drop('Unnamed: 0', axis = 1).reset_index(drop = True)\n",
        "#df_proj = df_proj.drop('Unnamed: 0', axis = 1).reset_index(drop = True)\n",
        "#df_morph = df_morph.drop('Unnamed: 0', axis = 1).reset_index(drop = True)"
      ],
      "execution_count": null,
      "outputs": []
    },
    {
      "cell_type": "code",
      "metadata": {
        "colab": {
          "base_uri": "https://localhost:8080/"
        },
        "id": "Z5F_iTr6gAQw",
        "outputId": "80ee54fa-c3bf-4bd9-8394-1d58434c07ea"
      },
      "source": [
        "df.shape#, df_proj.shape, df_morph.shape"
      ],
      "execution_count": null,
      "outputs": [
        {
          "output_type": "execute_result",
          "data": {
            "text/plain": [
              "(207, 2)"
            ]
          },
          "metadata": {
            "tags": []
          },
          "execution_count": 387
        }
      ]
    },
    {
      "cell_type": "code",
      "metadata": {
        "id": "oGzhPtIW7e8u"
      },
      "source": [
        "#обрежем ЗС"
      ],
      "execution_count": null,
      "outputs": []
    },
    {
      "cell_type": "code",
      "metadata": {
        "id": "A8GJrIX2gP9X"
      },
      "source": [
        "#df_proj = df_proj.drop('зс', axis = 1).reset_index(drop = True)"
      ],
      "execution_count": null,
      "outputs": []
    },
    {
      "cell_type": "code",
      "metadata": {
        "id": "wcx6yMHogDaA"
      },
      "source": [
        "#df_comp = df.join(df_proj)"
      ],
      "execution_count": null,
      "outputs": []
    },
    {
      "cell_type": "code",
      "metadata": {
        "id": "s7KNlYBQ0dmU"
      },
      "source": [
        "#df = df_comp"
      ],
      "execution_count": null,
      "outputs": []
    },
    {
      "cell_type": "code",
      "metadata": {
        "id": "T-WcpuLFg8i7"
      },
      "source": [
        "#for col in cols:\n",
        "#  df[col] = df[col].fillna('None')"
      ],
      "execution_count": null,
      "outputs": []
    },
    {
      "cell_type": "code",
      "metadata": {
        "colab": {
          "base_uri": "https://localhost:8080/"
        },
        "id": "a4LIF1Kc1-p-",
        "outputId": "93862ede-dcfd-4e07-ba6c-0017cd2bdf46"
      },
      "source": [
        "cols = list(df.columns)\n",
        "print(cols)\n",
        "#cols[2], cols[10]"
      ],
      "execution_count": null,
      "outputs": [
        {
          "output_type": "stream",
          "text": [
            "['зс', 'proj']\n"
          ],
          "name": "stdout"
        }
      ]
    },
    {
      "cell_type": "code",
      "metadata": {
        "id": "8reex-cNaE62"
      },
      "source": [
        "#for i in cols:\n",
        "#  df[i] = df[i].apply(str)"
      ],
      "execution_count": null,
      "outputs": []
    },
    {
      "cell_type": "code",
      "metadata": {
        "id": "-BJI1E9pcf8I"
      },
      "source": [
        "#for i in range(140, 170):\n",
        "#  print(f\"{i} -- {df[df.index == i]['зс'].values[0]} --- {df[df.index == i]['auto'].values[0]}\")"
      ],
      "execution_count": null,
      "outputs": []
    },
    {
      "cell_type": "code",
      "metadata": {
        "id": "FWZxepeVoAe7"
      },
      "source": [
        "def miss_check(df, col1, col2):\n",
        "  \"\"\"Проверяет разметку на наличие пропавших сегментов\"\"\"\n",
        "\n",
        "  l_true = df[col1].to_list()\n",
        "  l_big = df[col2].to_list()\n",
        "\n",
        "  miss_ids_true = [] #сегмента нет в ЗС\n",
        "  miss_ids_big = [] #сегмента нет в авторразметке\n",
        "  miss_true = []\n",
        "  miss_big = []\n",
        "\n",
        "  for i, row in df.iterrows():\n",
        "    k = 0\n",
        "    for j in l_big:\n",
        "      if row[col1][:13] in j:\n",
        "        k += 1\n",
        "    if k == 0:\n",
        "      for j in l_big:\n",
        "        if row[col1][13:25] in j:\n",
        "          k += 1    \n",
        "    if k == 0:\n",
        "      print(i, row[col1])\n",
        "      miss_ids_true.append(i)\n",
        "      miss_true.append(row[col1])\n",
        "  \n",
        "  #print('\\n')\n",
        "  for i, row in df.iterrows():\n",
        "    k = 0\n",
        "    for j in l_true:\n",
        "      if row[col2][:15] in j:\n",
        "        k += 1\n",
        "    if k == 0:\n",
        "      #print(i, row[col2])\n",
        "      miss_ids_big.append(i)\n",
        "      miss_big.append(row[col2])\n",
        "  \n",
        "  return miss_ids_true, miss_true, miss_ids_big, miss_big"
      ],
      "execution_count": null,
      "outputs": []
    },
    {
      "cell_type": "markdown",
      "metadata": {
        "id": "kUrkAzJ-T0mX"
      },
      "source": [
        "# 1 version data miss check (no train/test division)"
      ]
    },
    {
      "cell_type": "markdown",
      "source": [
        "Проходимся по каждому варианту разметку и смотрим, какие сегменты отсутстуют в разных вариантах разметки"
      ],
      "metadata": {
        "id": "IeKX31683qXC"
      }
    },
    {
      "cell_type": "code",
      "metadata": {
        "colab": {
          "base_uri": "https://localhost:8080/"
        },
        "id": "rvSGFi2OWnxv",
        "outputId": "f1b94fb8-be4a-4bc3-f7fc-a340ea26078a"
      },
      "source": [
        "#final gs + 50\n",
        "miss_ids_true, miss_true, miss_ids_big, miss_big = miss_check(df, cols[0], cols[1])"
      ],
      "execution_count": null,
      "outputs": [
        {
          "output_type": "stream",
          "text": [
            "108 Выходит дороговато\n",
            "119 Путь к исправлению должен остаться открыт\n",
            "280 Повышение относительного пенсионного возраста на основании состояния здоровья рядового гражданина это справедливо\n"
          ],
          "name": "stdout"
        }
      ]
    },
    {
      "cell_type": "code",
      "metadata": {
        "colab": {
          "base_uri": "https://localhost:8080/"
        },
        "id": "wNRLVPyo7UKJ",
        "outputId": "f08640c3-fda9-42a2-8cdd-5413428d88f6"
      },
      "source": [
        "#final gs + 50\n",
        "miss_ids_true, miss_true, miss_ids_big, miss_big = miss_check(df, cols[0], cols[2])"
      ],
      "execution_count": null,
      "outputs": [
        {
          "output_type": "stream",
          "text": [
            "108 Выходит дороговато\n",
            "119 Путь к исправлению должен остаться открыт\n",
            "280 Повышение относительного пенсионного возраста на основании состояния здоровья рядового гражданина это справедливо\n"
          ],
          "name": "stdout"
        }
      ]
    },
    {
      "cell_type": "code",
      "metadata": {
        "colab": {
          "base_uri": "https://localhost:8080/"
        },
        "id": "duoJVGDJXush",
        "outputId": "3166f1e6-831b-424a-d703-7d44e23c2c0b"
      },
      "source": [
        "#final gs + 50\n",
        "miss_ids_true, miss_true, miss_ids_big, miss_big = miss_check(df, cols[0], cols[3])"
      ],
      "execution_count": null,
      "outputs": [
        {
          "output_type": "stream",
          "text": [
            "108 Выходит дороговато\n",
            "119 Путь к исправлению должен остаться открыт\n",
            "280 Повышение относительного пенсионного возраста на основании состояния здоровья рядового гражданина это справедливо\n"
          ],
          "name": "stdout"
        }
      ]
    },
    {
      "cell_type": "code",
      "metadata": {
        "colab": {
          "base_uri": "https://localhost:8080/"
        },
        "id": "460x5-I5FZuU",
        "outputId": "26e938fd-8ab2-4c46-b5fa-738adfb4c017"
      },
      "source": [
        "#final gs + 50\n",
        "miss_ids_true, miss_true, miss_ids_big, miss_big = miss_check(df, cols[0], cols[4])"
      ],
      "execution_count": null,
      "outputs": [
        {
          "output_type": "stream",
          "text": [
            "108 Выходит дороговато\n",
            "119 Путь к исправлению должен остаться открыт\n",
            "280 Повышение относительного пенсионного возраста на основании состояния здоровья рядового гражданина это справедливо\n"
          ],
          "name": "stdout"
        }
      ]
    },
    {
      "cell_type": "code",
      "metadata": {
        "colab": {
          "base_uri": "https://localhost:8080/"
        },
        "id": "r-k6Sl2XHHM4",
        "outputId": "a163cc15-dd0c-4591-bdc0-314dd1eb1b84"
      },
      "source": [
        "#final gs + 50\n",
        "miss_ids_true, miss_true, miss_ids_big, miss_big = miss_check(df, cols[0], cols[5])"
      ],
      "execution_count": null,
      "outputs": [
        {
          "output_type": "stream",
          "text": [
            "61 а кто будет ставить под сомнение их объём опыта\n",
            "108 Выходит дороговато\n",
            "119 Путь к исправлению должен остаться открыт\n",
            "280 Повышение относительного пенсионного возраста на основании состояния здоровья рядового гражданина это справедливо\n"
          ],
          "name": "stdout"
        }
      ]
    },
    {
      "cell_type": "code",
      "metadata": {
        "colab": {
          "base_uri": "https://localhost:8080/"
        },
        "id": "FjJIqlBiCRYb",
        "outputId": "07814a61-a317-4e12-9dd2-b2abc0ef189c"
      },
      "source": [
        "#final gs + 50\n",
        "miss_ids_true, miss_true, miss_ids_big, miss_big = miss_check(df, cols[0], cols[6])"
      ],
      "execution_count": null,
      "outputs": [
        {
          "output_type": "stream",
          "text": [
            "108 Выходит дороговато\n",
            "119 Путь к исправлению должен остаться открыт\n",
            "280 Повышение относительного пенсионного возраста на основании состояния здоровья рядового гражданина это справедливо\n"
          ],
          "name": "stdout"
        }
      ]
    },
    {
      "cell_type": "code",
      "metadata": {
        "colab": {
          "base_uri": "https://localhost:8080/"
        },
        "id": "CfhK1No5DJmm",
        "outputId": "3966e4f4-a824-4255-c551-b3c8812a01fb"
      },
      "source": [
        "#final gs + 50\n",
        "miss_ids_true, miss_true, miss_ids_big, miss_big = miss_check(df, cols[0], cols[7])"
      ],
      "execution_count": null,
      "outputs": [
        {
          "output_type": "stream",
          "text": [
            "108 Выходит дороговато\n",
            "119 Путь к исправлению должен остаться открыт\n",
            "280 Повышение относительного пенсионного возраста на основании состояния здоровья рядового гражданина это справедливо\n"
          ],
          "name": "stdout"
        }
      ]
    },
    {
      "cell_type": "code",
      "metadata": {
        "colab": {
          "base_uri": "https://localhost:8080/"
        },
        "id": "AP6KbKtSEA4Q",
        "outputId": "78fddf55-b621-4e4b-caa7-4601d1cd8934"
      },
      "source": [
        "#final_gs + 50\n",
        "miss_ids_true, miss_true, miss_ids_big, miss_big = miss_check(df, cols[0], cols[8])"
      ],
      "execution_count": null,
      "outputs": [
        {
          "output_type": "stream",
          "text": [
            "108 Выходит дороговато\n",
            "119 Путь к исправлению должен остаться открыт\n",
            "280 Повышение относительного пенсионного возраста на основании состояния здоровья рядового гражданина это справедливо\n"
          ],
          "name": "stdout"
        }
      ]
    },
    {
      "cell_type": "code",
      "metadata": {
        "colab": {
          "base_uri": "https://localhost:8080/"
        },
        "id": "IFi73A8xEpig",
        "outputId": "272655e0-13d9-47ae-ff07-ab83d9c19b3e"
      },
      "source": [
        "#final gs + 50\n",
        "miss_ids_true, miss_true, miss_ids_big, miss_big = miss_check(df, cols[0], cols[9])"
      ],
      "execution_count": null,
      "outputs": [
        {
          "output_type": "stream",
          "text": [
            "108 Выходит дороговато\n",
            "119 Путь к исправлению должен остаться открыт\n",
            "280 Повышение относительного пенсионного возраста на основании состояния здоровья рядового гражданина это справедливо\n"
          ],
          "name": "stdout"
        }
      ]
    },
    {
      "cell_type": "code",
      "metadata": {
        "colab": {
          "base_uri": "https://localhost:8080/"
        },
        "id": "VRPeL_0GPjo7",
        "outputId": "59785d1d-1eb9-40f8-80f0-4455ff0361f4"
      },
      "source": [
        "#projected final gs\n",
        "miss_ids_true, miss_true, miss_ids_big, miss_big = miss_check(df, cols[0], cols[1])"
      ],
      "execution_count": null,
      "outputs": [
        {
          "output_type": "stream",
          "text": [
            "103 Т к скат шахматы и т д не признаются олимпийскими дисциплинами\n",
            "104 компьютерные игры также не должны признаваться таковыми\n",
            "125 потому что размеры желаемой жилплощади меняются с течением времени\n",
            "271 Но в ней могут быть допущены ошибки\n"
          ],
          "name": "stdout"
        }
      ]
    },
    {
      "cell_type": "code",
      "metadata": {
        "colab": {
          "base_uri": "https://localhost:8080/"
        },
        "id": "styVNiL2gcUf",
        "outputId": "880a9c7d-ab31-46a6-fe2d-f0fe626ab0c1"
      },
      "source": [
        "miss_ids_true, miss_true, miss_ids_big, miss_big = miss_check(df, cols[2], cols[10])"
      ],
      "execution_count": null,
      "outputs": [
        {
          "output_type": "stream",
          "text": [
            "140 Т к скат шахматы и т д не признаются олимпийскими дисциплинами\n",
            "141 компьютерные игры также не должны признаваться таковыми\n",
            "167 потому что размеры желаемой жилплощади меняются с течением времени\n",
            "349 Но в ней могут быть допущены ошибки\n",
            "546 Ральф утверждает что они вместе пили коктейль Адвокат\n",
            "547 но он бы и без бывшей к этому не притронулся\n",
            "590 Прототип нового спорткара Audi поднял шум в среде автолюбителей\n",
            "625 И это совершенно справедливо\n",
            "800 Кроме того для магазинов нет необходимости работать по воскресеньям\n",
            "838 Они должны проходить гинекологическое обследование\n",
            "839 прежде чем принимать эти таблетки\n"
          ],
          "name": "stdout"
        }
      ]
    },
    {
      "cell_type": "code",
      "metadata": {
        "colab": {
          "base_uri": "https://localhost:8080/"
        },
        "id": "T8hk_m0W_Ovq",
        "outputId": "e9d489c6-d61c-42d9-f11e-d0a366c19e0b"
      },
      "source": [
        "miss_ids_true, miss_true, miss_ids_big, miss_big = miss_check(df_morph, cols[0], cols[1])"
      ],
      "execution_count": null,
      "outputs": [
        {
          "output_type": "stream",
          "text": [
            "110 Выходит дороговато\n",
            "122 Путь к исправлению должен остаться открыт\n",
            "286 Повышение относительного пенсионного возраста на основании состояния здоровья рядового гражданина это справедливо\n"
          ],
          "name": "stdout"
        }
      ]
    },
    {
      "cell_type": "code",
      "metadata": {
        "colab": {
          "base_uri": "https://localhost:8080/"
        },
        "id": "vpLv0m-sA_TS",
        "outputId": "e847d626-0379-4aa4-f6ae-1abb2dd8f4cc"
      },
      "source": [
        "miss_ids_true, miss_true, miss_ids_big, miss_big = miss_check(df_morph, cols[0], cols[1])"
      ],
      "execution_count": null,
      "outputs": [
        {
          "output_type": "stream",
          "text": [
            "108 Выходит дороговато\n",
            "119 Путь к исправлению должен остаться открыт\n",
            "280 Повышение относительного пенсионного возраста на основании состояния здоровья рядового гражданина это справедливо\n"
          ],
          "name": "stdout"
        }
      ]
    },
    {
      "cell_type": "markdown",
      "metadata": {
        "id": "79biSjUwT9J1"
      },
      "source": [
        "# train data miss check"
      ]
    },
    {
      "cell_type": "code",
      "metadata": {
        "id": "8uMhGeJSUAVu"
      },
      "source": [
        "# rule_1\n",
        "miss_ids_true, miss_true, miss_ids_big, miss_big = miss_check(df, cols[0], cols[1])"
      ],
      "execution_count": null,
      "outputs": []
    },
    {
      "cell_type": "code",
      "metadata": {
        "id": "THHol_u2kL-M"
      },
      "source": [
        "# rule_2\n",
        "miss_ids_true, miss_true, miss_ids_big, miss_big = miss_check(df, cols[0], cols[2])"
      ],
      "execution_count": null,
      "outputs": []
    },
    {
      "cell_type": "code",
      "metadata": {
        "id": "ahUNqrF2k_xF",
        "colab": {
          "base_uri": "https://localhost:8080/"
        },
        "outputId": "516ebeaa-42a8-453e-f438-4dd9b21d97f3"
      },
      "source": [
        "# rule_3\n",
        "miss_ids_true, miss_true, miss_ids_big, miss_big = miss_check(df, cols[0], cols[3])\n",
        "#потеряный ЗС"
      ],
      "execution_count": null,
      "outputs": [
        {
          "output_type": "stream",
          "text": [
            "441 который включен в счет ежегодного оплачиваемого отпуска\n"
          ],
          "name": "stdout"
        }
      ]
    },
    {
      "cell_type": "code",
      "metadata": {
        "id": "chL9LQWw2eTl",
        "colab": {
          "base_uri": "https://localhost:8080/"
        },
        "outputId": "baf14398-1c04-458d-8494-30753704eca2"
      },
      "source": [
        "# rule_1_2\n",
        "miss_ids_true, miss_true, miss_ids_big, miss_big = miss_check(df, cols[0], cols[4])"
      ],
      "execution_count": null,
      "outputs": [
        {
          "output_type": "stream",
          "text": [
            "441 который включен в счет ежегодного оплачиваемого отпуска\n"
          ],
          "name": "stdout"
        }
      ]
    },
    {
      "cell_type": "code",
      "metadata": {
        "id": "yFPDaK4u3sAU"
      },
      "source": [
        "# rule_1_3\n",
        "miss_ids_true, miss_true, miss_ids_big, miss_big = miss_check(df, cols[0], cols[5])"
      ],
      "execution_count": null,
      "outputs": []
    },
    {
      "cell_type": "code",
      "metadata": {
        "id": "DtG3KNRz3yZO"
      },
      "source": [
        "# rule_2_3\n",
        "miss_ids_true, miss_true, miss_ids_big, miss_big = miss_check(df, cols[0], cols[6])"
      ],
      "execution_count": null,
      "outputs": []
    },
    {
      "cell_type": "code",
      "metadata": {
        "id": "Eu-axSrI5vLB"
      },
      "source": [
        "# rule_1_2_3\n",
        "miss_ids_true, miss_true, miss_ids_big, miss_big = miss_check(df, cols[0], cols[7])"
      ],
      "execution_count": null,
      "outputs": []
    },
    {
      "cell_type": "code",
      "metadata": {
        "colab": {
          "base_uri": "https://localhost:8080/"
        },
        "id": "ubGkvrXTL_Yr",
        "outputId": "8b0ef5af-2763-4403-b30c-9c995841fdd5"
      },
      "source": [
        "#rule_1__rule_morph\n",
        "miss_ids_true, miss_true, miss_ids_big, miss_big = miss_check(df, cols[0], cols[9])"
      ],
      "execution_count": null,
      "outputs": [
        {
          "output_type": "stream",
          "text": [
            "108 Выходит дороговато\n",
            "119 Путь к исправлению должен остаться открыт\n",
            "280 Повышение относительного пенсионного возраста на основании состояния здоровья рядового гражданина это справедливо\n",
            "410 Наличие смертной казни означало бы что люди могут ставить себя выше других и управлять чужими жизнями\n",
            "412 и за неё пришлось бы наказывать смертным приговором\n",
            "413 Что же тогда следует делать с преступниками которые совершили действительно ужасные преступления такие как убийство или изнасилование\n",
            "414 Можно ли позволить им жить дальше\n",
            "416 Да поскольку пожизненное заключение\n",
            "417 в условиях которого преступник будет подвергаться пыткам собственными мыслями\n",
            "418 является гораздо более суровым наказанием чем быстрая и легкая смерть от укола\n"
          ],
          "name": "stdout"
        }
      ]
    },
    {
      "cell_type": "code",
      "metadata": {
        "colab": {
          "base_uri": "https://localhost:8080/"
        },
        "id": "Deh6hQd3Ritc",
        "outputId": "6c9990ab-1e4c-4414-fae4-6fcba952e87c"
      },
      "source": [
        "#no_rules\n",
        "miss_ids_true, miss_true, miss_ids_big, miss_big = miss_check(df, cols[0], cols[1])"
      ],
      "execution_count": null,
      "outputs": [
        {
          "output_type": "stream",
          "text": [
            "108 Выходит дороговато\n",
            "119 Путь к исправлению должен остаться открыт\n",
            "280 Повышение относительного пенсионного возраста на основании состояния здоровья рядового гражданина это справедливо\n",
            "410 Наличие смертной казни означало бы что люди могут ставить себя выше других и управлять чужими жизнями\n",
            "412 и за неё пришлось бы наказывать смертным приговором\n",
            "413 Что же тогда следует делать с преступниками которые совершили действительно ужасные преступления такие как убийство или изнасилование\n",
            "414 Можно ли позволить им жить дальше\n",
            "416 Да поскольку пожизненное заключение\n",
            "417 в условиях которого преступник будет подвергаться пыткам собственными мыслями\n",
            "418 является гораздо более суровым наказанием чем быстрая и легкая смерть от укола\n"
          ],
          "name": "stdout"
        }
      ]
    },
    {
      "cell_type": "code",
      "metadata": {
        "colab": {
          "base_uri": "https://localhost:8080/"
        },
        "id": "uULO3zw6y7mG",
        "outputId": "20ba4fa2-96ed-475d-dc8d-ec5417dfda7a"
      },
      "source": [
        "#proj\n",
        "miss_ids_true, miss_true, miss_ids_big, miss_big = miss_check(df, cols[0], cols[1])"
      ],
      "execution_count": null,
      "outputs": [
        {
          "output_type": "stream",
          "text": [
            "103 Т к скат шахматы и т д не признаются олимпийскими дисциплинами\n",
            "104 компьютерные игры также не должны признаваться таковыми\n",
            "125 потому что размеры желаемой жилплощади меняются с течением времени\n",
            "271 Но в ней могут быть допущены ошибки\n",
            "364 Ральф утверждает что они вместе пили коктейль Адвокат\n",
            "365 но он бы и без бывшей к этому не притронулся\n",
            "373 И это совершенно справедливо\n",
            "401 Также на улицах и в магазинах предположительно будет меньше машин и людей\n"
          ],
          "name": "stdout"
        }
      ]
    },
    {
      "cell_type": "code",
      "metadata": {
        "id": "3v0yLiuf1IUe"
      },
      "source": [
        ""
      ],
      "execution_count": null,
      "outputs": []
    },
    {
      "cell_type": "markdown",
      "metadata": {
        "id": "P2nTSASV1NJE"
      },
      "source": [
        "# test data miss check"
      ]
    },
    {
      "cell_type": "code",
      "metadata": {
        "id": "axlr8HtK1NJF"
      },
      "source": [
        "# rule_1\n",
        "miss_ids_true, miss_true, miss_ids_big, miss_big = miss_check(df, cols[0], cols[1])"
      ],
      "execution_count": null,
      "outputs": []
    },
    {
      "cell_type": "code",
      "metadata": {
        "id": "aBliJqsD1NJG"
      },
      "source": [
        "# rule_2\n",
        "miss_ids_true, miss_true, miss_ids_big, miss_big = miss_check(df, cols[0], cols[2])"
      ],
      "execution_count": null,
      "outputs": []
    },
    {
      "cell_type": "code",
      "metadata": {
        "id": "8KGybNZt1NJH"
      },
      "source": [
        "# rule_3\n",
        "miss_ids_true, miss_true, miss_ids_big, miss_big = miss_check(df, cols[0], cols[3])\n",
        "#потеряный ЗС"
      ],
      "execution_count": null,
      "outputs": []
    },
    {
      "cell_type": "code",
      "metadata": {
        "id": "jddrLpEU1NJI"
      },
      "source": [
        "# rule_1_2\n",
        "miss_ids_true, miss_true, miss_ids_big, miss_big = miss_check(df, cols[0], cols[4])"
      ],
      "execution_count": null,
      "outputs": []
    },
    {
      "cell_type": "code",
      "metadata": {
        "id": "ViV_V4M11NJJ",
        "colab": {
          "base_uri": "https://localhost:8080/"
        },
        "outputId": "8e4f4e47-04fe-453d-ddea-411623e0000e"
      },
      "source": [
        "# rule_1_3\n",
        "miss_ids_true, miss_true, miss_ids_big, miss_big = miss_check(df, cols[0], cols[5])"
      ],
      "execution_count": null,
      "outputs": [
        {
          "output_type": "stream",
          "text": [
            "16 За свою историю человечество совершило достаточно ошибок\n",
            "17 выжидая слишком долго\n",
            "18 а когда оно наконец реагировало\n",
            "19 единственным выходом обычно была война\n"
          ],
          "name": "stdout"
        }
      ]
    },
    {
      "cell_type": "code",
      "metadata": {
        "id": "U5H_Obxu1NJJ"
      },
      "source": [
        "# rule_2_3\n",
        "miss_ids_true, miss_true, miss_ids_big, miss_big = miss_check(df, cols[0], cols[6])"
      ],
      "execution_count": null,
      "outputs": []
    },
    {
      "cell_type": "code",
      "metadata": {
        "id": "NdcRTwgq1NJK"
      },
      "source": [
        "# rule_1_2_3\n",
        "miss_ids_true, miss_true, miss_ids_big, miss_big = miss_check(df, cols[0], cols[7])"
      ],
      "execution_count": null,
      "outputs": []
    },
    {
      "cell_type": "code",
      "metadata": {
        "id": "mCgTHB9y1NJL"
      },
      "source": [
        "#rule_1__rule_morph\n",
        "miss_ids_true, miss_true, miss_ids_big, miss_big = miss_check(df, cols[0], cols[8])"
      ],
      "execution_count": null,
      "outputs": []
    },
    {
      "cell_type": "code",
      "metadata": {
        "colab": {
          "base_uri": "https://localhost:8080/"
        },
        "id": "9n6zifbTPR7g",
        "outputId": "bc318369-2f5b-4485-cd6a-2affd4163e79"
      },
      "source": [
        "#no rules\n",
        "miss_ids_true, miss_true, miss_ids_big, miss_big = miss_check(df, cols[0], cols[1])"
      ],
      "execution_count": null,
      "outputs": [
        {
          "output_type": "stream",
          "text": [
            "32 Особенно сейчас в условиях недостатка квалифицированных работников безответственно с точки зрения экономического благополучия уходить на пенсию в 63 года\n",
            "35 Возможно для зрителей они менее захватывающи чем для игроков\n",
            "37 вспоминая нынешние олимпийские дисциплины\n",
            "38 нужно быть совершенно ненормальным\n",
            "39 чтобы смотреть кёрлинг или лыжный кросс на 50 км внимательнее чем в качестве подборки ярких моментов\n",
            "40 К тому же препятствия для превращения видеоигр в олимпийскую дисциплину минимальны\n",
            "41 потому что не нужны даже допинг тесты только пульт управления предоставляемый организатором\n",
            "42 И многие видеоигры предъявляют больше требований к физическому и особенно умственному состоянию судя по финалу последнего турнира по FIFA чем необходимо для того чтобы просто пнуть мяч на 20 метров\n",
            "80 когда вышибала нас не пускал\n",
            "81 он внезапно куда то исчез\n",
            "140 Повторное введение смертной казни в Германии станет шагом назад в средневековье\n",
            "165 Кроме того за любой оставленный после себя мусор должно последовать наказание\n"
          ],
          "name": "stdout"
        }
      ]
    },
    {
      "cell_type": "code",
      "metadata": {
        "colab": {
          "base_uri": "https://localhost:8080/"
        },
        "id": "ITbw_djtE0yg",
        "outputId": "2dcb044b-95a0-4cbb-ea33-1f1ea006d367"
      },
      "source": [
        "#proj\n",
        "miss_ids_true, miss_true, miss_ids_big, miss_big = miss_check(df, cols[0], cols[1])"
      ],
      "execution_count": null,
      "outputs": [
        {
          "output_type": "stream",
          "text": [
            "109 Прототип нового спорткара Audi поднял шум в среде автолюбителей\n",
            "152 Кроме того для магазинов нет необходимости работать по воскресеньям\n",
            "159 хотя для уборки после собаки однозначно не хватает урн и пакетиков\n",
            "181 Они должны проходить гинекологическое обследование\n",
            "182 прежде чем принимать эти таблетки\n"
          ],
          "name": "stdout"
        }
      ]
    },
    {
      "cell_type": "markdown",
      "metadata": {
        "id": "-EiaWs2rdhMl"
      },
      "source": [
        "# some additional checks"
      ]
    },
    {
      "cell_type": "code",
      "metadata": {
        "colab": {
          "base_uri": "https://localhost:8080/"
        },
        "id": "O3zb8xttm-gO",
        "outputId": "3404fc99-8463-4d1a-ae98-ee8f74984574"
      },
      "source": [
        "for i in range(5):\n",
        "  print(miss_ids_big[i], miss_big[i])"
      ],
      "execution_count": null,
      "outputs": [
        {
          "output_type": "stream",
          "text": [
            "342 В связи с увеличением часов работы в праздничные дни и по воскресеньям наблюдается рост занятости\n",
            "343 Но нанимаются в основном временные сотрудники студенты ученики школ и т д\n",
            "344 так что это практически не влияет на уровень занятости на полный рабочий день и количество безработных\n",
            "345 Более того частная и семейная жизнь сильно страдают из за сокращения и смещения общепринятых выходных\n",
            "346 К тому же только большие компании могут позволить себе расходы на увеличение штата\n"
          ],
          "name": "stdout"
        }
      ]
    },
    {
      "cell_type": "code",
      "metadata": {
        "id": "rbQmVtO5nXTS"
      },
      "source": [
        "miss_big = miss_big[1:]\n",
        "miss_ids_big = miss_ids_big[1:]"
      ],
      "execution_count": null,
      "outputs": []
    },
    {
      "cell_type": "code",
      "metadata": {
        "colab": {
          "base_uri": "https://localhost:8080/"
        },
        "id": "9H7IUuwDqpLk",
        "outputId": "dd65c7c7-f6fb-4585-8f62-8e3522c85a34"
      },
      "source": [
        "len(df[cols[0]]), len(df[cols[1]]), len(miss_ids_true), len(miss_ids_big)"
      ],
      "execution_count": null,
      "outputs": [
        {
          "output_type": "execute_result",
          "data": {
            "text/plain": [
              "(863, 863, 3, 425)"
            ]
          },
          "metadata": {
            "tags": []
          },
          "execution_count": 9
        }
      ]
    },
    {
      "cell_type": "code",
      "metadata": {
        "colab": {
          "base_uri": "https://localhost:8080/"
        },
        "id": "QaFMaXqdr6J1",
        "outputId": "6fa3c1c7-8814-48e3-af41-5afd1224ed33"
      },
      "source": [
        "k1 = 0\n",
        "k2 = 0\n",
        "kk = []\n",
        "kk2 = []\n",
        "for i, row in df.iterrows():\n",
        "  if row['зс'] != 'None':\n",
        "    k1 += 1\n",
        "    kk.append(row['зс'])\n",
        "  if row['rule_1'] != 'None':\n",
        "    k2 += 1\n",
        "    kk2.append(row['rule_1'])\n",
        "k1,k2"
      ],
      "execution_count": null,
      "outputs": [
        {
          "output_type": "execute_result",
          "data": {
            "text/plain": [
              "(287, 740)"
            ]
          },
          "metadata": {
            "tags": []
          },
          "execution_count": 195
        }
      ]
    },
    {
      "cell_type": "code",
      "metadata": {
        "colab": {
          "base_uri": "https://localhost:8080/"
        },
        "id": "BpespWd7sm-Y",
        "outputId": "29eaafdb-c996-4221-934f-41f0fba0fafe"
      },
      "source": [
        "for i in range(285,287):\n",
        "  print(kk[i])\n",
        "  print(kk2[i])"
      ],
      "execution_count": null,
      "outputs": [
        {
          "output_type": "stream",
          "text": [
            "И всё же никто не должен быть обязан работать больше 40 лет\n",
            "государство усиливает давление на лиц уклоняющихся от уплаты налогов\n",
            "Повышение относительного пенсионного возраста на основании состояния здоровья рядового гражданина это справедливо\n",
            "и повышает их склонность прийти с повинной\n"
          ],
          "name": "stdout"
        }
      ]
    },
    {
      "cell_type": "code",
      "metadata": {
        "colab": {
          "base_uri": "https://localhost:8080/"
        },
        "id": "iqM1XxVTtEMl",
        "outputId": "57692504-c950-45a3-e073-3be171aca2e2"
      },
      "source": [
        "len(list(df['rule_1'])), len(miss_ids_big), len(list(df['rule_1']))-len(miss_ids_big)"
      ],
      "execution_count": null,
      "outputs": [
        {
          "output_type": "execute_result",
          "data": {
            "text/plain": [
              "(863, 417, 446)"
            ]
          },
          "metadata": {
            "tags": []
          },
          "execution_count": 200
        }
      ]
    },
    {
      "cell_type": "code",
      "metadata": {
        "colab": {
          "base_uri": "https://localhost:8080/"
        },
        "id": "4bf7yBfdtXR2",
        "outputId": "7fc2c15d-7105-4708-fea1-409a7a26e219"
      },
      "source": [
        "miss_ids_big[0]"
      ],
      "execution_count": null,
      "outputs": [
        {
          "output_type": "execute_result",
          "data": {
            "text/plain": [
              "366"
            ]
          },
          "metadata": {
            "tags": []
          },
          "execution_count": 11
        }
      ]
    },
    {
      "cell_type": "code",
      "metadata": {
        "colab": {
          "base_uri": "https://localhost:8080/",
          "height": 131
        },
        "id": "Ed0PtqzNtcx1",
        "outputId": "201f1370-50bc-479a-fe60-9aaa251534cb"
      },
      "source": [
        "df[df.index == 21]"
      ],
      "execution_count": null,
      "outputs": [
        {
          "output_type": "execute_result",
          "data": {
            "text/html": [
              "<div>\n",
              "<style scoped>\n",
              "    .dataframe tbody tr th:only-of-type {\n",
              "        vertical-align: middle;\n",
              "    }\n",
              "\n",
              "    .dataframe tbody tr th {\n",
              "        vertical-align: top;\n",
              "    }\n",
              "\n",
              "    .dataframe thead th {\n",
              "        text-align: right;\n",
              "    }\n",
              "</style>\n",
              "<table border=\"1\" class=\"dataframe\">\n",
              "  <thead>\n",
              "    <tr style=\"text-align: right;\">\n",
              "      <th></th>\n",
              "      <th>зс</th>\n",
              "      <th>0_0</th>\n",
              "      <th>rule_1</th>\n",
              "      <th>rule_2</th>\n",
              "      <th>rule_3</th>\n",
              "      <th>rule_1__rule_2</th>\n",
              "      <th>rule_1__rule_3</th>\n",
              "      <th>rule_2__rule_3</th>\n",
              "      <th>rule_1__rule_2__rule_3</th>\n",
              "    </tr>\n",
              "  </thead>\n",
              "  <tbody>\n",
              "    <tr>\n",
              "      <th>21</th>\n",
              "      <td>Германия очевидно близко с ними сотрудничает</td>\n",
              "      <td>потому что нам нужны общие и независимые СМИ</td>\n",
              "      <td>потому что нам нужны общие и независимые СМИ</td>\n",
              "      <td>В конце концов никто не хочет смотреть на мир ...</td>\n",
              "      <td>потому что нам нужны общие и независимые СМИ</td>\n",
              "      <td>В конце концов никто не хочет смотреть на мир ...</td>\n",
              "      <td>потому что нам нужны общие и независимые СМИ</td>\n",
              "      <td>потому что нам нужны общие и независимые СМИ</td>\n",
              "      <td>потому что нам нужны общие и независимые СМИ</td>\n",
              "    </tr>\n",
              "  </tbody>\n",
              "</table>\n",
              "</div>"
            ],
            "text/plain": [
              "                                              зс  ...                        rule_1__rule_2__rule_3\n",
              "21  Германия очевидно близко с ними сотрудничает  ...  потому что нам нужны общие и независимые СМИ\n",
              "\n",
              "[1 rows x 9 columns]"
            ]
          },
          "metadata": {
            "tags": []
          },
          "execution_count": 221
        }
      ]
    },
    {
      "cell_type": "markdown",
      "metadata": {
        "id": "l96GTSbddnTC"
      },
      "source": [
        "# df for aligning"
      ]
    },
    {
      "cell_type": "markdown",
      "source": [
        "Нужно убрать из датасета отсутствующие и препутанные сегменты, они будут учтены после выравнивания (добавляются в конце с соответствующей пометкой)"
      ],
      "metadata": {
        "id": "I6ChBBmD5Of7"
      }
    },
    {
      "cell_type": "code",
      "metadata": {
        "id": "tG-rgaliBAH2"
      },
      "source": [
        "df = df_morph"
      ],
      "execution_count": null,
      "outputs": []
    },
    {
      "cell_type": "code",
      "metadata": {
        "colab": {
          "base_uri": "https://localhost:8080/"
        },
        "id": "TJIX8dwOd1_c",
        "outputId": "e382867c-acbc-4e79-8499-f1a95aafd1e4"
      },
      "source": [
        "miss_ids_big[0] #эде которые отсутствуют в золотом стандарте"
      ],
      "execution_count": null,
      "outputs": [
        {
          "output_type": "execute_result",
          "data": {
            "text/plain": [
              "396"
            ]
          },
          "metadata": {
            "tags": []
          },
          "execution_count": 38
        }
      ]
    },
    {
      "cell_type": "code",
      "metadata": {
        "colab": {
          "base_uri": "https://localhost:8080/"
        },
        "id": "DbBIck85d7Hr",
        "outputId": "9f79fe0f-a2bd-4499-b57d-a38d844003db"
      },
      "source": [
        "for i in range(len(miss_ids_big)):\n",
        "  try:\n",
        "    print(miss_ids_big[i], miss_big[i])\n",
        "  except:\n",
        "    continue"
      ],
      "execution_count": null,
      "outputs": [
        {
          "output_type": "stream",
          "text": [
            "39 но вспоминая нынешние олимпийские дисциплины\n"
          ],
          "name": "stdout"
        }
      ]
    },
    {
      "cell_type": "code",
      "metadata": {
        "id": "sgLKYSPKqqxr",
        "colab": {
          "base_uri": "https://localhost:8080/"
        },
        "outputId": "f0ce7c47-6e4f-466f-8056-bd6671c8cdb3"
      },
      "source": [
        "for i in range(len(miss_ids_true)):\n",
        "  try:\n",
        "    print(miss_ids_true[i], miss_true[i])\n",
        "  except:\n",
        "    continue"
      ],
      "execution_count": null,
      "outputs": [
        {
          "output_type": "stream",
          "text": [
            "109 Прототип нового спорткара Audi поднял шум в среде автолюбителей\n",
            "152 Кроме того для магазинов нет необходимости работать по воскресеньям\n",
            "159 хотя для уборки после собаки однозначно не хватает урн и пакетиков\n",
            "181 Они должны проходить гинекологическое обследование\n",
            "182 прежде чем принимать эти таблетки\n"
          ],
          "name": "stdout"
        }
      ]
    },
    {
      "cell_type": "code",
      "metadata": {
        "colab": {
          "base_uri": "https://localhost:8080/"
        },
        "id": "YHOvm4-lhTrt",
        "outputId": "574bbc59-398c-48e4-96eb-cf01144c72df"
      },
      "source": [
        "miss_ids_true, miss_ids_big"
      ],
      "execution_count": null,
      "outputs": [
        {
          "output_type": "execute_result",
          "data": {
            "text/plain": [
              "([], [88])"
            ]
          },
          "metadata": {
            "tags": []
          },
          "execution_count": 52
        }
      ]
    },
    {
      "cell_type": "code",
      "metadata": {
        "id": "vc79919D46An"
      },
      "source": [
        "df = df2"
      ],
      "execution_count": null,
      "outputs": []
    },
    {
      "cell_type": "code",
      "metadata": {
        "id": "hMnaRGTHDOeP",
        "colab": {
          "base_uri": "https://localhost:8080/"
        },
        "outputId": "69de4575-219e-45aa-ab33-562e4c7f1585"
      },
      "source": [
        "new_golden_data = []\n",
        "new_auto_data = []\n",
        "\n",
        "for i, row in df.iterrows():\n",
        "  if i not in miss_ids_true:\n",
        "    new_golden_data.append(row[cols[0]])\n",
        "  else:\n",
        "    print(row['зс'])\n",
        "  #if i not in miss_ids_big:\n",
        "    #new_auto_data.append(row[cols[1]])"
      ],
      "execution_count": null,
      "outputs": [
        {
          "output_type": "stream",
          "text": [
            "Прототип нового спорткара Audi поднял шум в среде автолюбителей\n",
            "Кроме того для магазинов нет необходимости работать по воскресеньям\n",
            "хотя для уборки после собаки однозначно не хватает урн и пакетиков\n",
            "Они должны проходить гинекологическое обследование\n",
            "прежде чем принимать эти таблетки\n"
          ],
          "name": "stdout"
        }
      ]
    },
    {
      "cell_type": "code",
      "metadata": {
        "id": "xcrOn77zhzAT"
      },
      "source": [
        "for i, row in df.iterrows():\n",
        "  if i != 176:#miss_ids_big[1]\n",
        "    new_auto_data.append(row[cols[1]]) #меняем номер столбца"
      ],
      "execution_count": null,
      "outputs": []
    },
    {
      "cell_type": "code",
      "metadata": {
        "colab": {
          "base_uri": "https://localhost:8080/"
        },
        "id": "-oEBA5E2eWNs",
        "outputId": "9c34313b-21bf-416d-abda-d9721adc3cbe"
      },
      "source": [
        "len(new_golden_data), len(new_auto_data)"
      ],
      "execution_count": null,
      "outputs": [
        {
          "output_type": "execute_result",
          "data": {
            "text/plain": [
              "(201, 205)"
            ]
          },
          "metadata": {
            "tags": []
          },
          "execution_count": 436
        }
      ]
    },
    {
      "cell_type": "code",
      "metadata": {
        "id": "Tw3Wrj6SfDAK"
      },
      "source": [
        "'''new_auto_data_2 = []\n",
        "for i in new_auto_data:\n",
        "  if i != miss_big[0]:\n",
        "    new_auto_data_2.append(i)'''"
      ],
      "execution_count": null,
      "outputs": []
    },
    {
      "cell_type": "code",
      "metadata": {
        "id": "jb04GrhcfXlo"
      },
      "source": [
        "#new_auto_data = new_auto_data_2"
      ],
      "execution_count": null,
      "outputs": []
    },
    {
      "cell_type": "code",
      "metadata": {
        "colab": {
          "base_uri": "https://localhost:8080/"
        },
        "id": "QFUYu_yPJcWx",
        "outputId": "ffa69e00-9d53-4a04-9c0b-0abc2298be21"
      },
      "source": [
        "#for proj\n",
        "for i, row in df.iterrows():\n",
        "  if row['proj'] == 'Одна из причин этого заключается в том что до сих пор они совсем не боятся последствий несмотря на то что уборка за питомцем это их обязанность':\n",
        "    print(i)"
      ],
      "execution_count": null,
      "outputs": [
        {
          "output_type": "stream",
          "text": [
            "175\n",
            "176\n"
          ],
          "name": "stdout"
        }
      ]
    },
    {
      "cell_type": "code",
      "metadata": {
        "id": "0nDlVU_7Kr9b"
      },
      "source": [
        "#for proj\n",
        "lost_gs = ['Ни у кого не должно быть возможности купить противозачаточные таблетки без рецепта']"
      ],
      "execution_count": null,
      "outputs": []
    },
    {
      "cell_type": "markdown",
      "metadata": {
        "id": "VRQQmmticbLL"
      },
      "source": [
        "# lost gs (для трейна)"
      ]
    },
    {
      "cell_type": "markdown",
      "source": [
        "Потерянный золотой стандарт"
      ],
      "metadata": {
        "id": "93RQVLDP6iLr"
      }
    },
    {
      "cell_type": "markdown",
      "metadata": {
        "id": "A8cWZUT1YpV-"
      },
      "source": [
        "ДЛЯ ТРЕЙНА"
      ]
    },
    {
      "cell_type": "code",
      "metadata": {
        "id": "N1kBcntE_6yB"
      },
      "source": [
        "# for proj\n",
        "lost_gs = ['К тому же всем приходится переезжать примерно от трёх до десяти раз в жизни']"
      ],
      "execution_count": null,
      "outputs": []
    },
    {
      "cell_type": "code",
      "metadata": {
        "id": "typqbUYUTcYY"
      },
      "source": [
        "lost_gs = ['К тому же всем приходится переезжать примерно от трёх до десяти раз в жизни', 'потому что размеры желаемой жилплощади меняются с течением времени']"
      ],
      "execution_count": null,
      "outputs": []
    },
    {
      "cell_type": "markdown",
      "metadata": {
        "id": "qyTQehZAgAuV"
      },
      "source": [
        "New stuff"
      ]
    },
    {
      "cell_type": "code",
      "metadata": {
        "id": "cW3RZWwWgDTQ"
      },
      "source": [
        "lost_gs = ['но', 'без достаточного числа высококвалифицированных молодых работников','учитывая стоимость именитых игроков']"
      ],
      "execution_count": null,
      "outputs": []
    },
    {
      "cell_type": "code",
      "metadata": {
        "id": "r0WV19-ufzQw"
      },
      "source": [
        "#for rule morph, no_rules\n",
        "lost_gs_2 = ['Смертная казнь сама по себе была бы убийством', 'Учитывая то что они забрали или разрушили чью то жизнь']"
      ],
      "execution_count": null,
      "outputs": []
    },
    {
      "cell_type": "markdown",
      "metadata": {
        "id": "lQGBIhJwYrjW"
      },
      "source": [
        "ДЛЯ ТЕСТА"
      ]
    },
    {
      "cell_type": "code",
      "metadata": {
        "id": "H3bkRGKiAE6h",
        "colab": {
          "base_uri": "https://localhost:8080/"
        },
        "outputId": "7e27b490-2fa4-4361-ab25-e40657dadaa5"
      },
      "source": [
        "new_golden_data_2 = []\n",
        "for i in new_golden_data:\n",
        "  if i not in lost_gs:\n",
        "    new_golden_data_2.append(i)\n",
        "  else:\n",
        "    print(i)"
      ],
      "execution_count": null,
      "outputs": [
        {
          "output_type": "stream",
          "text": [
            "Ни у кого не должно быть возможности купить противозачаточные таблетки без рецепта\n"
          ],
          "name": "stdout"
        }
      ]
    },
    {
      "cell_type": "code",
      "metadata": {
        "colab": {
          "base_uri": "https://localhost:8080/"
        },
        "id": "IepWfEUqAQBc",
        "outputId": "7b14c0bd-2fa6-44e4-f28a-571742cca686"
      },
      "source": [
        "len(new_golden_data), len(new_golden_data_2)"
      ],
      "execution_count": null,
      "outputs": [
        {
          "output_type": "execute_result",
          "data": {
            "text/plain": [
              "(205, 204)"
            ]
          },
          "metadata": {
            "tags": []
          },
          "execution_count": 447
        }
      ]
    },
    {
      "cell_type": "code",
      "metadata": {
        "id": "tEpvQ6ZBAQgD"
      },
      "source": [
        "new_golden_data = new_golden_data_2"
      ],
      "execution_count": null,
      "outputs": []
    },
    {
      "cell_type": "code",
      "metadata": {
        "colab": {
          "base_uri": "https://localhost:8080/"
        },
        "id": "Kg_qZkvNrzd1",
        "outputId": "e33f401c-47bb-4d46-de8b-53a43b8259c8"
      },
      "source": [
        "len(new_golden_data), len(new_auto_data)"
      ],
      "execution_count": null,
      "outputs": [
        {
          "output_type": "execute_result",
          "data": {
            "text/plain": [
              "(204, 205)"
            ]
          },
          "metadata": {
            "tags": []
          },
          "execution_count": 449
        }
      ]
    },
    {
      "cell_type": "code",
      "metadata": {
        "id": "XRUW1wqYr1mD"
      },
      "source": [
        "new_golden_data.append('None')"
      ],
      "execution_count": null,
      "outputs": []
    },
    {
      "cell_type": "markdown",
      "metadata": {
        "id": "3LeNsiAIpwxX"
      },
      "source": [
        "# mixed stuff (train)"
      ]
    },
    {
      "cell_type": "markdown",
      "source": [
        "Перепутанные сегмегменты в train data"
      ],
      "metadata": {
        "id": "kn5_EVev518W"
      }
    },
    {
      "cell_type": "markdown",
      "metadata": {
        "id": "HBaT1EIiYb32"
      },
      "source": [
        "ДЛЯ ТРЕЙНА"
      ]
    },
    {
      "cell_type": "code",
      "metadata": {
        "id": "0SrBggdkejsT"
      },
      "source": [
        "# для rule_3\n",
        "mixed = ['потому что нам нужны общие и независимые СМИ', 'пока я сижу в офисе']"
      ],
      "execution_count": null,
      "outputs": []
    },
    {
      "cell_type": "code",
      "metadata": {
        "id": "Pi9sEYKmzeQe"
      },
      "source": [
        "# for rule 3\n",
        "not_div = ['Учитывая их технические условия некоторые видеоигры не относятся к спортивным дисциплинам но эту проблему возможно решить ясно структурированным процессом отбора',\\\n",
        "           'Учитывая их технические условия','некоторые видеоигры не относятся к спортивным дисциплинам', 'но эту проблему возможно решить ясно структурированным процессом отбора']"
      ],
      "execution_count": null,
      "outputs": []
    },
    {
      "cell_type": "code",
      "metadata": {
        "id": "TNnxKSfH5mdF"
      },
      "source": [
        "# 2, 3, 1-2\n",
        "not_div = ['Следовательно это хорошо когда магазины не работают в выходные и праздничные дни Однако у людей которые работают в течение недели и по субботам возникает проблема другие люди могут совершать покупки в будние дни а они не могут Для этих людей хорошая альтернатива посещение магазинов которые открыты до полуночи',\n",
        "           'Следовательно это хорошо когда магазины не работают в выходные и праздничные дни',\\\n",
        "           'Однако у людей которые работают в течение недели и по субботам возникает проблема',\\\n",
        "           'другие люди могут совершать покупки в будние дни', 'а они не могут',\\\n",
        "           'Для этих людей хорошая альтернатива посещение магазинов которые открыты до полуночи']"
      ],
      "execution_count": null,
      "outputs": []
    },
    {
      "cell_type": "code",
      "metadata": {
        "id": "jyZkQcEGsRII"
      },
      "source": [
        "# FIN 3 rule for fixed data\n",
        "mixed = ['потому что нам нужны общие и независимые СМИ', 'пока я сижу в офисе', 'Учитывая их технические условия некоторые видеоигры не относятся к спортивным дисциплинам но эту проблему возможно решить ясно структурированным процессом отбора','Учитывая их технические условия','некоторые видеоигры не относятся к спортивным дисциплинам','но эту проблему возможно решить ясно структурированным процессом отбора']"
      ],
      "execution_count": null,
      "outputs": []
    },
    {
      "cell_type": "code",
      "metadata": {
        "id": "WSIUdl_foEnj"
      },
      "source": [
        "#proj\n",
        "mixed = ['и теряется слишком много ресурсов','когда сжигается то что на самом деле следует разделять и перерабатывать','и теряется слишком много ресурсов когда','сжигается то что на самом деле следует разделять и перерабатывать','но их экскременты довольно настойчиво прилипают к вашим подошвам','как только вы в них вступаете','но их экскременты довольно настойчиво прилипают к вашим подошвам как','только вы в них вступаете']"
      ],
      "execution_count": null,
      "outputs": []
    },
    {
      "cell_type": "code",
      "metadata": {
        "id": "nKc8TWokqGrA"
      },
      "source": [
        "mixed_2 = ['Просто скроенная практичная одежда выровняет визуальный образ школы','и позволит обратить внимание на характер и достижения учеников а не на их покупательную способность','Просто скроенная практичная одежда выровняет визуальный образ школы и позволит обратить внимание на характер и достижения учеников','а не на их покупательную способность']"
      ],
      "execution_count": null,
      "outputs": []
    },
    {
      "cell_type": "code",
      "metadata": {
        "id": "hvudEBpTCaaO"
      },
      "source": [
        "# FIN rule 1 rule morph\n",
        "mixed = ['при обучении']"
      ],
      "execution_count": null,
      "outputs": []
    },
    {
      "cell_type": "code",
      "metadata": {
        "id": "r55cVbG2cgIl"
      },
      "source": [
        "not_div = ['Существуют и другие средства для создания более строгой дисциплины при обучении',\\\n",
        "           'Существуют и другие средства', 'при обучении', 'для создания более строгой дисциплины']"
      ],
      "execution_count": null,
      "outputs": []
    },
    {
      "cell_type": "code",
      "metadata": {
        "id": "c7G6LgLFu0me"
      },
      "source": [
        "#fin for rule 2,3\n",
        "not_div = ['учитывая само количество программ и станций которые в основном все равно показывают одно и то же', \\\n",
        "         'учитывая само количество программ и станций',\\\n",
        "         'которые в основном все равно показывают одно и то же']"
      ],
      "execution_count": null,
      "outputs": []
    },
    {
      "cell_type": "code",
      "metadata": {
        "id": "UTqFu__76lI9"
      },
      "source": [
        "# fin for 3 rule\n",
        "not_div = ['Существуют шоу актуальные только для старшего поколения в прайм тайм так почему же все должны за них платить', \\\n",
        "           'Существуют шоу актуальные только для старшего поколения в прайм тайм',\\\n",
        "           'так почему же все должны за них платить']"
      ],
      "execution_count": null,
      "outputs": []
    },
    {
      "cell_type": "code",
      "metadata": {
        "id": "iJIGnm_A5vUa"
      },
      "source": [
        "#for proj\n",
        "not_div = ['если бы за это ввели высокие штрафы Это в свою очередь привело бы к достаточно чистотым тротуарам',\\\n",
        "           'если бы за это ввели высокие штрафы',\\\n",
        "           'Это в свою очередь привело бы к достаточно чистотым тротуарам']"
      ],
      "execution_count": null,
      "outputs": []
    },
    {
      "cell_type": "markdown",
      "metadata": {
        "id": "1tksu2Mvcmb1"
      },
      "source": [
        "# mixed stuff (test)"
      ]
    },
    {
      "cell_type": "markdown",
      "source": [
        "Перепутанные сегменты для test data"
      ],
      "metadata": {
        "id": "5--XPinC7STq"
      }
    },
    {
      "cell_type": "markdown",
      "metadata": {
        "id": "j7mfUjLhYf20"
      },
      "source": [
        "ДЛЯ ТЕСТА"
      ]
    },
    {
      "cell_type": "code",
      "metadata": {
        "id": "DLVEUQxwYhTd"
      },
      "source": [
        "#rule_1, 1_morph\n",
        "mixed = ['чтобы коллективно финансировать определенные области', 'которые не могут занять свое место в рыночной экономике',\\\n",
        "         'И поскольку общественный долг заключается в том',\\\n",
        "         'И поскольку общественный долг заключается в том чтобы коллективно финансировать определенные области которые не могут занять свое место в рыночной экономике']"
      ],
      "execution_count": null,
      "outputs": []
    },
    {
      "cell_type": "code",
      "metadata": {
        "id": "RvJb2WblYhhN"
      },
      "source": [
        "#rule_2, 3, 1_2, 1_3, 2_3, 1_2_3\n",
        "mixed = ['чтобы коллективно финансировать определенные области которые не могут занять свое место в рыночной экономике',\\\n",
        "         'И поскольку общественный долг заключается в том',\\\n",
        "         'И поскольку общественный долг заключается в том чтобы коллективно финансировать определенные области которые не могут занять свое место в рыночной экономике']"
      ],
      "execution_count": null,
      "outputs": []
    },
    {
      "cell_type": "code",
      "metadata": {
        "id": "orKHMYwYPM_q"
      },
      "source": [
        "#rule_2\n",
        "mixed_2 = ['Но я хочу испытать это восхитительное мгновение свободы', 'о котором снова и снова говорят парашютисты',\\\n",
        "           'Но я хочу испытать это восхитительное мгновение свободы о котором снова и снова говорят парашютисты']"
      ],
      "execution_count": null,
      "outputs": []
    },
    {
      "cell_type": "code",
      "metadata": {
        "id": "Q0xBINMBWf2O"
      },
      "source": [
        "#rule_3, rule 1_2, 1_3, 2_3, 1_2_3\n",
        "#lost part\n",
        "mixed_2 = ['Но я хочу испытать это восхитительное мгновение свободы', \\\n",
        "           'Но я хочу испытать это восхитительное мгновение свободы о котором снова и снова говорят парашютисты']"
      ],
      "execution_count": null,
      "outputs": []
    },
    {
      "cell_type": "code",
      "metadata": {
        "id": "KLU1sROxQemi"
      },
      "source": [
        "#rule_2, 3, 1_2, 1_3, 2_3, 1_2_3\n",
        "not_div = ['Предполагается что более высокий штраф который заставил бы владельцев собак поглубже залесть к себе в карман будет в конечном счете сдерживающим фактором',\\\n",
        "           'Весь город и в особенности зеленые газоны должны быть в порядке',\\\n",
        "           'так как это места для нашего же отдыха',\\\n",
        "           'Предполагается что более высокий штраф который заставил бы владельцев собак поглубже залесть к себе в карман будет в конечном счете сдерживающим фактором Весь город и в особенности зеленые газоны должны быть в порядке так как это места для нашего же отдыха']"
      ],
      "execution_count": null,
      "outputs": []
    },
    {
      "cell_type": "code",
      "metadata": {
        "id": "w8GF9aG-Ynzh"
      },
      "source": [
        "#rule_3 (для 1_3 + разметка вроде норм, но не выравнивалась)\n",
        "not_div_2 = ['Следует отметить что в нашем цивилизованном мире в демократической стране народ может сам решать свою судьбу',\n",
        "           'пока мотивация этих людей не вызвана пропагандой коррупцией и военным давлением',\n",
        "           'Следует отметить что в нашем цивилизованном мире в демократической стране народ может сам решать свою судьбу пока мотивация этих людей не вызвана пропагандой коррупцией и военным давлением']"
      ],
      "execution_count": null,
      "outputs": []
    },
    {
      "cell_type": "code",
      "metadata": {
        "id": "AzS7H9Mt1nK3"
      },
      "source": [
        "div = ['В конце концов есть преступники которым нравится жизнь в тюрьме за приличную плату без уплаты налогов без привычного стресса от работы',\\\n",
        "       'В конце концов есть преступники которым нравится жизнь в тюрьме за приличную плату','без привычного стресса от работы', 'без уплаты налогов']"
      ],
      "execution_count": null,
      "outputs": []
    },
    {
      "cell_type": "code",
      "metadata": {
        "id": "UnKYQbyBQG9D"
      },
      "source": [
        "#no_rules\n",
        "lost_gs = ['Вчера']"
      ],
      "execution_count": null,
      "outputs": []
    },
    {
      "cell_type": "markdown",
      "metadata": {
        "id": "eZepMm4PYiUO"
      },
      "source": [
        "# final df"
      ]
    },
    {
      "cell_type": "markdown",
      "source": [
        "Создаем итоговый датасет, убирая нужные сегменты, найденные выше"
      ],
      "metadata": {
        "id": "TNJSzw1d64Hh"
      }
    },
    {
      "cell_type": "code",
      "metadata": {
        "id": "UzYAp9Ls6jzh"
      },
      "source": [
        "# for the rest df2\n",
        "new_auto_data = list(df2['proj'])\n",
        "new_golden_data = list(df2['зс'])"
      ],
      "execution_count": null,
      "outputs": []
    },
    {
      "cell_type": "code",
      "metadata": {
        "colab": {
          "base_uri": "https://localhost:8080/"
        },
        "id": "ycbE3LDIc4hk",
        "outputId": "c27b3b1f-4318-48c8-a110-335062365849"
      },
      "source": [
        "new_golden_data_2 = []\n",
        "for i in new_golden_data:\n",
        "  if i in not_div: #mixed or not_div or wrong\n",
        "    print(i)\n",
        "    continue\n",
        "  else:\n",
        "    new_golden_data_2.append(i)"
      ],
      "execution_count": null,
      "outputs": [
        {
          "output_type": "stream",
          "text": [
            "если бы за это ввели высокие штрафы\n",
            "Это в свою очередь привело бы к достаточно чистотым тротуарам\n"
          ],
          "name": "stdout"
        }
      ]
    },
    {
      "cell_type": "code",
      "metadata": {
        "colab": {
          "base_uri": "https://localhost:8080/"
        },
        "id": "v0rUeSw_d-I6",
        "outputId": "0699140e-0df6-49eb-c706-2c6c361443c8"
      },
      "source": [
        "new_auto_data_2 = []\n",
        "for i in new_auto_data:\n",
        "  if i in not_div: #mixed or not_div or wrong\n",
        "    print(i)\n",
        "    continue\n",
        "  else:\n",
        "    new_auto_data_2.append(i)"
      ],
      "execution_count": null,
      "outputs": [
        {
          "output_type": "stream",
          "text": [
            "если бы за это ввели высокие штрафы Это в свою очередь привело бы к достаточно чистотым тротуарам\n"
          ],
          "name": "stdout"
        }
      ]
    },
    {
      "cell_type": "code",
      "metadata": {
        "id": "g714vccZdNok"
      },
      "source": [
        "new_golden_data = new_golden_data_2\n",
        "new_auto_data = new_auto_data_2"
      ],
      "execution_count": null,
      "outputs": []
    },
    {
      "cell_type": "code",
      "metadata": {
        "colab": {
          "base_uri": "https://localhost:8080/"
        },
        "id": "iiK26PEM68rq",
        "outputId": "51ed7ce2-547f-4b52-d646-8dda1ca16fa6"
      },
      "source": [
        "len(new_golden_data), len(new_auto_data)"
      ],
      "execution_count": null,
      "outputs": [
        {
          "output_type": "execute_result",
          "data": {
            "text/plain": [
              "(201, 206)"
            ]
          },
          "metadata": {
            "tags": []
          },
          "execution_count": 423
        }
      ]
    },
    {
      "cell_type": "code",
      "metadata": {
        "id": "YEEKlXYY0VRV"
      },
      "source": [
        "while len(new_golden_data) != len(new_auto_data):\n",
        "  new_golden_data.append('None')"
      ],
      "execution_count": null,
      "outputs": []
    },
    {
      "cell_type": "code",
      "metadata": {
        "id": "LDkZusXNve_x"
      },
      "source": [
        "while len(new_auto_data) != len(new_golden_data):\n",
        "  new_auto_data.append('None')"
      ],
      "execution_count": null,
      "outputs": []
    },
    {
      "cell_type": "markdown",
      "metadata": {
        "id": "VU61wj6Mp2Rm"
      },
      "source": [
        "# aligning"
      ]
    },
    {
      "cell_type": "code",
      "metadata": {
        "id": "22TllLGMJREz"
      },
      "source": [
        "new_golden_data = new_golden_data[:len(new_auto_data)]"
      ],
      "execution_count": null,
      "outputs": []
    },
    {
      "cell_type": "code",
      "metadata": {
        "id": "QWDWGixbGzn7"
      },
      "source": [
        "df2 = pd.DataFrame()\n",
        "df2['зс'] = new_golden_data\n",
        "df2['auto'] = new_auto_data"
      ],
      "execution_count": null,
      "outputs": []
    },
    {
      "cell_type": "code",
      "metadata": {
        "id": "tU30ESBI70Gb"
      },
      "source": [
        "df2['auto'] = df2['auto'].fillna('None')"
      ],
      "execution_count": null,
      "outputs": []
    },
    {
      "cell_type": "code",
      "metadata": {
        "id": "A7O0mFV1wFx_"
      },
      "source": [
        "drop_ids = []\n",
        "for i, row in df2.iterrows():\n",
        "  if row['зс'] == 'None' and row['auto'] == 'None':\n",
        "    drop_ids.append(i)"
      ],
      "execution_count": null,
      "outputs": []
    },
    {
      "cell_type": "code",
      "metadata": {
        "colab": {
          "base_uri": "https://localhost:8080/"
        },
        "id": "Kypu4LZMwIBw",
        "outputId": "07134d38-b095-4f2d-f225-6c5cd7b91e76"
      },
      "source": [
        "len(drop_ids)"
      ],
      "execution_count": null,
      "outputs": [
        {
          "output_type": "execute_result",
          "data": {
            "text/plain": [
              "48"
            ]
          },
          "metadata": {
            "tags": []
          },
          "execution_count": 275
        }
      ]
    },
    {
      "cell_type": "code",
      "metadata": {
        "id": "9EppF_0AwPf2"
      },
      "source": [
        "df2 = df2.drop(drop_ids).reset_index(drop=True)"
      ],
      "execution_count": null,
      "outputs": []
    },
    {
      "cell_type": "code",
      "metadata": {
        "id": "dY2HzmThyaLe"
      },
      "source": [
        "df2.to_csv('df2.csv')"
      ],
      "execution_count": null,
      "outputs": []
    },
    {
      "cell_type": "code",
      "metadata": {
        "id": "OgMOWzYeysXu"
      },
      "source": [
        "df2 = pd.read_csv('proj_train_dop.csv')"
      ],
      "execution_count": null,
      "outputs": []
    },
    {
      "cell_type": "code",
      "metadata": {
        "colab": {
          "base_uri": "https://localhost:8080/",
          "height": 204
        },
        "id": "0yneAYMEBsvr",
        "outputId": "33af2397-0398-43e6-a7d1-dab774d49308"
      },
      "source": [
        "df2.head()"
      ],
      "execution_count": null,
      "outputs": [
        {
          "output_type": "execute_result",
          "data": {
            "text/html": [
              "<div>\n",
              "<style scoped>\n",
              "    .dataframe tbody tr th:only-of-type {\n",
              "        vertical-align: middle;\n",
              "    }\n",
              "\n",
              "    .dataframe tbody tr th {\n",
              "        vertical-align: top;\n",
              "    }\n",
              "\n",
              "    .dataframe thead th {\n",
              "        text-align: right;\n",
              "    }\n",
              "</style>\n",
              "<table border=\"1\" class=\"dataframe\">\n",
              "  <thead>\n",
              "    <tr style=\"text-align: right;\">\n",
              "      <th></th>\n",
              "      <th>зс</th>\n",
              "      <th>auto</th>\n",
              "    </tr>\n",
              "  </thead>\n",
              "  <tbody>\n",
              "    <tr>\n",
              "      <th>0</th>\n",
              "      <td>В течение многих лет в Берлине не хватало жилья</td>\n",
              "      <td>В течение многих лет в Берлине не хватало жилья</td>\n",
              "    </tr>\n",
              "    <tr>\n",
              "      <th>1</th>\n",
              "      <td>поэтому использовать Темпельхофское поле</td>\n",
              "      <td>поэтому использовать Темпельхофское поле</td>\n",
              "    </tr>\n",
              "    <tr>\n",
              "      <th>2</th>\n",
              "      <td>предоставляющее огромное и почти не используем...</td>\n",
              "      <td>предоставляющее огромное и почти не используем...</td>\n",
              "    </tr>\n",
              "    <tr>\n",
              "      <th>3</th>\n",
              "      <td>под жилые дома представляется разумной идеей</td>\n",
              "      <td>под жилые дома представляется разумной идеей</td>\n",
              "    </tr>\n",
              "    <tr>\n",
              "      <th>4</th>\n",
              "      <td>Так как территория принадлежит федеративному г...</td>\n",
              "      <td>Так как территория принадлежит федеративному г...</td>\n",
              "    </tr>\n",
              "  </tbody>\n",
              "</table>\n",
              "</div>"
            ],
            "text/plain": [
              "                                                  зс                                               auto\n",
              "0    В течение многих лет в Берлине не хватало жилья    В течение многих лет в Берлине не хватало жилья\n",
              "1           поэтому использовать Темпельхофское поле           поэтому использовать Темпельхофское поле\n",
              "2  предоставляющее огромное и почти не используем...  предоставляющее огромное и почти не используем...\n",
              "3       под жилые дома представляется разумной идеей       под жилые дома представляется разумной идеей\n",
              "4  Так как территория принадлежит федеративному г...  Так как территория принадлежит федеративному г..."
            ]
          },
          "metadata": {
            "tags": []
          },
          "execution_count": 452
        }
      ]
    },
    {
      "cell_type": "code",
      "metadata": {
        "id": "D_lCI2s2o1SE"
      },
      "source": [
        "def aligning(df):\n",
        "  \"\"\"Выравнивает две разметки\"\"\"\n",
        "\n",
        "  new_gs = []\n",
        "  new_auto = []\n",
        "  a_id = 0\n",
        "  g_id = 0\n",
        "  cur_a = 0\n",
        "  cur_g = 0\n",
        "  a = True\n",
        "  b = False\n",
        "  k = 0\n",
        "  triple = False\n",
        "  for i in range(df.shape[0]):\n",
        "    try:\n",
        "      golden = df[df.index == cur_g]['зс'].values[0]\n",
        "    except:\n",
        "      golden = 'None'\n",
        "    try:\n",
        "      auto = df[df.index == cur_a]['auto'].values[0]\n",
        "    except:\n",
        "      auto = 'None'\n",
        "\n",
        "    if a == True:\n",
        "      if golden in auto: #lengths of auto and gs are equal\n",
        "        if golden == auto:\n",
        "          new_gs.append(golden)\n",
        "          new_auto.append(auto)\n",
        "          g_id += 1\n",
        "          a_id += 1\n",
        "          cur_a += 1\n",
        "          cur_g += 1\n",
        "        else: #auto is longer ->\n",
        "          new_gs.append(golden)\n",
        "          new_auto.append(auto)\n",
        "          cur_a = a_id\n",
        "          a_id += 1\n",
        "          g_id += 1\n",
        "          cur_g += 1\n",
        "\n",
        "      elif auto in golden: #gs contains auto\n",
        "        if auto == golden:\n",
        "          new_gs.append(golden)\n",
        "          new_auto.append(auto)\n",
        "          g_id += 1\n",
        "          a_id += 1\n",
        "          cur_a += 1\n",
        "          cur_g += 1 \n",
        "        else: #golden is longer ->\n",
        "          new_gs.append(golden)\n",
        "          new_auto.append(auto)\n",
        "          cur_g = g_id\n",
        "          g_id += 1\n",
        "          a_id += 1\n",
        "          cur_a += 1\n",
        "\n",
        "      elif auto == 'None':\n",
        "        a_id += 1\n",
        "        cur_a = a_id\n",
        "      elif golden == 'None':\n",
        "        g_id += 1\n",
        "        cur_g = g_id\n",
        "    \n",
        "      if cur_a != a_id:\n",
        "        #print('not equal A')\n",
        "        auto_long = df[df.index == cur_a]['auto'].values[0]\n",
        "        golden_short = df[df.index == cur_g]['зс'].values[0]\n",
        "\n",
        "        if auto_long.endswith(golden_short) == True:\n",
        "          new_gs.append(golden_short)\n",
        "          new_auto.append(auto_long)\n",
        "          g_id += 1\n",
        "          cur_g = g_id\n",
        "          cur_a = a_id\n",
        "\n",
        "        elif golden_short in auto_long: #triple\n",
        "          new_gs.append(golden_short)\n",
        "          new_auto.append(auto_long)\n",
        "          if df[df.index == cur_a+1]['auto'].values[0] in df[df.index == cur_g+1]['зс'].values[0]:\n",
        "            cur_g += 1\n",
        "            g_id = cur_g\n",
        "            cur_a += 1\n",
        "            a_id = cur_a\n",
        "          else:\n",
        "            g_id += 1\n",
        "            cur_g = g_id\n",
        "            a_id -= 1\n",
        "\n",
        "        elif auto_long.endswith(df[df.index == cur_g-1]['зс'].values[0]) == True:\n",
        "          cur_a = a_id\n",
        "\n",
        "        elif df[df.index == cur_a+1]['auto'].values[0] in df[df.index == cur_g-1]['зс'].values[0]:\n",
        "          cur_a = cur_a + 1\n",
        "          a_id = cur_a\n",
        "          cur_g = cur_g - 1\n",
        "          g_id = cur_g \n",
        "\n",
        "        else:\n",
        "          next_auto = df[df.index == cur_a+1]['auto'].values[0]\n",
        "          new_gs.append(golden_short)\n",
        "          new_auto.append(next_auto)\n",
        "\n",
        "          if golden_short.endswith(next_auto) == True:\n",
        "            g_id += 1\n",
        "            cur_g = g_id\n",
        "            a_id += 1\n",
        "            cur_a = a_id\n",
        "          else:\n",
        "            g_id += 1\n",
        "            cur_g = g_id\n",
        "            cur_a = a_id\n",
        "\n",
        "      if cur_g != g_id:\n",
        "        #print('not equal G')\n",
        "        golden_long = df[df.index == cur_g]['зс'].values[0]\n",
        "        auto_short = df[df.index == cur_a]['auto'].values[0]\n",
        "\n",
        "        if golden_long.endswith(auto_short) == True:\n",
        "          new_gs.append(golden_long)\n",
        "          new_auto.append(auto_short)\n",
        "          a_id += 1\n",
        "          cur_a = a_id\n",
        "          cur_g = g_id\n",
        "\n",
        "        elif auto_short in golden_long: #triple\n",
        "          new_gs.append(golden_long)\n",
        "          new_auto.append(auto_short)\n",
        "          if df[df.index == cur_g+1]['зс'].values[0] in df[df.index == cur_a+1]['auto'].values[0]:\n",
        "            cur_a += 1\n",
        "            a_id = cur_a\n",
        "            cur_g += 1\n",
        "            g_id = cur_g\n",
        "          else:\n",
        "            a_id += 1\n",
        "            cur_a = a_id\n",
        "            g_id -= 1\n",
        "\n",
        "        elif golden_long.endswith(df[df.index == cur_a-1]['auto'].values[0]) == True:\n",
        "          cur_g = g_id   \n",
        "\n",
        "        elif df[df.index == cur_g+1]['зс'].values[0] in df[df.index == cur_a-1]['auto'].values[0]:\n",
        "          cur_g = cur_g + 1\n",
        "          g_id = cur_g\n",
        "          cur_a = cur_a - 1\n",
        "          a_id = cur_a       \n",
        "\n",
        "        else:\n",
        "          next_golden = df[df.index == cur_g+1]['зс'].values[0]\n",
        "          new_gs.append(next_golden)\n",
        "          new_auto.append(auto_short)\n",
        "          \n",
        "          if auto_short.endswith(next_golden) == True:\n",
        "            a_id += 1\n",
        "            cur_a = a_id\n",
        "            g_id += 1\n",
        "            cur_g = g_id\n",
        "          else:\n",
        "            a_id += 1\n",
        "            cur_a = a_id\n",
        "            cur_g = g_id\n",
        "  \n",
        "  return new_gs, new_auto"
      ],
      "execution_count": null,
      "outputs": []
    },
    {
      "cell_type": "code",
      "metadata": {
        "id": "CzDFPxRAs3Nh"
      },
      "source": [
        "new_gs, new_auto = aligning(df2)"
      ],
      "execution_count": null,
      "outputs": []
    },
    {
      "cell_type": "code",
      "metadata": {
        "colab": {
          "base_uri": "https://localhost:8080/"
        },
        "id": "LYrygXH2emRD",
        "outputId": "45700c64-aa01-454d-954b-82d4b29f4e53"
      },
      "source": [
        "len(new_gs), len(new_auto)"
      ],
      "execution_count": null,
      "outputs": [
        {
          "output_type": "execute_result",
          "data": {
            "text/plain": [
              "(198, 198)"
            ]
          },
          "metadata": {
            "tags": []
          },
          "execution_count": 455
        }
      ]
    },
    {
      "cell_type": "markdown",
      "source": [
        "Возвращаем нужные убранные сегменты с конец выровненного датасета с пометкой"
      ],
      "metadata": {
        "id": "ZxluDLwJ8zS5"
      }
    },
    {
      "cell_type": "code",
      "metadata": {
        "id": "lF9tKtKvmmpU"
      },
      "source": [
        "for i in miss_true:\n",
        "  new_gs.append(i)\n",
        "  new_auto.append('None')"
      ],
      "execution_count": null,
      "outputs": []
    },
    {
      "cell_type": "code",
      "metadata": {
        "id": "NEJIvZ9ME7Nh"
      },
      "source": [
        "for i in lost_gs:\n",
        "  new_gs.append(i)\n",
        "  new_auto.append('None')"
      ],
      "execution_count": null,
      "outputs": []
    },
    {
      "cell_type": "code",
      "metadata": {
        "id": "FOoFofzapgvU"
      },
      "source": [
        "for i in mixed:\n",
        "  new_gs.append(i)\n",
        "  new_auto.append('mixed')\n",
        "  #new_gs.append('mixed')\n",
        "  #new_auto.append(i)"
      ],
      "execution_count": null,
      "outputs": []
    },
    {
      "cell_type": "code",
      "metadata": {
        "id": "gc_Py7gPZ7MR"
      },
      "source": [
        "# for test 3, 1_2 +\n",
        "new_gs.append(mixed_2[1])\n",
        "new_gs.append(mixed_2[1])\n",
        "new_auto.append(mixed_2[0])\n",
        "new_auto.append('lost part')"
      ],
      "execution_count": null,
      "outputs": []
    },
    {
      "cell_type": "code",
      "metadata": {
        "id": "o8eF6xSK0uYk"
      },
      "source": [
        "# for train 2, 3, 1-2\n",
        "# for test 1, 2, 3, 1_2 + ... 1_morph\n",
        "for i in mixed[:-1]:\n",
        "  #new_gs.append(i)\n",
        "  #new_auto.append(not_div_2[-1])\n",
        "  #new_auto.append(i)\n",
        "  #new_gs.append(mixed[-1])"
      ],
      "execution_count": null,
      "outputs": []
    },
    {
      "cell_type": "code",
      "metadata": {
        "id": "3-J-hJNV6u7a"
      },
      "source": [
        "#for proj\n",
        "for i in not_div[1:]:\n",
        "  new_auto.append(not_div[0])\n",
        "  new_gs.append(i)"
      ],
      "execution_count": null,
      "outputs": []
    },
    {
      "cell_type": "code",
      "metadata": {
        "id": "GfKBo17V2ctq"
      },
      "source": [
        "#for test 1_morph\n",
        "for i in div[1:]:\n",
        "  new_gs.append(div[0])\n",
        "  new_auto.append(i)"
      ],
      "execution_count": null,
      "outputs": []
    },
    {
      "cell_type": "markdown",
      "source": [
        "Итоговый датасет"
      ],
      "metadata": {
        "id": "QIL2WuM39E9e"
      }
    },
    {
      "cell_type": "code",
      "metadata": {
        "id": "Wfhfwo0iZGsv"
      },
      "source": [
        "df_aligned = pd.DataFrame()\n",
        "df_aligned['зс'] = new_gs\n",
        "df_aligned['auto'] = new_auto"
      ],
      "execution_count": null,
      "outputs": []
    },
    {
      "cell_type": "code",
      "metadata": {
        "id": "ZDalSUGS3o4x"
      },
      "source": [
        "# для частей\n",
        "#df_aligned.to_csv('train_segm/aligned/data_aligned_proj_2.csv')"
      ],
      "execution_count": null,
      "outputs": []
    },
    {
      "cell_type": "code",
      "metadata": {
        "id": "oJFXksVXnIEe"
      },
      "source": [
        "drop_ids = []\n",
        "for i, row in df_aligned.iterrows():\n",
        "  if row['зс'] == 'None' and row['auto'] == 'None':\n",
        "    drop_ids.append(i)"
      ],
      "execution_count": null,
      "outputs": []
    },
    {
      "cell_type": "code",
      "metadata": {
        "colab": {
          "base_uri": "https://localhost:8080/"
        },
        "id": "9fmkB2vozVNZ",
        "outputId": "fc144e26-4a1c-4128-ce51-7f531ad9245f"
      },
      "source": [
        "len(drop_ids)"
      ],
      "execution_count": null,
      "outputs": [
        {
          "output_type": "execute_result",
          "data": {
            "text/plain": [
              "5"
            ]
          },
          "metadata": {
            "tags": []
          },
          "execution_count": 462
        }
      ]
    },
    {
      "cell_type": "code",
      "metadata": {
        "id": "aHB9miN1yojd"
      },
      "source": [
        "df_aligned = df_aligned.drop(drop_ids).reset_index(drop=True)"
      ],
      "execution_count": null,
      "outputs": []
    },
    {
      "cell_type": "code",
      "metadata": {
        "colab": {
          "base_uri": "https://localhost:8080/",
          "height": 545
        },
        "id": "kSVnrJ2kmEIZ",
        "outputId": "22ddbbbd-c746-4ec1-90ee-b57631b78d5e"
      },
      "source": [
        "df_aligned.tail(16)"
      ],
      "execution_count": null,
      "outputs": [
        {
          "output_type": "execute_result",
          "data": {
            "text/html": [
              "<div>\n",
              "<style scoped>\n",
              "    .dataframe tbody tr th:only-of-type {\n",
              "        vertical-align: middle;\n",
              "    }\n",
              "\n",
              "    .dataframe tbody tr th {\n",
              "        vertical-align: top;\n",
              "    }\n",
              "\n",
              "    .dataframe thead th {\n",
              "        text-align: right;\n",
              "    }\n",
              "</style>\n",
              "<table border=\"1\" class=\"dataframe\">\n",
              "  <thead>\n",
              "    <tr style=\"text-align: right;\">\n",
              "      <th></th>\n",
              "      <th>зс</th>\n",
              "      <th>auto</th>\n",
              "    </tr>\n",
              "  </thead>\n",
              "  <tbody>\n",
              "    <tr>\n",
              "      <th>183</th>\n",
              "      <td>Хотя было бы очень удобно избежать смущения пр...</td>\n",
              "      <td>Хотя было бы очень удобно избежать смущения пр...</td>\n",
              "    </tr>\n",
              "    <tr>\n",
              "      <th>184</th>\n",
              "      <td>Женщин следует информировать о существующих ри...</td>\n",
              "      <td>Женщин следует информировать о существующих ри...</td>\n",
              "    </tr>\n",
              "    <tr>\n",
              "      <th>185</th>\n",
              "      <td>Кроме того существует риск того что женщины бу...</td>\n",
              "      <td>Кроме того существует риск того что женщины бу...</td>\n",
              "    </tr>\n",
              "    <tr>\n",
              "      <th>186</th>\n",
              "      <td>Собачьи кучки на асфальте представляют собой р...</td>\n",
              "      <td>Собачьи кучки на асфальте представляют собой р...</td>\n",
              "    </tr>\n",
              "    <tr>\n",
              "      <th>187</th>\n",
              "      <td>Каждый раз дети или пожилые люди имеют неостор...</td>\n",
              "      <td>Каждый раз дети или пожилые люди имеют неостор...</td>\n",
              "    </tr>\n",
              "    <tr>\n",
              "      <th>188</th>\n",
              "      <td>наступив на них</td>\n",
              "      <td>Каждый раз дети или пожилые люди имеют неостор...</td>\n",
              "    </tr>\n",
              "    <tr>\n",
              "      <th>189</th>\n",
              "      <td>Предъявление штрафа за оставленные собачьи отх...</td>\n",
              "      <td>Предъявление штрафа за оставленные собачьи отх...</td>\n",
              "    </tr>\n",
              "    <tr>\n",
              "      <th>190</th>\n",
              "      <td>но в конце концов подобные правила часто распр...</td>\n",
              "      <td>но в конце концов подобные правила часто распр...</td>\n",
              "    </tr>\n",
              "    <tr>\n",
              "      <th>191</th>\n",
              "      <td>Поэтому увеличение штрафов это верный путь</td>\n",
              "      <td>Поэтому увеличение штрафов это верный путь</td>\n",
              "    </tr>\n",
              "    <tr>\n",
              "      <th>192</th>\n",
              "      <td>Город не загрязненный собачьими отходами будет...</td>\n",
              "      <td>Город не загрязненный собачьими отходами будет...</td>\n",
              "    </tr>\n",
              "    <tr>\n",
              "      <th>193</th>\n",
              "      <td>Прототип нового спорткара Audi поднял шум в ср...</td>\n",
              "      <td>None</td>\n",
              "    </tr>\n",
              "    <tr>\n",
              "      <th>194</th>\n",
              "      <td>Кроме того для магазинов нет необходимости раб...</td>\n",
              "      <td>None</td>\n",
              "    </tr>\n",
              "    <tr>\n",
              "      <th>195</th>\n",
              "      <td>хотя для уборки после собаки однозначно не хва...</td>\n",
              "      <td>None</td>\n",
              "    </tr>\n",
              "    <tr>\n",
              "      <th>196</th>\n",
              "      <td>Они должны проходить гинекологическое обследов...</td>\n",
              "      <td>None</td>\n",
              "    </tr>\n",
              "    <tr>\n",
              "      <th>197</th>\n",
              "      <td>прежде чем принимать эти таблетки</td>\n",
              "      <td>None</td>\n",
              "    </tr>\n",
              "    <tr>\n",
              "      <th>198</th>\n",
              "      <td>Ни у кого не должно быть возможности купить пр...</td>\n",
              "      <td>None</td>\n",
              "    </tr>\n",
              "  </tbody>\n",
              "</table>\n",
              "</div>"
            ],
            "text/plain": [
              "                                                    зс                                               auto\n",
              "183  Хотя было бы очень удобно избежать смущения пр...  Хотя было бы очень удобно избежать смущения пр...\n",
              "184  Женщин следует информировать о существующих ри...  Женщин следует информировать о существующих ри...\n",
              "185  Кроме того существует риск того что женщины бу...  Кроме того существует риск того что женщины бу...\n",
              "186  Собачьи кучки на асфальте представляют собой р...  Собачьи кучки на асфальте представляют собой р...\n",
              "187  Каждый раз дети или пожилые люди имеют неостор...  Каждый раз дети или пожилые люди имеют неостор...\n",
              "188                                    наступив на них  Каждый раз дети или пожилые люди имеют неостор...\n",
              "189  Предъявление штрафа за оставленные собачьи отх...  Предъявление штрафа за оставленные собачьи отх...\n",
              "190  но в конце концов подобные правила часто распр...  но в конце концов подобные правила часто распр...\n",
              "191         Поэтому увеличение штрафов это верный путь         Поэтому увеличение штрафов это верный путь\n",
              "192  Город не загрязненный собачьими отходами будет...  Город не загрязненный собачьими отходами будет...\n",
              "193  Прототип нового спорткара Audi поднял шум в ср...                                               None\n",
              "194  Кроме того для магазинов нет необходимости раб...                                               None\n",
              "195  хотя для уборки после собаки однозначно не хва...                                               None\n",
              "196  Они должны проходить гинекологическое обследов...                                               None\n",
              "197                  прежде чем принимать эти таблетки                                               None\n",
              "198  Ни у кого не должно быть возможности купить пр...                                               None"
            ]
          },
          "metadata": {
            "tags": []
          },
          "execution_count": 464
        }
      ]
    },
    {
      "cell_type": "markdown",
      "source": [
        "Из выровненного датасета получаем датасет с сегментами, которые различаются в двух сравниваемых разметках"
      ],
      "metadata": {
        "id": "-ShT0BQY9JTt"
      }
    },
    {
      "cell_type": "code",
      "metadata": {
        "colab": {
          "base_uri": "https://localhost:8080/",
          "height": 204
        },
        "id": "p4iTtG5Miz70",
        "outputId": "d2001317-f591-4786-b0f5-6c77f9a8a346"
      },
      "source": [
        "diff_g = []\n",
        "diff_a = []\n",
        "diff_i = []\n",
        "for i, row in df_aligned.iterrows():\n",
        "  if row['зс'] != row['auto']:\n",
        "    diff_g.append(row['зс'])\n",
        "    diff_a.append(row['auto'])\n",
        "    diff_i.append(i)\n",
        "diff_df = pd.DataFrame()\n",
        "diff_df['segm_id'] = diff_i\n",
        "diff_df['зс'] = diff_g\n",
        "diff_df['auto'] = diff_a\n",
        "diff_df.head()"
      ],
      "execution_count": null,
      "outputs": [
        {
          "output_type": "execute_result",
          "data": {
            "text/html": [
              "<div>\n",
              "<style scoped>\n",
              "    .dataframe tbody tr th:only-of-type {\n",
              "        vertical-align: middle;\n",
              "    }\n",
              "\n",
              "    .dataframe tbody tr th {\n",
              "        vertical-align: top;\n",
              "    }\n",
              "\n",
              "    .dataframe thead th {\n",
              "        text-align: right;\n",
              "    }\n",
              "</style>\n",
              "<table border=\"1\" class=\"dataframe\">\n",
              "  <thead>\n",
              "    <tr style=\"text-align: right;\">\n",
              "      <th></th>\n",
              "      <th>segm_id</th>\n",
              "      <th>зс</th>\n",
              "      <th>auto</th>\n",
              "    </tr>\n",
              "  </thead>\n",
              "  <tbody>\n",
              "    <tr>\n",
              "      <th>0</th>\n",
              "      <td>9</td>\n",
              "      <td>Как фармацевт я категорически выступаю за прод...</td>\n",
              "      <td>Как фармацевт</td>\n",
              "    </tr>\n",
              "    <tr>\n",
              "      <th>1</th>\n",
              "      <td>10</td>\n",
              "      <td>Как фармацевт я категорически выступаю за прод...</td>\n",
              "      <td>я категорически выступаю за продажу противозач...</td>\n",
              "    </tr>\n",
              "    <tr>\n",
              "      <th>2</th>\n",
              "      <td>13</td>\n",
              "      <td>Многие противники противозачаточных средств от...</td>\n",
              "      <td>Многие противники противозачаточных средств от...</td>\n",
              "    </tr>\n",
              "    <tr>\n",
              "      <th>3</th>\n",
              "      <td>14</td>\n",
              "      <td>и многие женщины принимают таблетки без необхо...</td>\n",
              "      <td>Многие противники противозачаточных средств от...</td>\n",
              "    </tr>\n",
              "    <tr>\n",
              "      <th>4</th>\n",
              "      <td>17</td>\n",
              "      <td>За свою историю человечество совершило достато...</td>\n",
              "      <td>За свою историю человечество совершило достато...</td>\n",
              "    </tr>\n",
              "  </tbody>\n",
              "</table>\n",
              "</div>"
            ],
            "text/plain": [
              "   segm_id  ...                                               auto\n",
              "0        9  ...                                      Как фармацевт\n",
              "1       10  ...  я категорически выступаю за продажу противозач...\n",
              "2       13  ...  Многие противники противозачаточных средств от...\n",
              "3       14  ...  Многие противники противозачаточных средств от...\n",
              "4       17  ...  За свою историю человечество совершило достато...\n",
              "\n",
              "[5 rows x 3 columns]"
            ]
          },
          "metadata": {
            "tags": []
          },
          "execution_count": 17
        }
      ]
    },
    {
      "cell_type": "code",
      "metadata": {
        "id": "rE6Fa0YLjo5g"
      },
      "source": [
        "diff_df.to_csv('test_segm/diffs/diff_proj_test.csv')"
      ],
      "execution_count": null,
      "outputs": []
    },
    {
      "cell_type": "code",
      "metadata": {
        "id": "S2Q8eWHx_vD8"
      },
      "source": [
        "#df_aligned = pd.read_csv('train_segm/aligned/da_rule_1__rule_morph_all.csv')"
      ],
      "execution_count": null,
      "outputs": []
    },
    {
      "cell_type": "code",
      "metadata": {
        "id": "Q5jDTQHXlRB-"
      },
      "source": [
        "df = pd.read_csv('all_segm_Kesha_5_train_clean.csv')"
      ],
      "execution_count": null,
      "outputs": []
    },
    {
      "cell_type": "code",
      "metadata": {
        "id": "CW292RRygPHk"
      },
      "source": [
        "import pandas as pd\n",
        "df_aligned = pd.read_csv('test_segm/aligned/data_aligned_proj_corrected.csv')"
      ],
      "execution_count": null,
      "outputs": []
    },
    {
      "cell_type": "code",
      "metadata": {
        "id": "-zlZZAsIvCeI"
      },
      "source": [
        "golden_uniq = []\n",
        "for i, row  in df_aligned.iterrows():\n",
        "  if row['зс'] != 'None':\n",
        "    if i > 0:\n",
        "      if row['зс'] != golden_uniq[-1]:\n",
        "        golden_uniq.append(row['зс'])\n",
        "    else:\n",
        "      golden_uniq.append(row['зс'])"
      ],
      "execution_count": null,
      "outputs": []
    },
    {
      "cell_type": "code",
      "metadata": {
        "colab": {
          "base_uri": "https://localhost:8080/"
        },
        "id": "l7bqHFhUv3Gk",
        "outputId": "2fca9fcd-8ad3-47e5-dcd4-c99b450743bf"
      },
      "source": [
        "len(golden_uniq)"
      ],
      "execution_count": null,
      "outputs": [
        {
          "output_type": "execute_result",
          "data": {
            "text/plain": [
              "191"
            ]
          },
          "metadata": {
            "tags": []
          },
          "execution_count": 16
        }
      ]
    },
    {
      "cell_type": "code",
      "metadata": {
        "id": "xRPpaypHeUow"
      },
      "source": [
        "#проверка на то, что ничего не потеряли в зс\n",
        "pres = 0\n",
        "nop = 0\n",
        "for i in range(len(list(df['зс']))):\n",
        "  if list(df['зс'])[i] != 'None':\n",
        "    if list(df['зс'])[i] in list(df_aligned['зс']):\n",
        "      pres += 1\n",
        "    else:\n",
        "      print(i, list(df['зс'])[i])\n",
        "      nop += 1\n",
        "pres, nop"
      ],
      "execution_count": null,
      "outputs": []
    },
    {
      "cell_type": "markdown",
      "metadata": {
        "id": "TNf9CMl2cZ4p"
      },
      "source": [
        "# df save 1"
      ]
    },
    {
      "cell_type": "code",
      "metadata": {
        "id": "x_vX3rwiXK9p"
      },
      "source": [
        "df_aligned.to_csv('data_aligned/final_gs/data_aligned_no_rules.csv')"
      ],
      "execution_count": null,
      "outputs": []
    },
    {
      "cell_type": "code",
      "metadata": {
        "id": "dQLbn3Bb-R9V"
      },
      "source": [
        "df_aligned.to_csv('data_aligned/final_gs/data_aligned_rule_1.csv')"
      ],
      "execution_count": null,
      "outputs": []
    },
    {
      "cell_type": "code",
      "metadata": {
        "id": "VVTJyQCOYM-M"
      },
      "source": [
        "df_aligned.to_csv('data_aligned/final_gs/data_aligned_rule_2.csv')"
      ],
      "execution_count": null,
      "outputs": []
    },
    {
      "cell_type": "code",
      "metadata": {
        "id": "g6L_zRArG4AE"
      },
      "source": [
        "df_aligned.to_csv('data_aligned/final_gs/data_aligned_rule_3_mystem.csv')"
      ],
      "execution_count": null,
      "outputs": []
    },
    {
      "cell_type": "code",
      "metadata": {
        "id": "b-4orZrYISig"
      },
      "source": [
        "df_aligned.to_csv('data_aligned/final_gs/data_aligned_rule_3.csv')"
      ],
      "execution_count": null,
      "outputs": []
    },
    {
      "cell_type": "code",
      "metadata": {
        "id": "Wz8tUE8oCxHQ"
      },
      "source": [
        "df_aligned.to_csv('data_aligned/final_gs/data_aligned_rule_1__rule2.csv')"
      ],
      "execution_count": null,
      "outputs": []
    },
    {
      "cell_type": "code",
      "metadata": {
        "id": "lkoHYjomDnpM"
      },
      "source": [
        "df_aligned.to_csv('data_aligned/final_gs/data_aligned_rule_1_rule_3.csv')"
      ],
      "execution_count": null,
      "outputs": []
    },
    {
      "cell_type": "code",
      "metadata": {
        "id": "rh0ijNFuEUv-"
      },
      "source": [
        "df_aligned.to_csv('data_aligned/final_gs/data_aligned_rule_2__rule_3.csv')"
      ],
      "execution_count": null,
      "outputs": []
    },
    {
      "cell_type": "code",
      "metadata": {
        "id": "9omWWCiYE_q5"
      },
      "source": [
        "df_aligned.to_csv('data_aligned/final_gs/data_aligned_rule_1__rule_2__rule_3.csv')"
      ],
      "execution_count": null,
      "outputs": []
    },
    {
      "cell_type": "code",
      "metadata": {
        "id": "1Wdkftp4UkNM"
      },
      "source": [
        "df_aligned.to_csv('data_aligned/final_gs/data_aligned_proj.csv')"
      ],
      "execution_count": null,
      "outputs": []
    },
    {
      "cell_type": "code",
      "metadata": {
        "id": "9b5cw4WGCOb5"
      },
      "source": [
        "df_aligned.to_csv('data_aligned/final_gs/data_aligned_morph.csv')"
      ],
      "execution_count": null,
      "outputs": []
    },
    {
      "cell_type": "markdown",
      "metadata": {
        "id": "XpZJ5CpCckco"
      },
      "source": [
        "# df save 2 version"
      ]
    },
    {
      "cell_type": "code",
      "metadata": {
        "id": "cJR96CdBcnPd"
      },
      "source": [
        "df_aligned.to_csv('final_gs/fixed_data/data_aligned_rule_1.csv')"
      ],
      "execution_count": null,
      "outputs": []
    },
    {
      "cell_type": "code",
      "metadata": {
        "id": "Kpy-OGGpkp-W"
      },
      "source": [
        "df_aligned.to_csv('final_gs/fixed_data/data_aligned_rule_2.csv')"
      ],
      "execution_count": null,
      "outputs": []
    },
    {
      "cell_type": "code",
      "metadata": {
        "id": "fze9FRdW2I0d"
      },
      "source": [
        "df_aligned.to_csv('final_gs/fixed_data/data_aligned_rule_3.csv')"
      ],
      "execution_count": null,
      "outputs": []
    },
    {
      "cell_type": "code",
      "metadata": {
        "id": "wVEhd0ao27QL"
      },
      "source": [
        "df_aligned.to_csv('final_gs/fixed_data/data_aligned_rule_1__rule_2.csv')"
      ],
      "execution_count": null,
      "outputs": []
    },
    {
      "cell_type": "code",
      "metadata": {
        "id": "hK-d8j3Z5UJM"
      },
      "source": [
        "df_aligned.to_csv('final_gs/fixed_data/data_aligned_rule_1__rule_3.csv')"
      ],
      "execution_count": null,
      "outputs": []
    },
    {
      "cell_type": "code",
      "metadata": {
        "id": "gr5UVyNV5egq"
      },
      "source": [
        "df_aligned.to_csv('final_gs/fixed_data/data_aligned_rule_2__rule_3.csv')"
      ],
      "execution_count": null,
      "outputs": []
    },
    {
      "cell_type": "code",
      "metadata": {
        "id": "Bzc1dM566sPk"
      },
      "source": [
        "df_aligned.to_csv('final_gs/fixed_data/data_aligned_rule_1__rule_2__rule_3.csv')"
      ],
      "execution_count": null,
      "outputs": []
    },
    {
      "cell_type": "markdown",
      "metadata": {
        "id": "sqNnSIrQkPGM"
      },
      "source": [
        "# df save 3"
      ]
    },
    {
      "cell_type": "code",
      "metadata": {
        "id": "qNqpK4lAkN6Z"
      },
      "source": [
        "df_aligned.to_csv('train_segm/aligned/data_aligned_no_rules.csv')"
      ],
      "execution_count": null,
      "outputs": []
    },
    {
      "cell_type": "code",
      "metadata": {
        "id": "Re9chJiJFOk7"
      },
      "source": [
        "df_aligned.to_csv('test_segm/aligned/data_aligned_no_rules.csv')"
      ],
      "execution_count": null,
      "outputs": []
    },
    {
      "cell_type": "code",
      "metadata": {
        "id": "cUw0aGRRLeQW"
      },
      "source": [
        "df_aligned.to_csv('test_segm/aligned/data_aligned_proj.csv')"
      ],
      "execution_count": null,
      "outputs": []
    },
    {
      "cell_type": "markdown",
      "metadata": {
        "id": "HvXGtHKochfq"
      },
      "source": [
        "# evaluation"
      ]
    },
    {
      "cell_type": "code",
      "metadata": {
        "id": "9Ig5XVEyVq5Y"
      },
      "source": [
        "import pandas as pd\n",
        "df_aligned = pd.read_csv('train_segm/aligned/data_aligned_no_rules_50.csv')"
      ],
      "execution_count": null,
      "outputs": []
    },
    {
      "cell_type": "code",
      "metadata": {
        "id": "H2MfMfoDF8PK"
      },
      "source": [
        "import sklearn\n",
        "from sklearn.metrics import cohen_kappa_score"
      ],
      "execution_count": null,
      "outputs": []
    },
    {
      "cell_type": "code",
      "metadata": {
        "id": "wXzGdKk2FVuk"
      },
      "source": [
        "agree = 0\n",
        "for i, row in df_aligned.iterrows():\n",
        "  if row['зс'] == row['auto']:\n",
        "    agree += 1"
      ],
      "execution_count": null,
      "outputs": []
    },
    {
      "cell_type": "code",
      "metadata": {
        "id": "eHVwDN4Ebn4K",
        "colab": {
          "base_uri": "https://localhost:8080/"
        },
        "outputId": "165b6153-be19-47fe-f1a4-3a01aee96ddc"
      },
      "source": [
        "agree, len(golden_uniq)-1"
      ],
      "execution_count": null,
      "outputs": [
        {
          "output_type": "execute_result",
          "data": {
            "text/plain": [
              "(150, 190)"
            ]
          },
          "metadata": {
            "tags": []
          },
          "execution_count": 20
        }
      ]
    },
    {
      "cell_type": "code",
      "metadata": {
        "id": "_aXqybMnFYpH"
      },
      "source": [
        "def eval(rule):\n",
        "  \"\"\"Возвращает Accuracy и Kappa scores\"\"\"\n",
        "\n",
        "  print(f'accuracy зс vs {rule} = {agree/(len(golden_uniq)-1)}')\n",
        "  print(f\"kappa зс vs {rule} = {cohen_kappa_score(df_aligned['зс'], df_aligned['auto'])}\")"
      ],
      "execution_count": null,
      "outputs": []
    },
    {
      "cell_type": "markdown",
      "metadata": {
        "id": "bbWNcP9OgC-Y"
      },
      "source": [
        "# new scores train updated"
      ]
    },
    {
      "cell_type": "code",
      "metadata": {
        "colab": {
          "base_uri": "https://localhost:8080/"
        },
        "id": "3M3uKrzDgC-Z",
        "outputId": "7d004309-c7b4-457e-fd9f-4c13e041c2e7"
      },
      "source": [
        "eval('rule_1')"
      ],
      "execution_count": null,
      "outputs": [
        {
          "output_type": "stream",
          "text": [
            "accuracy зс vs rule_1 = 0.8396624472573839\n",
            "kappa зс vs rule_1 = 0.7394186392477322\n"
          ],
          "name": "stdout"
        }
      ]
    },
    {
      "cell_type": "code",
      "metadata": {
        "colab": {
          "base_uri": "https://localhost:8080/"
        },
        "id": "PKFS6f54gC-b",
        "outputId": "2f493254-28f4-4f58-910c-5f33a5d6bf61"
      },
      "source": [
        "eval('rule_2')"
      ],
      "execution_count": null,
      "outputs": [
        {
          "output_type": "stream",
          "text": [
            "accuracy зс vs rule_2 = 0.7932489451476793\n",
            "kappa зс vs rule_2 = 0.7063768362061645\n"
          ],
          "name": "stdout"
        }
      ]
    },
    {
      "cell_type": "code",
      "metadata": {
        "colab": {
          "base_uri": "https://localhost:8080/"
        },
        "id": "PVKg-ui7gC-c",
        "outputId": "2551440d-b78d-4f9c-bb48-d7cb8f13df22"
      },
      "source": [
        "eval('rule_3')"
      ],
      "execution_count": null,
      "outputs": [
        {
          "output_type": "stream",
          "text": [
            "accuracy зс vs rule_3 = 0.7552742616033755\n",
            "kappa зс vs rule_3 = 0.6750575671378973\n"
          ],
          "name": "stdout"
        }
      ]
    },
    {
      "cell_type": "code",
      "metadata": {
        "colab": {
          "base_uri": "https://localhost:8080/"
        },
        "id": "jHYAza5PgC-d",
        "outputId": "879b36f1-0bcf-43d3-e24e-d96b27bb1677"
      },
      "source": [
        "eval('rule_1__rule_2')"
      ],
      "execution_count": null,
      "outputs": [
        {
          "output_type": "stream",
          "text": [
            "accuracy зс vs rule_1__rule_2 = 0.7911392405063291\n",
            "kappa зс vs rule_1__rule_2 = 0.7044956819235164\n"
          ],
          "name": "stdout"
        }
      ]
    },
    {
      "cell_type": "code",
      "metadata": {
        "colab": {
          "base_uri": "https://localhost:8080/"
        },
        "id": "zeo_mOJYgC-e",
        "outputId": "102ea19f-b4b4-4146-e734-655572f2dbd4"
      },
      "source": [
        "eval('rule_1__rule_morph')"
      ],
      "execution_count": null,
      "outputs": [
        {
          "output_type": "stream",
          "text": [
            "accuracy зс vs rule_1__rule_morph = 0.8396624472573839\n",
            "kappa зс vs rule_1__rule_morph = 0.7591929330580863\n"
          ],
          "name": "stdout"
        }
      ]
    },
    {
      "cell_type": "code",
      "metadata": {
        "colab": {
          "base_uri": "https://localhost:8080/"
        },
        "id": "Xux47N1j8tqo",
        "outputId": "e81e2eb6-13e4-4bda-b27d-8b202c01b260"
      },
      "source": [
        "eval('proj')"
      ],
      "execution_count": null,
      "outputs": [
        {
          "output_type": "stream",
          "text": [
            "accuracy зс vs proj = 0.7827004219409283\n",
            "kappa зс vs proj = 0.7476022211004543\n"
          ],
          "name": "stdout"
        }
      ]
    },
    {
      "cell_type": "code",
      "metadata": {
        "colab": {
          "base_uri": "https://localhost:8080/"
        },
        "id": "tK4wvYPCewOD",
        "outputId": "7d58000c-7bc2-4f7a-81b1-0188eff46e6e"
      },
      "source": [
        "eval('proj')"
      ],
      "execution_count": null,
      "outputs": [
        {
          "output_type": "stream",
          "text": [
            "accuracy зс vs proj = 0.7827004219409283\n",
            "kappa зс vs proj = 0.7476032485904456\n"
          ],
          "name": "stdout"
        }
      ]
    },
    {
      "cell_type": "markdown",
      "metadata": {
        "id": "1ovw3UPRsHs4"
      },
      "source": [
        "No_rules ver does not need updates"
      ]
    },
    {
      "cell_type": "markdown",
      "metadata": {
        "id": "gsSg10CUFovc"
      },
      "source": [
        "# new scores test"
      ]
    },
    {
      "cell_type": "code",
      "metadata": {
        "colab": {
          "base_uri": "https://localhost:8080/"
        },
        "id": "AOnksQiaFqjr",
        "outputId": "f26c97c1-92a9-43ce-b73e-c04529970fcc"
      },
      "source": [
        "eval('rule_1')"
      ],
      "execution_count": null,
      "outputs": [
        {
          "output_type": "stream",
          "text": [
            "accuracy зс vs rule_1 = 0.7736842105263158\n",
            "kappa зс vs rule_1 = 0.6702221106788806\n"
          ],
          "name": "stdout"
        }
      ]
    },
    {
      "cell_type": "code",
      "metadata": {
        "colab": {
          "base_uri": "https://localhost:8080/"
        },
        "id": "k9PKAzijSfV9",
        "outputId": "8369abf0-c65f-49c8-e3c1-a66a2783f34d"
      },
      "source": [
        "eval('rule_2')"
      ],
      "execution_count": null,
      "outputs": [
        {
          "output_type": "stream",
          "text": [
            "accuracy зс vs rule_2 = 0.7263157894736842\n",
            "kappa зс vs rule_2 = 0.6437864120197994\n"
          ],
          "name": "stdout"
        }
      ]
    },
    {
      "cell_type": "code",
      "metadata": {
        "colab": {
          "base_uri": "https://localhost:8080/"
        },
        "id": "5ks9eE70a9DM",
        "outputId": "96cfb90e-1bc8-4092-ad71-249091e101b7"
      },
      "source": [
        "eval('rule_3')"
      ],
      "execution_count": null,
      "outputs": [
        {
          "output_type": "stream",
          "text": [
            "accuracy зс vs rule_3 = 0.6894736842105263\n",
            "kappa зс vs rule_3 = 0.6168076227880303\n"
          ],
          "name": "stdout"
        }
      ]
    },
    {
      "cell_type": "code",
      "metadata": {
        "colab": {
          "base_uri": "https://localhost:8080/"
        },
        "id": "U8ig24Lzfb3x",
        "outputId": "6afb63ab-b81a-4704-a584-dc698815673b"
      },
      "source": [
        "eval('rule_1__rule_2')"
      ],
      "execution_count": null,
      "outputs": [
        {
          "output_type": "stream",
          "text": [
            "accuracy зс vs rule_1__rule_2 = 0.7263157894736842\n",
            "kappa зс vs rule_1__rule_2 = 0.6437864120197994\n"
          ],
          "name": "stdout"
        }
      ]
    },
    {
      "cell_type": "code",
      "metadata": {
        "colab": {
          "base_uri": "https://localhost:8080/"
        },
        "id": "ZLd6TkbgoUtS",
        "outputId": "27aa7a52-42c9-48c0-c8a0-0451015b0db0"
      },
      "source": [
        "eval('rule_1__rule_3')"
      ],
      "execution_count": null,
      "outputs": [
        {
          "output_type": "stream",
          "text": [
            "accuracy зс vs rule_1__rule_3 = 0.6684210526315789\n",
            "kappa зс vs rule_1__rule_3 = 0.5979204319789366\n"
          ],
          "name": "stdout"
        }
      ]
    },
    {
      "cell_type": "code",
      "metadata": {
        "colab": {
          "base_uri": "https://localhost:8080/"
        },
        "id": "2m0HkCRu3AlZ",
        "outputId": "e9512525-c707-4a55-ea30-754989e5ece9"
      },
      "source": [
        "eval('rule_1__rule_morph')"
      ],
      "execution_count": null,
      "outputs": [
        {
          "output_type": "stream",
          "text": [
            "accuracy зс vs rule_1__rule_morph = 0.8105263157894737\n",
            "kappa зс vs rule_1__rule_morph = 0.7254744362580934\n"
          ],
          "name": "stdout"
        }
      ]
    },
    {
      "cell_type": "code",
      "metadata": {
        "colab": {
          "base_uri": "https://localhost:8080/"
        },
        "id": "IcegiG02Qzkd",
        "outputId": "47fe6820-1da4-4ecb-857f-06a8a414c6c4"
      },
      "source": [
        "eval('no_rules')"
      ],
      "execution_count": null,
      "outputs": [
        {
          "output_type": "stream",
          "text": [
            "accuracy зс vs no_rules = 0.7421052631578947\n",
            "kappa зс vs no_rules = 0.6284126793780229\n"
          ],
          "name": "stdout"
        }
      ]
    },
    {
      "cell_type": "code",
      "metadata": {
        "colab": {
          "base_uri": "https://localhost:8080/"
        },
        "id": "ZzZX9lvCLk0W",
        "outputId": "47de3739-8b36-4540-8ea1-fd2a8be7f4e6"
      },
      "source": [
        "eval('proj')"
      ],
      "execution_count": null,
      "outputs": [
        {
          "output_type": "stream",
          "text": [
            "accuracy зс vs proj = 0.7842105263157895\n",
            "kappa зс vs proj = 0.747794788603873\n"
          ],
          "name": "stdout"
        }
      ]
    },
    {
      "cell_type": "code",
      "metadata": {
        "colab": {
          "base_uri": "https://localhost:8080/"
        },
        "id": "PRQQXMD_flhE",
        "outputId": "215aae1d-611d-45fb-d16b-5e161886d78c"
      },
      "source": [
        "eval('proj')"
      ],
      "execution_count": null,
      "outputs": [
        {
          "output_type": "stream",
          "text": [
            "accuracy зс vs proj = 0.7894736842105263\n",
            "kappa зс vs proj = 0.7528326278167854\n"
          ],
          "name": "stdout"
        }
      ]
    },
    {
      "cell_type": "markdown",
      "metadata": {
        "id": "wdGoc2mFknH6"
      },
      "source": [
        "# new scores train"
      ]
    },
    {
      "cell_type": "code",
      "metadata": {
        "colab": {
          "base_uri": "https://localhost:8080/"
        },
        "id": "1ov82lSYkpWj",
        "outputId": "e34bca04-6d53-4364-8fdc-364f81983f28"
      },
      "source": [
        "print(f'accuracy зс vs rule_1 = {agree/(len(golden_uniq)-1)}')\n",
        "print(f\"kappa зс vs rule_1 = {cohen_kappa_score(df_aligned['зс'], df_aligned['auto'])}\")"
      ],
      "execution_count": null,
      "outputs": [
        {
          "output_type": "stream",
          "text": [
            "accuracy зс vs rule_1 = 0.8375527426160337\n",
            "kappa зс vs rule_1 = 0.7375582517722031\n"
          ],
          "name": "stdout"
        }
      ]
    },
    {
      "cell_type": "code",
      "metadata": {
        "colab": {
          "base_uri": "https://localhost:8080/"
        },
        "id": "3AEV0qGNq14-",
        "outputId": "f94821a4-5aa1-42d8-9ca6-97f3c8f57f1d"
      },
      "source": [
        "print(f'accuracy зс vs rule_2 = {agree/(len(golden_uniq)-1)}')\n",
        "print(f\"kappa зс vs rule_2 = {cohen_kappa_score(df_aligned['зс'], df_aligned['auto'])}\")"
      ],
      "execution_count": null,
      "outputs": [
        {
          "output_type": "stream",
          "text": [
            "accuracy зс vs rule_2 = 0.7911392405063291\n",
            "kappa зс vs rule_2 = 0.7044956819235164\n"
          ],
          "name": "stdout"
        }
      ]
    },
    {
      "cell_type": "code",
      "metadata": {
        "colab": {
          "base_uri": "https://localhost:8080/"
        },
        "id": "FfQSFlBVuyJL",
        "outputId": "a6444bed-ed48-4803-a2f4-e91cc91530ab"
      },
      "source": [
        "print(f'accuracy зс vs rule_3 = {agree/(len(golden_uniq)-1)}')\n",
        "print(f\"kappa зс vs rule_3 = {cohen_kappa_score(df_aligned['зс'], df_aligned['auto'])}\")"
      ],
      "execution_count": null,
      "outputs": [
        {
          "output_type": "stream",
          "text": [
            "accuracy зс vs rule_3 = 0.7531645569620253\n",
            "kappa зс vs rule_3 = 0.6731695319434097\n"
          ],
          "name": "stdout"
        }
      ]
    },
    {
      "cell_type": "code",
      "metadata": {
        "colab": {
          "base_uri": "https://localhost:8080/"
        },
        "id": "1TAl-OkpAXfB",
        "outputId": "6290cc49-3934-4bfe-8da5-8d51029c0753"
      },
      "source": [
        "print(f'accuracy зс vs rule_1__rule_2 = {agree/(len(golden_uniq)-1)}')\n",
        "print(f\"kappa зс vs rule_1__rule_2 = {cohen_kappa_score(df_aligned['зс'], df_aligned['auto'])}\")"
      ],
      "execution_count": null,
      "outputs": [
        {
          "output_type": "stream",
          "text": [
            "accuracy зс vs rule_1__rule_2 = 0.7890295358649789\n",
            "kappa зс vs rule_1__rule_2 = 0.7026145409517071\n"
          ],
          "name": "stdout"
        }
      ]
    },
    {
      "cell_type": "code",
      "metadata": {
        "id": "_Lv1R9-bjunY",
        "colab": {
          "base_uri": "https://localhost:8080/"
        },
        "outputId": "16e91fc7-d096-4a61-a361-08f0dfb65eeb"
      },
      "source": [
        "print(f'accuracy зс vs rule_1__rule_morph = {agree/(len(golden_uniq)-1)}')\n",
        "print(f\"kappa зс vs rule_1__rule_morph = {cohen_kappa_score(df_aligned['зс'], df_aligned['auto'])}\")"
      ],
      "execution_count": null,
      "outputs": [
        {
          "output_type": "stream",
          "text": [
            "accuracy зс vs rule_1__rule_morph = 0.8375527426160337\n",
            "kappa зс vs rule_1__rule_morph = 0.7572826511147827\n"
          ],
          "name": "stdout"
        }
      ]
    },
    {
      "cell_type": "code",
      "metadata": {
        "colab": {
          "base_uri": "https://localhost:8080/"
        },
        "id": "QoEOgk3aZ5NN",
        "outputId": "c4c18ad6-8b17-40b1-f461-8a2ea1930af6"
      },
      "source": [
        "print(f'accuracy зс vs no_rules = {agree/(len(golden_uniq)-1)}')\n",
        "print(f\"kappa зс vs no_rules = {cohen_kappa_score(df_aligned['зс'], df_aligned['auto'])}\")"
      ],
      "execution_count": null,
      "outputs": [
        {
          "output_type": "stream",
          "text": [
            "accuracy зс vs no_rules = 0.8270042194092827\n",
            "kappa зс vs no_rules = 0.7188950656198063\n"
          ],
          "name": "stdout"
        }
      ]
    },
    {
      "cell_type": "markdown",
      "metadata": {
        "id": "Q6szFHoLfoxX"
      },
      "source": [
        "# df comparison"
      ]
    },
    {
      "cell_type": "markdown",
      "source": [
        "Датасет, чтобы сравнивать авторазметку и разметку, полученную при помочи выравнивания"
      ],
      "metadata": {
        "id": "6cGVy4rp-svK"
      }
    },
    {
      "cell_type": "code",
      "metadata": {
        "id": "GlQvfVX6ciLK"
      },
      "source": [
        "import pandas as pd\n",
        "df_aligned = pd.read_csv('data_aligned/data_aligned_rule_1.csv')\n",
        "df_proj = pd.read_csv('data_aligned/data_aligned_proj.csv')"
      ],
      "execution_count": null,
      "outputs": []
    },
    {
      "cell_type": "code",
      "metadata": {
        "colab": {
          "base_uri": "https://localhost:8080/"
        },
        "id": "GNA6-Qhfcq2i",
        "outputId": "93e0971f-37b6-421a-a739-135020554ea8"
      },
      "source": [
        "df_aligned.shape, df_proj.shape"
      ],
      "execution_count": null,
      "outputs": [
        {
          "output_type": "execute_result",
          "data": {
            "text/plain": [
              "((319, 2), (296, 2))"
            ]
          },
          "metadata": {
            "tags": []
          },
          "execution_count": 6
        }
      ]
    },
    {
      "cell_type": "code",
      "metadata": {
        "id": "DLq4wDCcdMZU"
      },
      "source": [
        "df_aligned = df_aligned.drop('Unnamed: 0', axis = 1).reset_index(drop = True)\n",
        "df_proj = df_proj.drop('Unnamed: 0', axis = 1).reset_index(drop = True)"
      ],
      "execution_count": null,
      "outputs": []
    },
    {
      "cell_type": "code",
      "metadata": {
        "id": "XP90osWGeytO"
      },
      "source": [
        "df_proj.rename(columns = {'зс':'proj_g', 'auto':'proj_a'}, inplace = True)"
      ],
      "execution_count": null,
      "outputs": []
    },
    {
      "cell_type": "code",
      "metadata": {
        "colab": {
          "base_uri": "https://localhost:8080/"
        },
        "id": "5Jzrtb9le9C-",
        "outputId": "82ac8ffe-289f-496f-8a5e-76b03fe42442"
      },
      "source": [
        "df_comp = df_aligned.join(df_proj)\n",
        "df_comp.rename(columns = {'зс':'auto_g', 'auto':'auto_a'}, inplace = True)\n",
        "df_comp.head()"
      ],
      "execution_count": null,
      "outputs": [
        {
          "output_type": "execute_result",
          "data": {
            "text/html": [
              "<div>\n",
              "<style scoped>\n",
              "    .dataframe tbody tr th:only-of-type {\n",
              "        vertical-align: middle;\n",
              "    }\n",
              "\n",
              "    .dataframe tbody tr th {\n",
              "        vertical-align: top;\n",
              "    }\n",
              "\n",
              "    .dataframe thead th {\n",
              "        text-align: right;\n",
              "    }\n",
              "</style>\n",
              "<table border=\"1\" class=\"dataframe\">\n",
              "  <thead>\n",
              "    <tr style=\"text-align: right;\">\n",
              "      <th></th>\n",
              "      <th>auto_g</th>\n",
              "      <th>auto_a</th>\n",
              "      <th>proj_g</th>\n",
              "      <th>proj_a</th>\n",
              "    </tr>\n",
              "  </thead>\n",
              "  <tbody>\n",
              "    <tr>\n",
              "      <th>0</th>\n",
              "      <td>Да очень раздражает</td>\n",
              "      <td>Да очень раздражает</td>\n",
              "      <td>Да очень раздражает</td>\n",
              "      <td>Да очень раздражает и утомляет все время сорти...</td>\n",
              "    </tr>\n",
              "    <tr>\n",
              "      <th>1</th>\n",
              "      <td>и утомляет все время сортировать мусор правильно</td>\n",
              "      <td>и утомляет все время сортировать мусор правильно</td>\n",
              "      <td>и утомляет все время сортировать мусор правильно</td>\n",
              "      <td>Да очень раздражает и утомляет все время сорти...</td>\n",
              "    </tr>\n",
              "    <tr>\n",
              "      <th>2</th>\n",
              "      <td>На кухне воняют три разных мешка для мусора</td>\n",
              "      <td>На кухне воняют три разных мешка для мусора</td>\n",
              "      <td>На кухне воняют три разных мешка для мусора</td>\n",
              "      <td>На кухне воняют три разных мешка для мусора</td>\n",
              "    </tr>\n",
              "    <tr>\n",
              "      <th>3</th>\n",
              "      <td>Их нужно отсортировать в разные мусорные баки</td>\n",
              "      <td>Их нужно отсортировать в разные мусорные баки</td>\n",
              "      <td>Их нужно отсортировать в разные мусорные баки</td>\n",
              "      <td>Их нужно отсортировать в разные мусорные баки</td>\n",
              "    </tr>\n",
              "    <tr>\n",
              "      <th>4</th>\n",
              "      <td>Но все же Германия производит слишком много му...</td>\n",
              "      <td>Но все же Германия производит слишком много му...</td>\n",
              "      <td>Но все же Германия производит слишком много му...</td>\n",
              "      <td>Но все же Германия производит слишком много му...</td>\n",
              "    </tr>\n",
              "  </tbody>\n",
              "</table>\n",
              "</div>"
            ],
            "text/plain": [
              "                                              auto_g  ...                                             proj_a\n",
              "0                                Да очень раздражает  ...  Да очень раздражает и утомляет все время сорти...\n",
              "1   и утомляет все время сортировать мусор правильно  ...  Да очень раздражает и утомляет все время сорти...\n",
              "2        На кухне воняют три разных мешка для мусора  ...        На кухне воняют три разных мешка для мусора\n",
              "3      Их нужно отсортировать в разные мусорные баки  ...      Их нужно отсортировать в разные мусорные баки\n",
              "4  Но все же Германия производит слишком много му...  ...  Но все же Германия производит слишком много му...\n",
              "\n",
              "[5 rows x 4 columns]"
            ]
          },
          "metadata": {
            "tags": []
          },
          "execution_count": 12
        }
      ]
    },
    {
      "cell_type": "code",
      "metadata": {
        "id": "v6fXW2hPfbZh"
      },
      "source": [
        "df_comp.to_csv('data_aligned/data_comp.csv')"
      ],
      "execution_count": null,
      "outputs": []
    },
    {
      "cell_type": "markdown",
      "metadata": {
        "id": "sc5Bg3BJ9Pov"
      },
      "source": [
        "# df with manual annotations"
      ]
    },
    {
      "cell_type": "code",
      "metadata": {
        "id": "kVIcFRE59Ryh"
      },
      "source": [
        "import pandas as pd\n",
        "import numpy as np"
      ],
      "execution_count": null,
      "outputs": []
    },
    {
      "cell_type": "code",
      "metadata": {
        "id": "pWhAt9jQ9aVx"
      },
      "source": [
        "#df = pd.read_csv('segm_annot.csv')\n",
        "#df = pd.read_csv('segm_50_2ver.csv')\n",
        "#df = pd.read_csv('segm_50_3ver.csv')\n",
        "df = pd.read_csv('segm_final.csv')"
      ],
      "execution_count": null,
      "outputs": []
    },
    {
      "cell_type": "code",
      "metadata": {
        "colab": {
          "base_uri": "https://localhost:8080/",
          "height": 306
        },
        "id": "aouz86Ii9tMU",
        "outputId": "31817d9d-98fa-47b1-b95d-f5710620d2c2"
      },
      "source": [
        "df.head()"
      ],
      "execution_count": null,
      "outputs": [
        {
          "output_type": "execute_result",
          "data": {
            "text/html": [
              "<div>\n",
              "<style scoped>\n",
              "    .dataframe tbody tr th:only-of-type {\n",
              "        vertical-align: middle;\n",
              "    }\n",
              "\n",
              "    .dataframe tbody tr th {\n",
              "        vertical-align: top;\n",
              "    }\n",
              "\n",
              "    .dataframe thead th {\n",
              "        text-align: right;\n",
              "    }\n",
              "</style>\n",
              "<table border=\"1\" class=\"dataframe\">\n",
              "  <thead>\n",
              "    <tr style=\"text-align: right;\">\n",
              "      <th></th>\n",
              "      <th>id текста</th>\n",
              "      <th>id текста.1</th>\n",
              "      <th>полина</th>\n",
              "      <th>кеша</th>\n",
              "      <th>даша</th>\n",
              "      <th>зс</th>\n",
              "    </tr>\n",
              "  </thead>\n",
              "  <tbody>\n",
              "    <tr>\n",
              "      <th>0</th>\n",
              "      <td>1.0</td>\n",
              "      <td>b</td>\n",
              "      <td>Да, очень раздражает и утомляет все время сорт...</td>\n",
              "      <td>Да, очень раздражает и утомляет все время сорт...</td>\n",
              "      <td>Да, очень раздражает</td>\n",
              "      <td>Да, очень раздражает</td>\n",
              "    </tr>\n",
              "    <tr>\n",
              "      <th>1</th>\n",
              "      <td>1.0</td>\n",
              "      <td>b</td>\n",
              "      <td>NaN</td>\n",
              "      <td>NaN</td>\n",
              "      <td>и утомляет все время сортировать мусор правильно.</td>\n",
              "      <td>и утомляет все время сортировать мусор правильно.</td>\n",
              "    </tr>\n",
              "    <tr>\n",
              "      <th>2</th>\n",
              "      <td>1.0</td>\n",
              "      <td>b</td>\n",
              "      <td>На кухне воняют три разных мешка для мусора.</td>\n",
              "      <td>На кухне воняют три разных мешка для мусора.</td>\n",
              "      <td>На кухне воняют три разных мешка для мусора.</td>\n",
              "      <td>На кухне воняют три разных мешка для мусора.</td>\n",
              "    </tr>\n",
              "    <tr>\n",
              "      <th>3</th>\n",
              "      <td>1.0</td>\n",
              "      <td>b</td>\n",
              "      <td>Их нужно отсортировать в разные мусорные баки.</td>\n",
              "      <td>Их нужно отсортировать в разные мусорные баки.</td>\n",
              "      <td>Их нужно отсортировать в разные мусорные баки.</td>\n",
              "      <td>Их нужно отсортировать в разные мусорные баки.</td>\n",
              "    </tr>\n",
              "    <tr>\n",
              "      <th>4</th>\n",
              "      <td>1.0</td>\n",
              "      <td>b</td>\n",
              "      <td>Но все же Германия производит слишком много му...</td>\n",
              "      <td>Но все же Германия производит слишком много му...</td>\n",
              "      <td>Но все же Германия производит слишком много му...</td>\n",
              "      <td>Но все же Германия производит слишком много му...</td>\n",
              "    </tr>\n",
              "  </tbody>\n",
              "</table>\n",
              "</div>"
            ],
            "text/plain": [
              "   id текста  ...                                                 зс\n",
              "0        1.0  ...                               Да, очень раздражает\n",
              "1        1.0  ...  и утомляет все время сортировать мусор правильно.\n",
              "2        1.0  ...       На кухне воняют три разных мешка для мусора.\n",
              "3        1.0  ...     Их нужно отсортировать в разные мусорные баки.\n",
              "4        1.0  ...  Но все же Германия производит слишком много му...\n",
              "\n",
              "[5 rows x 6 columns]"
            ]
          },
          "metadata": {
            "tags": []
          },
          "execution_count": 73
        }
      ]
    },
    {
      "cell_type": "code",
      "metadata": {
        "colab": {
          "base_uri": "https://localhost:8080/"
        },
        "id": "elOlzBMf9uIk",
        "outputId": "88ef4fe0-a94e-4e3b-b0cf-4f8b7df6ec59"
      },
      "source": [
        "colm = df.columns.tolist()[8:]\n",
        "colm"
      ],
      "execution_count": null,
      "outputs": [
        {
          "output_type": "execute_result",
          "data": {
            "text/plain": [
              "['Полина и Кеша',\n",
              " 'Кеша и Даша',\n",
              " 'согласие у всех',\n",
              " 'comment - С.Ю.',\n",
              " 'comment',\n",
              " 'Unnamed: 13']"
            ]
          },
          "metadata": {
            "tags": []
          },
          "execution_count": 66
        }
      ]
    },
    {
      "cell_type": "code",
      "metadata": {
        "id": "Rmnq9T9l-DuI"
      },
      "source": [
        "df = df.drop(colm, axis = 1)"
      ],
      "execution_count": null,
      "outputs": []
    },
    {
      "cell_type": "code",
      "metadata": {
        "colab": {
          "base_uri": "https://localhost:8080/"
        },
        "id": "1KfE24BttQGm",
        "outputId": "a8b5caa6-f012-4949-e0fa-426441b62092"
      },
      "source": [
        "colm = df.columns.tolist()[2:4]\n",
        "colm"
      ],
      "execution_count": null,
      "outputs": [
        {
          "output_type": "execute_result",
          "data": {
            "text/plain": [
              "['id edu', 'английский']"
            ]
          },
          "metadata": {
            "tags": []
          },
          "execution_count": 69
        }
      ]
    },
    {
      "cell_type": "code",
      "metadata": {
        "id": "aPB7-ESctUmZ"
      },
      "source": [
        "df = df.drop(colm, axis = 1)"
      ],
      "execution_count": null,
      "outputs": []
    },
    {
      "cell_type": "code",
      "metadata": {
        "id": "hJ0zUg-zB1L_"
      },
      "source": [
        "df = df.dropna(how='all')"
      ],
      "execution_count": null,
      "outputs": []
    },
    {
      "cell_type": "code",
      "metadata": {
        "colab": {
          "base_uri": "https://localhost:8080/",
          "height": 306
        },
        "id": "KH7DTmm9tX0y",
        "outputId": "cc3c7fee-b508-4be0-bafe-6b96a93ff765"
      },
      "source": [
        "df.head()"
      ],
      "execution_count": null,
      "outputs": [
        {
          "output_type": "execute_result",
          "data": {
            "text/html": [
              "<div>\n",
              "<style scoped>\n",
              "    .dataframe tbody tr th:only-of-type {\n",
              "        vertical-align: middle;\n",
              "    }\n",
              "\n",
              "    .dataframe tbody tr th {\n",
              "        vertical-align: top;\n",
              "    }\n",
              "\n",
              "    .dataframe thead th {\n",
              "        text-align: right;\n",
              "    }\n",
              "</style>\n",
              "<table border=\"1\" class=\"dataframe\">\n",
              "  <thead>\n",
              "    <tr style=\"text-align: right;\">\n",
              "      <th></th>\n",
              "      <th>id текста</th>\n",
              "      <th>id текста.1</th>\n",
              "      <th>полина</th>\n",
              "      <th>кеша</th>\n",
              "      <th>даша</th>\n",
              "      <th>зс</th>\n",
              "    </tr>\n",
              "  </thead>\n",
              "  <tbody>\n",
              "    <tr>\n",
              "      <th>0</th>\n",
              "      <td>1.0</td>\n",
              "      <td>b</td>\n",
              "      <td>Да, очень раздражает и утомляет все время сорт...</td>\n",
              "      <td>Да, очень раздражает и утомляет все время сорт...</td>\n",
              "      <td>Да, очень раздражает</td>\n",
              "      <td>Да, очень раздражает</td>\n",
              "    </tr>\n",
              "    <tr>\n",
              "      <th>1</th>\n",
              "      <td>1.0</td>\n",
              "      <td>b</td>\n",
              "      <td>NaN</td>\n",
              "      <td>NaN</td>\n",
              "      <td>и утомляет все время сортировать мусор правильно.</td>\n",
              "      <td>и утомляет все время сортировать мусор правильно.</td>\n",
              "    </tr>\n",
              "    <tr>\n",
              "      <th>2</th>\n",
              "      <td>1.0</td>\n",
              "      <td>b</td>\n",
              "      <td>На кухне воняют три разных мешка для мусора.</td>\n",
              "      <td>На кухне воняют три разных мешка для мусора.</td>\n",
              "      <td>На кухне воняют три разных мешка для мусора.</td>\n",
              "      <td>На кухне воняют три разных мешка для мусора.</td>\n",
              "    </tr>\n",
              "    <tr>\n",
              "      <th>3</th>\n",
              "      <td>1.0</td>\n",
              "      <td>b</td>\n",
              "      <td>Их нужно отсортировать в разные мусорные баки.</td>\n",
              "      <td>Их нужно отсортировать в разные мусорные баки.</td>\n",
              "      <td>Их нужно отсортировать в разные мусорные баки.</td>\n",
              "      <td>Их нужно отсортировать в разные мусорные баки.</td>\n",
              "    </tr>\n",
              "    <tr>\n",
              "      <th>4</th>\n",
              "      <td>1.0</td>\n",
              "      <td>b</td>\n",
              "      <td>Но все же Германия производит слишком много му...</td>\n",
              "      <td>Но все же Германия производит слишком много му...</td>\n",
              "      <td>Но все же Германия производит слишком много му...</td>\n",
              "      <td>Но все же Германия производит слишком много му...</td>\n",
              "    </tr>\n",
              "  </tbody>\n",
              "</table>\n",
              "</div>"
            ],
            "text/plain": [
              "   id текста  ...                                                 зс\n",
              "0        1.0  ...                               Да, очень раздражает\n",
              "1        1.0  ...  и утомляет все время сортировать мусор правильно.\n",
              "2        1.0  ...       На кухне воняют три разных мешка для мусора.\n",
              "3        1.0  ...     Их нужно отсортировать в разные мусорные баки.\n",
              "4        1.0  ...  Но все же Германия производит слишком много му...\n",
              "\n",
              "[5 rows x 6 columns]"
            ]
          },
          "metadata": {
            "tags": []
          },
          "execution_count": 75
        }
      ]
    },
    {
      "cell_type": "code",
      "metadata": {
        "id": "Jx-UCmAsce51"
      },
      "source": [
        "train_b = df.iloc[:378]"
      ],
      "execution_count": null,
      "outputs": []
    },
    {
      "cell_type": "code",
      "metadata": {
        "id": "hiyEVMKLeknM"
      },
      "source": [
        "test_b = df.iloc[378:468]"
      ],
      "execution_count": null,
      "outputs": []
    },
    {
      "cell_type": "code",
      "metadata": {
        "id": "2_oCEP92e6fJ"
      },
      "source": [
        "train_d = df.iloc[468:555]"
      ],
      "execution_count": null,
      "outputs": []
    },
    {
      "cell_type": "code",
      "metadata": {
        "id": "qrzdjnnvflVL"
      },
      "source": [
        "test_d = df.iloc[555:621]"
      ],
      "execution_count": null,
      "outputs": []
    },
    {
      "cell_type": "code",
      "metadata": {
        "id": "zxbvrezwf0Ps"
      },
      "source": [
        "train_k = df.iloc[621:767]"
      ],
      "execution_count": null,
      "outputs": []
    },
    {
      "cell_type": "code",
      "metadata": {
        "id": "USTCOsYCgCx3"
      },
      "source": [
        "test_k = df.iloc[767:]"
      ],
      "execution_count": null,
      "outputs": []
    },
    {
      "cell_type": "code",
      "metadata": {
        "id": "YOvn9AlBHOKf"
      },
      "source": [
        "df_train = pd.concat([train_b, train_d, train_k])\n",
        "df_test = pd.concat([test_b, test_d, test_k])"
      ],
      "execution_count": null,
      "outputs": []
    },
    {
      "cell_type": "code",
      "metadata": {
        "id": "GbTsfT-qPLs5"
      },
      "source": [
        "df_train.to_csv('data_train_annot.csv')\n",
        "df_test.to_csv('data_test_annot.csv')"
      ],
      "execution_count": null,
      "outputs": []
    },
    {
      "cell_type": "code",
      "metadata": {
        "colab": {
          "base_uri": "https://localhost:8080/"
        },
        "id": "SAXpFRscNda5",
        "outputId": "b786c895-a15e-4d19-888f-406e8df7f834"
      },
      "source": [
        "df_train.shape, df_test.shape"
      ],
      "execution_count": null,
      "outputs": [
        {
          "output_type": "execute_result",
          "data": {
            "text/plain": [
              "((611, 6), (229, 6))"
            ]
          },
          "metadata": {
            "tags": []
          },
          "execution_count": 19
        }
      ]
    },
    {
      "cell_type": "code",
      "metadata": {
        "id": "GdfngpadfKVG"
      },
      "source": [
        "df['кеша'] = df['кеша'].fillna('None')\n",
        "df['полина'] = df['полина'].fillna('None')\n",
        "df['даша'] = df['даша'].fillna('None')\n",
        "df['зс'] = df['зс'].fillna('None')"
      ],
      "execution_count": null,
      "outputs": []
    },
    {
      "cell_type": "code",
      "metadata": {
        "id": "7iVh_0trt4WP"
      },
      "source": [
        "df['id текста'] = df['id текста'].fillna('0')"
      ],
      "execution_count": null,
      "outputs": []
    },
    {
      "cell_type": "code",
      "metadata": {
        "id": "S1DkXveN_nj4"
      },
      "source": [
        "df['id текста'] = df['id текста'].astype('int')"
      ],
      "execution_count": null,
      "outputs": []
    },
    {
      "cell_type": "code",
      "metadata": {
        "id": "hRvbYNwonoOb"
      },
      "source": [
        "df = df.drop(df.loc[(df['id текста'] == 7) & (df['id текста.1'] == 'd')].index)"
      ],
      "execution_count": null,
      "outputs": []
    },
    {
      "cell_type": "code",
      "metadata": {
        "id": "QTgBqkWQUBTF"
      },
      "source": [
        "df = df.drop(df.loc[(df['id текста'] == 11) & (df['id текста.1'] == 'k')].index)"
      ],
      "execution_count": null,
      "outputs": []
    },
    {
      "cell_type": "code",
      "metadata": {
        "id": "sbwcnY0yYFau"
      },
      "source": [
        "#df = df.drop(df.loc[(df['id текста'] > 50) | (df['id текста.1'] != 'b')].index)\n",
        "df = df.drop(df.loc[df['id текста'] > 50].index)"
      ],
      "execution_count": null,
      "outputs": []
    },
    {
      "cell_type": "code",
      "metadata": {
        "id": "F__NQjS_0e2m"
      },
      "source": [
        "df = df.drop(df.loc[(df['id текста'] <= 50) & (df['id текста.1'] == 'b')].index)"
      ],
      "execution_count": null,
      "outputs": []
    },
    {
      "cell_type": "code",
      "metadata": {
        "colab": {
          "base_uri": "https://localhost:8080/",
          "height": 289
        },
        "id": "-T8KDtgKHLEB",
        "outputId": "c75fbc6e-fcb3-4b3b-8bb7-53fa328e3109"
      },
      "source": [
        "df.tail()"
      ],
      "execution_count": null,
      "outputs": [
        {
          "output_type": "execute_result",
          "data": {
            "text/html": [
              "<div>\n",
              "<style scoped>\n",
              "    .dataframe tbody tr th:only-of-type {\n",
              "        vertical-align: middle;\n",
              "    }\n",
              "\n",
              "    .dataframe tbody tr th {\n",
              "        vertical-align: top;\n",
              "    }\n",
              "\n",
              "    .dataframe thead th {\n",
              "        text-align: right;\n",
              "    }\n",
              "</style>\n",
              "<table border=\"1\" class=\"dataframe\">\n",
              "  <thead>\n",
              "    <tr style=\"text-align: right;\">\n",
              "      <th></th>\n",
              "      <th>id текста</th>\n",
              "      <th>id текста.1</th>\n",
              "      <th>полина</th>\n",
              "      <th>кеша</th>\n",
              "      <th>даша</th>\n",
              "      <th>зс</th>\n",
              "    </tr>\n",
              "  </thead>\n",
              "  <tbody>\n",
              "    <tr>\n",
              "      <th>835</th>\n",
              "      <td>32</td>\n",
              "      <td>k</td>\n",
              "      <td>наступив на них.</td>\n",
              "      <td>None</td>\n",
              "      <td>наступив на них.</td>\n",
              "      <td>наступив на них.</td>\n",
              "    </tr>\n",
              "    <tr>\n",
              "      <th>836</th>\n",
              "      <td>32</td>\n",
              "      <td>k</td>\n",
              "      <td>Предъявление штрафа за оставленные собачьи отх...</td>\n",
              "      <td>Предъявление штрафа за оставленные собачьи отх...</td>\n",
              "      <td>Предъявление штрафа за оставленные собачьи отх...</td>\n",
              "      <td>Предъявление штрафа за оставленные собачьи отх...</td>\n",
              "    </tr>\n",
              "    <tr>\n",
              "      <th>837</th>\n",
              "      <td>32</td>\n",
              "      <td>k</td>\n",
              "      <td>но, в конце концов, подобные правила часто рас...</td>\n",
              "      <td>но, в конце концов, подобные правила часто рас...</td>\n",
              "      <td>но, в конце концов, подобные правила часто рас...</td>\n",
              "      <td>но, в конце концов, подобные правила часто рас...</td>\n",
              "    </tr>\n",
              "    <tr>\n",
              "      <th>838</th>\n",
              "      <td>32</td>\n",
              "      <td>k</td>\n",
              "      <td>Поэтому увеличение штрафов – это верный путь.</td>\n",
              "      <td>Поэтому увеличение штрафов – это верный путь.</td>\n",
              "      <td>Поэтому увеличение штрафов – это верный путь.</td>\n",
              "      <td>Поэтому увеличение штрафов – это верный путь.</td>\n",
              "    </tr>\n",
              "    <tr>\n",
              "      <th>839</th>\n",
              "      <td>32</td>\n",
              "      <td>k</td>\n",
              "      <td>Город, не загрязненный собачьими отходами, буд...</td>\n",
              "      <td>Город, не загрязненный собачьими отходами, буд...</td>\n",
              "      <td>Город, не загрязненный собачьими отходами, буд...</td>\n",
              "      <td>Город, не загрязненный собачьими отходами, буд...</td>\n",
              "    </tr>\n",
              "  </tbody>\n",
              "</table>\n",
              "</div>"
            ],
            "text/plain": [
              "     id текста  ...                                                 зс\n",
              "835         32  ...                                   наступив на них.\n",
              "836         32  ...  Предъявление штрафа за оставленные собачьи отх...\n",
              "837         32  ...  но, в конце концов, подобные правила часто рас...\n",
              "838         32  ...      Поэтому увеличение штрафов – это верный путь.\n",
              "839         32  ...  Город, не загрязненный собачьими отходами, буд...\n",
              "\n",
              "[5 rows x 6 columns]"
            ]
          },
          "metadata": {
            "tags": []
          },
          "execution_count": 82
        }
      ]
    },
    {
      "cell_type": "markdown",
      "metadata": {
        "id": "-MADNc4MnY6w"
      },
      "source": [
        "# annotators' agreement"
      ]
    },
    {
      "cell_type": "code",
      "metadata": {
        "id": "_DzKTWcCZ7La"
      },
      "source": [
        "annots = ['полина','кеша','даша']"
      ],
      "execution_count": null,
      "outputs": []
    },
    {
      "cell_type": "code",
      "metadata": {
        "id": "RhkHorTGWyIK"
      },
      "source": [
        "def annot_agree(diff = False):\n",
        "  total_agree = []\n",
        "  agree = disagree = 0\n",
        "  for index, row in df.iterrows():\n",
        "    if row[annots[0]] == row[annots[1]] and row[annots[0]] == row[annots[2]]:\n",
        "      agree += 1\n",
        "    else:\n",
        "      disagree += 1\n",
        "      if diff == True:\n",
        "        print(f'row_id = {index}, text_id = {row[\"id текста\"]}')\n",
        "        for i in annots:\n",
        "          print(f'{i}: {row[i]}')\n",
        "        print('\\n')\n",
        "      else:\n",
        "        continue\n",
        "  return agree/(agree+disagree-1)"
      ],
      "execution_count": null,
      "outputs": []
    },
    {
      "cell_type": "code",
      "metadata": {
        "colab": {
          "base_uri": "https://localhost:8080/"
        },
        "id": "Wgm8LmMIXl2K",
        "outputId": "51a9c692-74e3-4117-d3db-81d78e1e4f96"
      },
      "source": [
        "#all texts final gs\n",
        "annot_agree()"
      ],
      "execution_count": null,
      "outputs": [
        {
          "output_type": "execute_result",
          "data": {
            "text/plain": [
              "0.833130328867235"
            ]
          },
          "metadata": {
            "tags": []
          },
          "execution_count": 39
        }
      ]
    },
    {
      "cell_type": "code",
      "metadata": {
        "colab": {
          "base_uri": "https://localhost:8080/"
        },
        "id": "RMQiOg9AYZgW",
        "outputId": "1dcc795b-dc28-4daa-e859-6875f005acf1"
      },
      "source": [
        "#50 texts final gs\n",
        "annot_agree()"
      ],
      "execution_count": null,
      "outputs": [
        {
          "output_type": "execute_result",
          "data": {
            "text/plain": [
              "0.8448844884488449"
            ]
          },
          "metadata": {
            "tags": []
          },
          "execution_count": 43
        }
      ]
    },
    {
      "cell_type": "code",
      "metadata": {
        "colab": {
          "base_uri": "https://localhost:8080/"
        },
        "id": "2xtZtCEm1B98",
        "outputId": "4f2da6e0-defa-4492-a9c3-e572e394acdd"
      },
      "source": [
        "#not(50 texts final gs)\n",
        "annot_agree()"
      ],
      "execution_count": null,
      "outputs": [
        {
          "output_type": "execute_result",
          "data": {
            "text/plain": [
              "0.785377358490566"
            ]
          },
          "metadata": {
            "tags": []
          },
          "execution_count": 83
        }
      ]
    },
    {
      "cell_type": "code",
      "metadata": {
        "colab": {
          "base_uri": "https://localhost:8080/"
        },
        "id": "37-kq1VSwuwZ",
        "outputId": "feab95a2-7827-4131-9561-61d1f97e32e2"
      },
      "source": [
        "#2ver\n",
        "annot_agree()"
      ],
      "execution_count": null,
      "outputs": [
        {
          "output_type": "execute_result",
          "data": {
            "text/plain": [
              "0.8456375838926175"
            ]
          },
          "metadata": {
            "tags": []
          },
          "execution_count": 62
        }
      ]
    },
    {
      "cell_type": "code",
      "metadata": {
        "colab": {
          "base_uri": "https://localhost:8080/"
        },
        "id": "R8IKk3mLyLsB",
        "outputId": "12958388-4601-4d96-d14d-d05107534158"
      },
      "source": [
        "#3ver\n",
        "annot_agree()"
      ],
      "execution_count": null,
      "outputs": [
        {
          "output_type": "execute_result",
          "data": {
            "text/plain": [
              "0.8481848184818482"
            ]
          },
          "metadata": {
            "tags": []
          },
          "execution_count": 47
        }
      ]
    },
    {
      "cell_type": "code",
      "metadata": {
        "id": "cbboOphwyPqw"
      },
      "source": [
        "import sklearn\n",
        "from sklearn.metrics import cohen_kappa_score\n",
        "def get_kappas():\n",
        "  print(f'kappa Полина-Кеша = {cohen_kappa_score(df[annots[0]], df[annots[1]])}')\n",
        "  print(f'kappa Полина-Даша = {cohen_kappa_score(df[annots[0]], df[annots[2]])}')\n",
        "  print(f'kappa Кеша-Даша = {cohen_kappa_score(df[annots[1]], df[annots[2]])}')\n",
        "\n",
        "  print(f'\\nkappa Полина-ЗС = {cohen_kappa_score(df[annots[0]], df[\"зс\"])}')\n",
        "  print(f'kappa Кеша-ЗС = {cohen_kappa_score(df[annots[1]], df[\"зс\"])}')\n",
        "  print(f'kappa Даша-ЗС = {cohen_kappa_score(df[annots[2]], df[\"зс\"])}')"
      ],
      "execution_count": null,
      "outputs": []
    },
    {
      "cell_type": "code",
      "metadata": {
        "colab": {
          "base_uri": "https://localhost:8080/"
        },
        "id": "yeVed4Yxy0Cq",
        "outputId": "53f83172-1383-4b14-e777-83a17263725a"
      },
      "source": [
        "#2_ver\n",
        "get_kappas()"
      ],
      "execution_count": null,
      "outputs": [
        {
          "output_type": "stream",
          "text": [
            "kappa Полина-Кеша = 0.9091083089394281\n",
            "kappa Полина-Даша = 0.9059716746970361\n",
            "kappa Кеша-Даша = 0.8656542056074766\n",
            "\n",
            "kappa Полина-ЗС = 0.9394954582246605\n",
            "kappa Кеша-ЗС = 0.8957602339181286\n",
            "kappa Даша-ЗС = 0.9597098389741056\n"
          ],
          "name": "stdout"
        }
      ]
    },
    {
      "cell_type": "code",
      "metadata": {
        "colab": {
          "base_uri": "https://localhost:8080/"
        },
        "id": "L6FcD6KhyYRi",
        "outputId": "c4f31d64-dc4e-4cd3-e268-6d7ba32861ba"
      },
      "source": [
        "#3_ver\n",
        "get_kappas()"
      ],
      "execution_count": null,
      "outputs": [
        {
          "output_type": "stream",
          "text": [
            "kappa Полина-Кеша = 0.9104223507584852\n",
            "kappa Полина-Даша = 0.9073947147970451\n",
            "kappa Кеша-Даша = 0.8676592224979321\n",
            "\n",
            "kappa Полина-ЗС = 0.9569611430562815\n",
            "kappa Кеша-ЗС = 0.8807622326574638\n",
            "kappa Даша-ЗС = 0.930590588849265\n"
          ],
          "name": "stdout"
        }
      ]
    },
    {
      "cell_type": "code",
      "metadata": {
        "colab": {
          "base_uri": "https://localhost:8080/"
        },
        "id": "4Sd_MULF1N2u",
        "outputId": "e7301f82-01fb-456f-e08c-107382082eb0"
      },
      "source": [
        "#not(50 texts final gs)\n",
        "get_kappas()"
      ],
      "execution_count": null,
      "outputs": [
        {
          "output_type": "stream",
          "text": [
            "kappa Полина-Кеша = 0.7939215926697952\n",
            "kappa Полина-Даша = 0.9526955205440572\n",
            "kappa Кеша-Даша = 0.8009833762584875\n",
            "\n",
            "kappa Полина-ЗС = 0.9194748310085986\n",
            "kappa Кеша-ЗС = 0.7744085733123247\n",
            "kappa Даша-ЗС = 0.9360382154244052\n"
          ],
          "name": "stdout"
        }
      ]
    },
    {
      "cell_type": "code",
      "metadata": {
        "colab": {
          "base_uri": "https://localhost:8080/"
        },
        "id": "UCfhba8MYk4E",
        "outputId": "ef1b1708-1bfe-4e5d-b478-8e25f17f27df"
      },
      "source": [
        "#50 texts final gs\n",
        "import sklearn\n",
        "from sklearn.metrics import cohen_kappa_score\n",
        "\n",
        "print(f'kappa Полина-Кеша = {cohen_kappa_score(df[annots[0]], df[annots[1]])}')\n",
        "print(f'kappa Полина-Даша = {cohen_kappa_score(df[annots[0]], df[annots[2]])}')\n",
        "print(f'kappa Кеша-Даша = {cohen_kappa_score(df[annots[1]], df[annots[2]])}')\n",
        "\n",
        "print(f'\\nkappa Полина-ЗС = {cohen_kappa_score(df[annots[0]], df[\"зс\"])}')\n",
        "print(f'kappa Кеша-ЗС = {cohen_kappa_score(df[annots[1]], df[\"зс\"])}')\n",
        "print(f'kappa Даша-ЗС = {cohen_kappa_score(df[annots[2]], df[\"зс\"])}')"
      ],
      "execution_count": null,
      "outputs": [
        {
          "output_type": "stream",
          "text": [
            "kappa Полина-Кеша = 0.9070803222496343\n",
            "kappa Полина-Даша = 0.9040769473489505\n",
            "kappa Кеша-Даша = 0.8676592224979321\n",
            "\n",
            "kappa Полина-ЗС = 0.9071239184279152\n",
            "kappa Кеша-ЗС = 0.8539626390663042\n",
            "kappa Даша-ЗС = 0.8809166285826205\n"
          ],
          "name": "stdout"
        }
      ]
    },
    {
      "cell_type": "code",
      "metadata": {
        "colab": {
          "base_uri": "https://localhost:8080/"
        },
        "id": "APZVttQuV_5P",
        "outputId": "55b58d7f-a547-48a2-a003-00d97b8fee12"
      },
      "source": [
        "#all texts final gs\n",
        "import sklearn\n",
        "from sklearn.metrics import cohen_kappa_score\n",
        "\n",
        "print(f'kappa Полина-Кеша = {cohen_kappa_score(df[annots[0]], df[annots[1]])}')\n",
        "print(f'kappa Полина-Даша = {cohen_kappa_score(df[annots[0]], df[annots[2]])}')\n",
        "print(f'kappa Кеша-Даша = {cohen_kappa_score(df[annots[1]], df[annots[2]])}')\n",
        "\n",
        "print(f'\\nkappa Полина-ЗС = {cohen_kappa_score(df[annots[0]], df[\"зс\"])}')\n",
        "print(f'kappa Кеша-ЗС = {cohen_kappa_score(df[annots[1]], df[\"зс\"])}')\n",
        "print(f'kappa Даша-ЗС = {cohen_kappa_score(df[annots[2]], df[\"зс\"])}')"
      ],
      "execution_count": null,
      "outputs": [
        {
          "output_type": "stream",
          "text": [
            "kappa Полина-Кеша = 0.8566846107914701\n",
            "kappa Полина-Даша = 0.9382497819164675\n",
            "kappa Кеша-Даша = 0.8456822609386108\n",
            "\n",
            "kappa Полина-ЗС = 0.9381023145167116\n",
            "kappa Кеша-ЗС = 0.8389309585084519\n",
            "kappa Даша-ЗС = 0.936989380180937\n"
          ],
          "name": "stdout"
        }
      ]
    }
  ]
}