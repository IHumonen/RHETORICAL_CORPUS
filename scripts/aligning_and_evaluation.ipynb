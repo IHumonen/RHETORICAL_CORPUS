{
 "cells": [
  {
   "cell_type": "code",
   "execution_count": null,
   "metadata": {
    "colab": {
     "base_uri": "https://localhost:8080/"
    },
    "id": "PMP8pp9j-V9-",
    "outputId": "1be077d5-6054-42ef-c876-3b0a520baacb"
   },
   "outputs": [],
   "source": [
    "from google.colab import drive\n",
    "drive.mount('/content/gdrive') #, force_remount=True"
   ]
  },
  {
   "cell_type": "code",
   "execution_count": null,
   "metadata": {
    "id": "nCS-rbBO-mlA"
   },
   "outputs": [],
   "source": [
    "import os\n",
    "os.chdir('gdrive/My Drive/Colab Notebooks/data_aligned')"
   ]
  },
  {
   "cell_type": "markdown",
   "metadata": {
    "id": "-4v2i3sPff7r"
   },
   "source": [
    "# data load"
   ]
  },
  {
   "cell_type": "code",
   "execution_count": null,
   "metadata": {
    "id": "KlCtp6dDgj-7"
   },
   "outputs": [],
   "source": [
    "import pandas as pd\n",
    "df = pd.read_csv('all_segm_Kesha_5_test_clean.csv')"
   ]
  },
  {
   "cell_type": "code",
   "execution_count": null,
   "metadata": {
    "id": "JAEG6JdCuu_j"
   },
   "outputs": [],
   "source": [
    "f = open('test_names.txt','r', encoding='utf-8')\n",
    "test_names = []\n",
    "for line in f.readlines():\n",
    "  test_names.append(line[:-1])\n",
    "f.close()"
   ]
  },
  {
   "cell_type": "code",
   "execution_count": null,
   "metadata": {
    "id": "FPlNVs8nvO16"
   },
   "outputs": [],
   "source": [
    "f = open('train_names.txt','r', encoding='utf-8')\n",
    "train_names = []\n",
    "for line in f.readlines():\n",
    "  train_names.append(line[:-1])\n",
    "f.close()"
   ]
  },
  {
   "cell_type": "code",
   "execution_count": null,
   "metadata": {
    "colab": {
     "base_uri": "https://localhost:8080/"
    },
    "id": "NxPjBRNAvVfI",
    "outputId": "f717ae22-a34a-4711-85ba-1fdbaaf9057d"
   },
   "outputs": [],
   "source": [
    "len(train_names), len(test_names)"
   ]
  },
  {
   "cell_type": "code",
   "execution_count": null,
   "metadata": {
    "id": "vKwkvq3GwE7I"
   },
   "outputs": [],
   "source": [
    "#train_proj = []\n",
    "test_proj = []\n",
    "for i in test_names:\n",
    "  if i.startswith('ar_micro') == True:\n",
    "    test_proj.append(i[3:-7]+'.txt')"
   ]
  },
  {
   "cell_type": "code",
   "execution_count": null,
   "metadata": {
    "colab": {
     "base_uri": "https://localhost:8080/"
    },
    "id": "jvuBvFSgxDzh",
    "outputId": "bb1068b4-b591-491a-ad2d-8bb2e2d3ed58"
   },
   "outputs": [],
   "source": [
    "len(train_proj)"
   ]
  },
  {
   "cell_type": "code",
   "execution_count": null,
   "metadata": {
    "colab": {
     "base_uri": "https://localhost:8080/"
    },
    "id": "gXdcOmtCB4iO",
    "outputId": "487ecc03-28e9-4b1d-c3c2-c3fe1dc3b66e"
   },
   "outputs": [],
   "source": [
    "len(test_proj) #4 отсутствуют"
   ]
  },
  {
   "cell_type": "code",
   "execution_count": null,
   "metadata": {
    "id": "W1GNE5kbfmEu"
   },
   "outputs": [],
   "source": [
    "all_texts = []\n",
    "for i in sorted(os.listdir('projected')):\n",
    "  if i in test_proj:#test\n",
    "    name1 = 'projected/'+i\n",
    "    f = open(name1, 'r',encoding='utf-8')\n",
    "    text = f.readlines()\n",
    "    for i in text:\n",
    "      all_texts.append(i)\n",
    "    all_texts.append('None')"
   ]
  },
  {
   "cell_type": "code",
   "execution_count": null,
   "metadata": {
    "colab": {
     "base_uri": "https://localhost:8080/"
    },
    "id": "qCMqQok1g4oJ",
    "outputId": "bafdf62a-4d29-4b04-9fc0-f824d96a1e03"
   },
   "outputs": [],
   "source": [
    "len(list(df['зс'])), len(all_texts)"
   ]
  },
  {
   "cell_type": "code",
   "execution_count": null,
   "metadata": {
    "colab": {
     "base_uri": "https://localhost:8080/"
    },
    "id": "tTuIpGfVCQ7g",
    "outputId": "920ed522-00a9-4897-a42c-7b588b5bd04e"
   },
   "outputs": [],
   "source": [
    "len(list(df['зс'])), len(all_texts)"
   ]
  },
  {
   "cell_type": "code",
   "execution_count": null,
   "metadata": {
    "id": "rZApuhR0g8oX"
   },
   "outputs": [],
   "source": [
    "while len(all_texts) != len(list(df['зс'])):\n",
    "  all_texts.append('None')"
   ]
  },
  {
   "cell_type": "code",
   "execution_count": null,
   "metadata": {
    "colab": {
     "base_uri": "https://localhost:8080/"
    },
    "id": "-GFMLr77hL5J",
    "outputId": "0f1fa9a3-8b9b-4178-84e8-754065a1a6f9"
   },
   "outputs": [],
   "source": [
    "len(list(df['зс'])), len(all_texts)"
   ]
  },
  {
   "cell_type": "code",
   "execution_count": null,
   "metadata": {
    "id": "-X3P59b2gtTY"
   },
   "outputs": [],
   "source": [
    "df_proj = pd.DataFrame()\n",
    "df_proj['зс'] = list(df['зс'])\n",
    "df_proj['proj'] = all_texts"
   ]
  },
  {
   "cell_type": "code",
   "execution_count": null,
   "metadata": {
    "colab": {
     "base_uri": "https://localhost:8080/",
     "height": 204
    },
    "id": "ET4dcb6yhcci",
    "outputId": "81d97110-495e-4f8f-fd31-238c008d56a9"
   },
   "outputs": [],
   "source": [
    "df_proj.head()"
   ]
  },
  {
   "cell_type": "code",
   "execution_count": null,
   "metadata": {
    "id": "ur5h0Caahn0Y"
   },
   "outputs": [],
   "source": [
    "df_proj.to_csv('data_proj_all.csv')"
   ]
  },
  {
   "cell_type": "code",
   "execution_count": null,
   "metadata": {
    "id": "ZBulw4cfvOoS"
   },
   "outputs": [],
   "source": [
    "df_proj = pd.read_csv('data_proj_all.csv')"
   ]
  },
  {
   "cell_type": "code",
   "execution_count": null,
   "metadata": {
    "id": "-o4vz_QIiNvD"
   },
   "outputs": [],
   "source": [
    "df = df_proj"
   ]
  },
  {
   "cell_type": "markdown",
   "metadata": {
    "id": "pgq5Zp6dh0De"
   },
   "source": [
    "# preprocess data"
   ]
  },
  {
   "cell_type": "markdown",
   "metadata": {
    "id": "_DuD_hDj1beP"
   },
   "source": [
    "загружаем полученную авторазметку с зс"
   ]
  },
  {
   "cell_type": "code",
   "execution_count": null,
   "metadata": {
    "id": "zOyo8jdDeAU-"
   },
   "outputs": [],
   "source": [
    "import pandas as pd\n",
    "#df = pd.read_csv('all_segm_kesha_4.csv')\n",
    "#df = pd.read_csv('data_proj_all_2.csv')\n",
    "#df = pd.read_csv('all_segm_kesha_5_train.csv')\n",
    "#df = pd.read_csv('all_segm_kesha_5_test.csv')\n",
    "df = pd.read_csv('proj_test.csv')"
   ]
  },
  {
   "cell_type": "code",
   "execution_count": null,
   "metadata": {
    "colab": {
     "base_uri": "https://localhost:8080/",
     "height": 390
    },
    "id": "OoeM75jVfHJl",
    "outputId": "84a73970-f3d6-4ab4-fc36-f3fb79a52c3a"
   },
   "outputs": [],
   "source": [
    "df.head(11)"
   ]
  },
  {
   "cell_type": "code",
   "execution_count": null,
   "metadata": {
    "id": "kJMpmiIsgVB3"
   },
   "outputs": [],
   "source": [
    "#golden = pd.read_csv('golden.csv')\n",
    "golden = pd.read_csv('segm_final.csv')"
   ]
  },
  {
   "cell_type": "code",
   "execution_count": null,
   "metadata": {
    "id": "daQzp8Ch7sA-"
   },
   "outputs": [],
   "source": [
    "new_g_data = []\n",
    "for ind, row in golden.iterrows():\n",
    "  if ind <= 352:\n",
    "    new_g_data.append(row['зс'])"
   ]
  },
  {
   "cell_type": "code",
   "execution_count": null,
   "metadata": {
    "colab": {
     "base_uri": "https://localhost:8080/"
    },
    "id": "46ZZWk-L8rqv",
    "outputId": "5a5ba792-a6f8-47c4-e5ca-eec393facf45"
   },
   "outputs": [],
   "source": [
    "len(new_g_data)"
   ]
  },
  {
   "cell_type": "code",
   "execution_count": null,
   "metadata": {
    "colab": {
     "base_uri": "https://localhost:8080/"
    },
    "id": "ZiRTN3Gl8umc",
    "outputId": "e33dc8f8-ef89-49ba-aeba-557a88eefe19"
   },
   "outputs": [],
   "source": [
    "new_g_data[-2:]"
   ]
  },
  {
   "cell_type": "code",
   "execution_count": null,
   "metadata": {
    "id": "kt--C3XGipMT"
   },
   "outputs": [],
   "source": [
    "new_g_data = list(golden['зс'])"
   ]
  },
  {
   "cell_type": "code",
   "execution_count": null,
   "metadata": {
    "id": "lJYBevWFj1TS"
   },
   "outputs": [],
   "source": [
    "while len(new_g_data) != len(list(df['зс'])):\n",
    "  new_g_data.append('None')"
   ]
  },
  {
   "cell_type": "code",
   "execution_count": null,
   "metadata": {
    "id": "RsjvJ8HsgaCn"
   },
   "outputs": [],
   "source": [
    "df['зс'] = new_g_data"
   ]
  },
  {
   "cell_type": "code",
   "execution_count": null,
   "metadata": {
    "colab": {
     "base_uri": "https://localhost:8080/",
     "height": 390
    },
    "id": "zsZJ3yixgquU",
    "outputId": "aa5f2b2e-774a-496a-c4e7-d80c1ea68989"
   },
   "outputs": [],
   "source": [
    "df.head(11)"
   ]
  },
  {
   "cell_type": "code",
   "execution_count": null,
   "metadata": {
    "id": "k72w0QdI9ZbF"
   },
   "outputs": [],
   "source": [
    "#для обработки rule_morph\n",
    "df = df_proj"
   ]
  },
  {
   "cell_type": "code",
   "execution_count": null,
   "metadata": {
    "colab": {
     "base_uri": "https://localhost:8080/"
    },
    "id": "U5dGny3yeQ2U",
    "outputId": "c18705f7-ffe5-4c7c-bcda-25e40e06f861"
   },
   "outputs": [],
   "source": [
    "cols = list(df.columns)\n",
    "print(cols)"
   ]
  },
  {
   "cell_type": "code",
   "execution_count": null,
   "metadata": {
    "id": "tipWKsSDvWNb"
   },
   "outputs": [],
   "source": [
    "df = df.drop('Unnamed: 0', axis = 1).reset_index(drop = True)"
   ]
  },
  {
   "cell_type": "code",
   "execution_count": null,
   "metadata": {
    "id": "O3ST7A1VhgKc"
   },
   "outputs": [],
   "source": [
    "for col in cols:\n",
    "  df[col] = df[col].fillna('None')"
   ]
  },
  {
   "cell_type": "code",
   "execution_count": null,
   "metadata": {
    "id": "tqBhWAy7h_5W"
   },
   "outputs": [],
   "source": [
    "import re"
   ]
  },
  {
   "cell_type": "code",
   "execution_count": null,
   "metadata": {
    "id": "2A-zghwEenvm"
   },
   "outputs": [],
   "source": [
    "for i, row in df.iterrows():\n",
    "  for col in cols:    \n",
    "    if row[col] == '\\n':\n",
    "      row[col] = 'None'\n",
    "    if row[col] == 'none':\n",
    "      row[col] = 'None'\n",
    "    if row[col] != 'None':\n",
    "      row[col] = ' '.join(row[col].split())\n",
    "    row[col] = re.sub(\"[^\\s\\w]+\", \" \", row[col])\n",
    "    row[col] = re.sub('  +', ' ', row[col])\n",
    "    if row[col][0] == ' ':\n",
    "      row[col] = row[col][1:]\n",
    "    if row[col][-1] == ' ':\n",
    "      row[col] = row[col][:-1]\n",
    "    if row[col] == ' ':\n",
    "      row[col] = 'None'\n",
    "      print('done')"
   ]
  },
  {
   "cell_type": "code",
   "execution_count": null,
   "metadata": {
    "id": "6q8bY_MniWCM"
   },
   "outputs": [],
   "source": [
    "drop_ids = []\n",
    "for i, row in df.iterrows():\n",
    "  if row[cols[0]] == 'None' and row[cols[1]] == 'None' and row[cols[2]] == 'None' and row[cols[3]] == 'None' and row[cols[4]] == 'None' and row[cols[5]] == 'None' and row[cols[6]] == 'None' and row[cols[7]] == 'None' and row[cols[8]] == 'None' and row[cols[9]] == 'None':\n",
    "    drop_ids.append(i)"
   ]
  },
  {
   "cell_type": "code",
   "execution_count": null,
   "metadata": {
    "colab": {
     "base_uri": "https://localhost:8080/"
    },
    "id": "9BTLPT7ZdI9y",
    "outputId": "179fa90d-630f-4d7d-dcce-f3328577252e"
   },
   "outputs": [],
   "source": [
    "len(cols), cols[8]"
   ]
  },
  {
   "cell_type": "code",
   "execution_count": null,
   "metadata": {
    "id": "dVMe5uGxdIKE"
   },
   "outputs": [],
   "source": [
    "drop_ids = []\n",
    "for i, row in df.iterrows():\n",
    "  if row[cols[0]] == 'None' and row[cols[1]] == 'None' and row[cols[2]] == 'None' and row[cols[3]] == 'None' and row[cols[4]] == 'None' and row[cols[5]] == 'None' and row[cols[6]] == 'None' and row[cols[7]] == 'None' and row[cols[8]] == 'None' and row[cols[9]] == 'None':\n",
    "    drop_ids.append(i)"
   ]
  },
  {
   "cell_type": "code",
   "execution_count": null,
   "metadata": {
    "id": "sLIpDFPTSunV"
   },
   "outputs": [],
   "source": [
    "\"\"\"drop_ids = []\n",
    "for i, row in df.iterrows():\n",
    "  if row[cols[0]] == 'None' and row[cols[1]] == 'None' and row[cols[2]] == 'None' and row[cols[3]] == 'None' and row[cols[4]] == 'None' and row[cols[5]] == 'None' and row[cols[6]] == 'None' and row[cols[7]] == 'None' and row[cols[8]] == 'None':\n",
    "    drop_ids.append(i)\"\"\""
   ]
  },
  {
   "cell_type": "code",
   "execution_count": null,
   "metadata": {
    "id": "PkRS3J7IiGBi"
   },
   "outputs": [],
   "source": [
    "\"\"\"drop_ids = []\n",
    "for i, row in df.iterrows():\n",
    "  if row[cols[0]] == 'None' and row[cols[1]] == 'None':\n",
    "    drop_ids.append(i)\"\"\""
   ]
  },
  {
   "cell_type": "code",
   "execution_count": null,
   "metadata": {
    "colab": {
     "base_uri": "https://localhost:8080/"
    },
    "id": "X-sG5BoQ5-ry",
    "outputId": "a19f9720-32c6-4cd2-c662-552ba3c73882"
   },
   "outputs": [],
   "source": [
    "len(drop_ids)"
   ]
  },
  {
   "cell_type": "code",
   "execution_count": null,
   "metadata": {
    "id": "CT6C6MzfjZkM"
   },
   "outputs": [],
   "source": [
    "df = df.drop(drop_ids).reset_index(drop=True)"
   ]
  },
  {
   "cell_type": "code",
   "execution_count": null,
   "metadata": {
    "colab": {
     "base_uri": "https://localhost:8080/"
    },
    "id": "IG4L4dpHrGDz",
    "outputId": "03b831d1-657a-42fb-d70a-866cf4911925"
   },
   "outputs": [],
   "source": [
    "new_golden = []\n",
    "glist = list(df['зс'])\n",
    "print(len(glist))\n",
    "for i in range(len(glist)):\n",
    "  if glist[i] == 'None':\n",
    "    continue\n",
    "  else:\n",
    "    new_golden.append(glist[i])\n",
    "\n",
    "print(len(new_golden))\n",
    "\n",
    "while len(new_golden) != len(list(df['зс'])):\n",
    "  new_golden.append('None')"
   ]
  },
  {
   "cell_type": "code",
   "execution_count": null,
   "metadata": {
    "id": "TROgcZEsrJet"
   },
   "outputs": [],
   "source": [
    "df['зс'] = new_golden"
   ]
  },
  {
   "cell_type": "code",
   "execution_count": null,
   "metadata": {
    "colab": {
     "base_uri": "https://localhost:8080/",
     "height": 390
    },
    "id": "sNgFKtzjr3Xk",
    "outputId": "208aca78-eb0b-4ed0-8bec-152d266a054c"
   },
   "outputs": [],
   "source": [
    "df.head(11)"
   ]
  },
  {
   "cell_type": "markdown",
   "metadata": {
    "id": "iFQiZe8v1zZ8"
   },
   "source": [
    "# save preprocess data"
   ]
  },
  {
   "cell_type": "code",
   "execution_count": null,
   "metadata": {
    "id": "AC2k-HTeDfZ2"
   },
   "outputs": [],
   "source": [
    "df.to_csv('proj_test_clean.csv')"
   ]
  },
  {
   "cell_type": "code",
   "execution_count": null,
   "metadata": {
    "id": "4QjaF6rkxv4o"
   },
   "outputs": [],
   "source": [
    "df.to_csv('proj_train.csv')"
   ]
  },
  {
   "cell_type": "code",
   "execution_count": null,
   "metadata": {
    "id": "ZBOUP2Mf0r35"
   },
   "outputs": [],
   "source": [
    "df.to_csv('all_segm_Kesha_5_test_clean.csv')"
   ]
  },
  {
   "cell_type": "code",
   "execution_count": null,
   "metadata": {
    "id": "4AOsk9qXdmCa"
   },
   "outputs": [],
   "source": [
    "df.to_csv('all_segm_Kesha_5_train_clean.csv')"
   ]
  },
  {
   "cell_type": "code",
   "execution_count": null,
   "metadata": {
    "id": "wLnFYSDI-IRH"
   },
   "outputs": [],
   "source": [
    "df.to_csv('rule_1__rule_morph_2ver_2.csv')"
   ]
  },
  {
   "cell_type": "code",
   "execution_count": null,
   "metadata": {
    "id": "tXXF7TL3p51L"
   },
   "outputs": [],
   "source": [
    "df.to_csv('all_segm_Kesha_2.csv')"
   ]
  },
  {
   "cell_type": "code",
   "execution_count": null,
   "metadata": {
    "id": "253fbcNT6yFJ"
   },
   "outputs": [],
   "source": [
    "#final gs\n",
    "df.to_csv('all_segm_Kesha_3.csv')"
   ]
  },
  {
   "cell_type": "code",
   "execution_count": null,
   "metadata": {
    "id": "F1rTRz4f9Bxl"
   },
   "outputs": [],
   "source": [
    "#final gs 50 texts\n",
    "df.to_csv('all_segm_Kesha_3_50.csv')"
   ]
  },
  {
   "cell_type": "code",
   "execution_count": null,
   "metadata": {
    "id": "4EVG5FdmTBS1"
   },
   "outputs": [],
   "source": [
    "#fixed data\n",
    "df.to_csv('all_segm_Kesha_4_2.csv')"
   ]
  },
  {
   "cell_type": "code",
   "execution_count": null,
   "metadata": {
    "id": "NTExYnb3qhHH"
   },
   "outputs": [],
   "source": [
    "df.to_csv('data_proj_all_2.csv')"
   ]
  },
  {
   "cell_type": "code",
   "execution_count": null,
   "metadata": {
    "id": "G9U8SsezPEDD"
   },
   "outputs": [],
   "source": [
    "df.to_csv('data_proj_all_3_50.csv')"
   ]
  },
  {
   "cell_type": "markdown",
   "metadata": {
    "id": "qP0eqCiAp-Mc"
   },
   "source": [
    "# no order eval"
   ]
  },
  {
   "cell_type": "code",
   "execution_count": null,
   "metadata": {
    "id": "x73KzFTsrHSk"
   },
   "outputs": [],
   "source": [
    "import pandas as pd\n",
    "\n",
    "df = pd.read_csv('all_segm_Kesha_2.csv')\n",
    "df_proj = pd.read_csv('data_proj_all_2.csv')"
   ]
  },
  {
   "cell_type": "code",
   "execution_count": null,
   "metadata": {
    "id": "gbJR-F717Fh_"
   },
   "outputs": [],
   "source": [
    "df_morph = pd.read_csv('rule_1__rule_morph_2ver_2.csv')"
   ]
  },
  {
   "cell_type": "code",
   "execution_count": null,
   "metadata": {
    "colab": {
     "base_uri": "https://localhost:8080/",
     "height": 204
    },
    "id": "NGVpCEVf8FDW",
    "outputId": "e51bad11-d109-4a4e-ddb4-316260824ab7"
   },
   "outputs": [],
   "source": [
    "df_morph.head()"
   ]
  },
  {
   "cell_type": "code",
   "execution_count": null,
   "metadata": {
    "id": "Qno6VlU-yCWg"
   },
   "outputs": [],
   "source": [
    "def rough_acc(df, col):\n",
    "  \"\"\"\n",
    "  Accuracy без учёта порядка сегментов\n",
    "  Accuracy without segments' order    \n",
    "  \"\"\"\n",
    "  \n",
    "  agree = 0\n",
    "  nones = 0\n",
    "  for i, row in df.iterrows():\n",
    "    if row['зс'] in list(df[col]) and row['зс'] != 'None':\n",
    "      agree += 1\n",
    "    elif row['зс'] == 'None':\n",
    "      nones += 1\n",
    "  #print(agree, nones, agree+nones, df.shape[0])\n",
    "  return agree/gsize"
   ]
  },
  {
   "cell_type": "code",
   "execution_count": null,
   "metadata": {
    "colab": {
     "base_uri": "https://localhost:8080/"
    },
    "id": "bbFqzNbbxA39",
    "outputId": "04b888f0-ce29-47bb-8466-f069d9fe1953"
   },
   "outputs": [],
   "source": [
    "#old\n",
    "proj_acc"
   ]
  },
  {
   "cell_type": "code",
   "execution_count": null,
   "metadata": {
    "colab": {
     "base_uri": "https://localhost:8080/"
    },
    "id": "eyTXFOF72tuW",
    "outputId": "31be0227-b6d2-4df3-bea0-1bafa2e8eed3"
   },
   "outputs": [],
   "source": [
    "#old\n",
    "proj_acc"
   ]
  },
  {
   "cell_type": "code",
   "execution_count": null,
   "metadata": {
    "colab": {
     "base_uri": "https://localhost:8080/"
    },
    "id": "Uzvjzz6Jtmjx",
    "outputId": "6f7b6d34-af85-46f1-b956-ae5506c08e5d"
   },
   "outputs": [],
   "source": [
    "rough_acc(df_proj, 'proj')"
   ]
  },
  {
   "cell_type": "code",
   "execution_count": null,
   "metadata": {
    "colab": {
     "base_uri": "https://localhost:8080/"
    },
    "id": "hNEs4YDDuuIC",
    "outputId": "cee3f646-cc46-4be1-adff-a7dab4922703"
   },
   "outputs": [],
   "source": [
    "gsize = 0\n",
    "for i, row in df.iterrows():\n",
    "  if row['зс'] != 'None':\n",
    "    gsize += 1\n",
    "gsize"
   ]
  },
  {
   "cell_type": "markdown",
   "metadata": {
    "id": "Ham9ecs-xwZP"
   },
   "source": [
    "New scores"
   ]
  },
  {
   "cell_type": "code",
   "execution_count": null,
   "metadata": {
    "colab": {
     "base_uri": "https://localhost:8080/"
    },
    "id": "20A82-fruBVs",
    "outputId": "9c0556dd-2151-48f7-cab0-e8e4de514b3a"
   },
   "outputs": [],
   "source": [
    "rough_acc(df_proj, 'proj')"
   ]
  },
  {
   "cell_type": "code",
   "execution_count": null,
   "metadata": {
    "colab": {
     "base_uri": "https://localhost:8080/"
    },
    "id": "vC-sEVu9zAmQ",
    "outputId": "f53cd706-1d17-40d7-aea6-76671a4ba43a"
   },
   "outputs": [],
   "source": [
    "cols = list(df.columns)\n",
    "print(cols)"
   ]
  },
  {
   "cell_type": "code",
   "execution_count": null,
   "metadata": {
    "id": "NE4gegxo0jpk"
   },
   "outputs": [],
   "source": [
    "rr = []\n",
    "for i in cols[2:]:\n",
    "  #print(f'{i} --- {rough_acc(i)}')\n",
    "  rr.append([i, rough_acc(df,i)])"
   ]
  },
  {
   "cell_type": "code",
   "execution_count": null,
   "metadata": {
    "colab": {
     "base_uri": "https://localhost:8080/"
    },
    "id": "332LBdzgzUI4",
    "outputId": "8bf1d018-91b7-4c35-d13d-fbc148cf49d6"
   },
   "outputs": [],
   "source": [
    "sorted(rr, key = lambda x:x[1], reverse=True)"
   ]
  },
  {
   "cell_type": "code",
   "execution_count": null,
   "metadata": {
    "colab": {
     "base_uri": "https://localhost:8080/"
    },
    "id": "APKQ-fFU8BL7",
    "outputId": "ec545560-ad52-4239-b206-72f9df0a322d"
   },
   "outputs": [],
   "source": [
    "#rule_1 + rule_morph\n",
    "rough_acc(df_morph, '0')"
   ]
  },
  {
   "cell_type": "markdown",
   "metadata": {
    "id": "fAfp3Oxa1u75"
   },
   "source": [
    "# check missing values"
   ]
  },
  {
   "cell_type": "code",
   "execution_count": null,
   "metadata": {
    "id": "Co_XS-Yzhxul"
   },
   "outputs": [],
   "source": [
    "import pandas as pd\n",
    "df = pd.read_csv('proj_test.csv')\n",
    "#df = pd.read_csv('proj_train.csv')\n",
    "#df = pd.read_csv('no_rules_train_clean.csv')\n",
    "#df = pd.read_csv('all_segm_Kesha_5_test_clean.csv')\n",
    "#df = pd.read_csv('all_segm_Kesha_5_train_clean.csv')\n",
    "#df = pd.read_csv('all_segm_Kesha_4_2_50.csv')\n",
    "#df_proj = pd.read_csv('data_proj_all_2.csv')\n",
    "#df_morph = pd.read_csv('rule_1__rule_morph_2ver_2.csv')"
   ]
  },
  {
   "cell_type": "code",
   "execution_count": null,
   "metadata": {
    "id": "35KtCCa0ANeD"
   },
   "outputs": [],
   "source": [
    "#df_morph.rename(columns = {'0':'morph'}, inplace = True)"
   ]
  },
  {
   "cell_type": "code",
   "execution_count": null,
   "metadata": {
    "colab": {
     "base_uri": "https://localhost:8080/",
     "height": 204
    },
    "id": "JjpOZrN67Cwv",
    "outputId": "91749c18-9763-4d61-8e29-a3f452650284"
   },
   "outputs": [],
   "source": [
    "df.head()"
   ]
  },
  {
   "cell_type": "code",
   "execution_count": null,
   "metadata": {
    "id": "DgO4V2J_1xcC"
   },
   "outputs": [],
   "source": [
    "df = df.drop('Unnamed: 0', axis = 1).reset_index(drop = True)\n",
    "#df_proj = df_proj.drop('Unnamed: 0', axis = 1).reset_index(drop = True)\n",
    "#df_morph = df_morph.drop('Unnamed: 0', axis = 1).reset_index(drop = True)"
   ]
  },
  {
   "cell_type": "code",
   "execution_count": null,
   "metadata": {
    "colab": {
     "base_uri": "https://localhost:8080/"
    },
    "id": "Z5F_iTr6gAQw",
    "outputId": "80ee54fa-c3bf-4bd9-8394-1d58434c07ea"
   },
   "outputs": [],
   "source": [
    "df.shape#, df_proj.shape, df_morph.shape"
   ]
  },
  {
   "cell_type": "code",
   "execution_count": null,
   "metadata": {
    "id": "oGzhPtIW7e8u"
   },
   "outputs": [],
   "source": [
    "#обрежем ЗС"
   ]
  },
  {
   "cell_type": "code",
   "execution_count": null,
   "metadata": {
    "id": "A8GJrIX2gP9X"
   },
   "outputs": [],
   "source": [
    "#df_proj = df_proj.drop('зс', axis = 1).reset_index(drop = True)"
   ]
  },
  {
   "cell_type": "code",
   "execution_count": null,
   "metadata": {
    "id": "wcx6yMHogDaA"
   },
   "outputs": [],
   "source": [
    "#df_comp = df.join(df_proj)"
   ]
  },
  {
   "cell_type": "code",
   "execution_count": null,
   "metadata": {
    "id": "s7KNlYBQ0dmU"
   },
   "outputs": [],
   "source": [
    "#df = df_comp"
   ]
  },
  {
   "cell_type": "code",
   "execution_count": null,
   "metadata": {
    "id": "T-WcpuLFg8i7"
   },
   "outputs": [],
   "source": [
    "#for col in cols:\n",
    "#  df[col] = df[col].fillna('None')"
   ]
  },
  {
   "cell_type": "code",
   "execution_count": null,
   "metadata": {
    "colab": {
     "base_uri": "https://localhost:8080/"
    },
    "id": "a4LIF1Kc1-p-",
    "outputId": "93862ede-dcfd-4e07-ba6c-0017cd2bdf46"
   },
   "outputs": [],
   "source": [
    "cols = list(df.columns)\n",
    "print(cols)\n",
    "#cols[2], cols[10]"
   ]
  },
  {
   "cell_type": "code",
   "execution_count": null,
   "metadata": {
    "id": "8reex-cNaE62"
   },
   "outputs": [],
   "source": [
    "#for i in cols:\n",
    "#  df[i] = df[i].apply(str)"
   ]
  },
  {
   "cell_type": "code",
   "execution_count": null,
   "metadata": {
    "id": "-BJI1E9pcf8I"
   },
   "outputs": [],
   "source": [
    "#for i in range(140, 170):\n",
    "#  print(f\"{i} -- {df[df.index == i]['зс'].values[0]} --- {df[df.index == i]['auto'].values[0]}\")"
   ]
  },
  {
   "cell_type": "code",
   "execution_count": null,
   "metadata": {
    "id": "FWZxepeVoAe7"
   },
   "outputs": [],
   "source": [
    "def miss_check(df, col1, col2):\n",
    "  \"\"\"\n",
    "  Проверяет разметку на наличие пропавших сегментов\n",
    "  Checks if the annotation contains lost segments\n",
    "  \"\"\"\n",
    "\n",
    "  l_true = df[col1].to_list()\n",
    "  l_big = df[col2].to_list()\n",
    "\n",
    "  miss_ids_true = [] #сегмента нет в ЗС\n",
    "  miss_ids_big = [] #сегмента нет в авторразметке\n",
    "  miss_true = []\n",
    "  miss_big = []\n",
    "\n",
    "  for i, row in df.iterrows():\n",
    "    k = 0\n",
    "    for j in l_big:\n",
    "      if row[col1][:13] in j:\n",
    "        k += 1\n",
    "    if k == 0:\n",
    "      for j in l_big:\n",
    "        if row[col1][13:25] in j:\n",
    "          k += 1    \n",
    "    if k == 0:\n",
    "      print(i, row[col1])\n",
    "      miss_ids_true.append(i)\n",
    "      miss_true.append(row[col1])\n",
    "  \n",
    "  #print('\\n')\n",
    "  for i, row in df.iterrows():\n",
    "    k = 0\n",
    "    for j in l_true:\n",
    "      if row[col2][:15] in j:\n",
    "        k += 1\n",
    "    if k == 0:\n",
    "      #print(i, row[col2])\n",
    "      miss_ids_big.append(i)\n",
    "      miss_big.append(row[col2])\n",
    "  \n",
    "  return miss_ids_true, miss_true, miss_ids_big, miss_big"
   ]
  },
  {
   "cell_type": "markdown",
   "metadata": {
    "id": "kUrkAzJ-T0mX"
   },
   "source": [
    "# 1 version data miss check (no train/test division)"
   ]
  },
  {
   "cell_type": "markdown",
   "metadata": {
    "id": "IeKX31683qXC"
   },
   "source": [
    "Проходимся по каждому варианту разметку и смотрим, какие сегменты отсутстуют в разных вариантах разметки"
   ]
  },
  {
   "cell_type": "code",
   "execution_count": null,
   "metadata": {
    "colab": {
     "base_uri": "https://localhost:8080/"
    },
    "id": "rvSGFi2OWnxv",
    "outputId": "f1b94fb8-be4a-4bc3-f7fc-a340ea26078a"
   },
   "outputs": [],
   "source": [
    "#final gs + 50\n",
    "miss_ids_true, miss_true, miss_ids_big, miss_big = miss_check(df, cols[0], cols[1])"
   ]
  },
  {
   "cell_type": "code",
   "execution_count": null,
   "metadata": {
    "colab": {
     "base_uri": "https://localhost:8080/"
    },
    "id": "wNRLVPyo7UKJ",
    "outputId": "f08640c3-fda9-42a2-8cdd-5413428d88f6"
   },
   "outputs": [],
   "source": [
    "#final gs + 50\n",
    "miss_ids_true, miss_true, miss_ids_big, miss_big = miss_check(df, cols[0], cols[2])"
   ]
  },
  {
   "cell_type": "code",
   "execution_count": null,
   "metadata": {
    "colab": {
     "base_uri": "https://localhost:8080/"
    },
    "id": "duoJVGDJXush",
    "outputId": "3166f1e6-831b-424a-d703-7d44e23c2c0b"
   },
   "outputs": [],
   "source": [
    "#final gs + 50\n",
    "miss_ids_true, miss_true, miss_ids_big, miss_big = miss_check(df, cols[0], cols[3])"
   ]
  },
  {
   "cell_type": "code",
   "execution_count": null,
   "metadata": {
    "colab": {
     "base_uri": "https://localhost:8080/"
    },
    "id": "460x5-I5FZuU",
    "outputId": "26e938fd-8ab2-4c46-b5fa-738adfb4c017"
   },
   "outputs": [],
   "source": [
    "#final gs + 50\n",
    "miss_ids_true, miss_true, miss_ids_big, miss_big = miss_check(df, cols[0], cols[4])"
   ]
  },
  {
   "cell_type": "code",
   "execution_count": null,
   "metadata": {
    "colab": {
     "base_uri": "https://localhost:8080/"
    },
    "id": "r-k6Sl2XHHM4",
    "outputId": "a163cc15-dd0c-4591-bdc0-314dd1eb1b84"
   },
   "outputs": [],
   "source": [
    "#final gs + 50\n",
    "miss_ids_true, miss_true, miss_ids_big, miss_big = miss_check(df, cols[0], cols[5])"
   ]
  },
  {
   "cell_type": "code",
   "execution_count": null,
   "metadata": {
    "colab": {
     "base_uri": "https://localhost:8080/"
    },
    "id": "FjJIqlBiCRYb",
    "outputId": "07814a61-a317-4e12-9dd2-b2abc0ef189c"
   },
   "outputs": [],
   "source": [
    "#final gs + 50\n",
    "miss_ids_true, miss_true, miss_ids_big, miss_big = miss_check(df, cols[0], cols[6])"
   ]
  },
  {
   "cell_type": "code",
   "execution_count": null,
   "metadata": {
    "colab": {
     "base_uri": "https://localhost:8080/"
    },
    "id": "CfhK1No5DJmm",
    "outputId": "3966e4f4-a824-4255-c551-b3c8812a01fb"
   },
   "outputs": [],
   "source": [
    "#final gs + 50\n",
    "miss_ids_true, miss_true, miss_ids_big, miss_big = miss_check(df, cols[0], cols[7])"
   ]
  },
  {
   "cell_type": "code",
   "execution_count": null,
   "metadata": {
    "colab": {
     "base_uri": "https://localhost:8080/"
    },
    "id": "AP6KbKtSEA4Q",
    "outputId": "78fddf55-b621-4e4b-caa7-4601d1cd8934"
   },
   "outputs": [],
   "source": [
    "#final_gs + 50\n",
    "miss_ids_true, miss_true, miss_ids_big, miss_big = miss_check(df, cols[0], cols[8])"
   ]
  },
  {
   "cell_type": "code",
   "execution_count": null,
   "metadata": {
    "colab": {
     "base_uri": "https://localhost:8080/"
    },
    "id": "IFi73A8xEpig",
    "outputId": "272655e0-13d9-47ae-ff07-ab83d9c19b3e"
   },
   "outputs": [],
   "source": [
    "#final gs + 50\n",
    "miss_ids_true, miss_true, miss_ids_big, miss_big = miss_check(df, cols[0], cols[9])"
   ]
  },
  {
   "cell_type": "code",
   "execution_count": null,
   "metadata": {
    "colab": {
     "base_uri": "https://localhost:8080/"
    },
    "id": "VRPeL_0GPjo7",
    "outputId": "59785d1d-1eb9-40f8-80f0-4455ff0361f4"
   },
   "outputs": [],
   "source": [
    "#projected final gs\n",
    "miss_ids_true, miss_true, miss_ids_big, miss_big = miss_check(df, cols[0], cols[1])"
   ]
  },
  {
   "cell_type": "code",
   "execution_count": null,
   "metadata": {
    "colab": {
     "base_uri": "https://localhost:8080/"
    },
    "id": "styVNiL2gcUf",
    "outputId": "880a9c7d-ab31-46a6-fe2d-f0fe626ab0c1"
   },
   "outputs": [],
   "source": [
    "miss_ids_true, miss_true, miss_ids_big, miss_big = miss_check(df, cols[2], cols[10])"
   ]
  },
  {
   "cell_type": "code",
   "execution_count": null,
   "metadata": {
    "colab": {
     "base_uri": "https://localhost:8080/"
    },
    "id": "T8hk_m0W_Ovq",
    "outputId": "e9d489c6-d61c-42d9-f11e-d0a366c19e0b"
   },
   "outputs": [],
   "source": [
    "miss_ids_true, miss_true, miss_ids_big, miss_big = miss_check(df_morph, cols[0], cols[1])"
   ]
  },
  {
   "cell_type": "code",
   "execution_count": null,
   "metadata": {
    "colab": {
     "base_uri": "https://localhost:8080/"
    },
    "id": "vpLv0m-sA_TS",
    "outputId": "e847d626-0379-4aa4-f6ae-1abb2dd8f4cc"
   },
   "outputs": [],
   "source": [
    "miss_ids_true, miss_true, miss_ids_big, miss_big = miss_check(df_morph, cols[0], cols[1])"
   ]
  },
  {
   "cell_type": "markdown",
   "metadata": {
    "id": "79biSjUwT9J1"
   },
   "source": [
    "# train data miss check"
   ]
  },
  {
   "cell_type": "code",
   "execution_count": null,
   "metadata": {
    "id": "8uMhGeJSUAVu"
   },
   "outputs": [],
   "source": [
    "# rule_1\n",
    "miss_ids_true, miss_true, miss_ids_big, miss_big = miss_check(df, cols[0], cols[1])"
   ]
  },
  {
   "cell_type": "code",
   "execution_count": null,
   "metadata": {
    "id": "THHol_u2kL-M"
   },
   "outputs": [],
   "source": [
    "# rule_2\n",
    "miss_ids_true, miss_true, miss_ids_big, miss_big = miss_check(df, cols[0], cols[2])"
   ]
  },
  {
   "cell_type": "code",
   "execution_count": null,
   "metadata": {
    "colab": {
     "base_uri": "https://localhost:8080/"
    },
    "id": "ahUNqrF2k_xF",
    "outputId": "516ebeaa-42a8-453e-f438-4dd9b21d97f3"
   },
   "outputs": [],
   "source": [
    "# rule_3\n",
    "miss_ids_true, miss_true, miss_ids_big, miss_big = miss_check(df, cols[0], cols[3])\n",
    "#потеряный ЗС"
   ]
  },
  {
   "cell_type": "code",
   "execution_count": null,
   "metadata": {
    "colab": {
     "base_uri": "https://localhost:8080/"
    },
    "id": "chL9LQWw2eTl",
    "outputId": "baf14398-1c04-458d-8494-30753704eca2"
   },
   "outputs": [],
   "source": [
    "# rule_1_2\n",
    "miss_ids_true, miss_true, miss_ids_big, miss_big = miss_check(df, cols[0], cols[4])"
   ]
  },
  {
   "cell_type": "code",
   "execution_count": null,
   "metadata": {
    "id": "yFPDaK4u3sAU"
   },
   "outputs": [],
   "source": [
    "# rule_1_3\n",
    "miss_ids_true, miss_true, miss_ids_big, miss_big = miss_check(df, cols[0], cols[5])"
   ]
  },
  {
   "cell_type": "code",
   "execution_count": null,
   "metadata": {
    "id": "DtG3KNRz3yZO"
   },
   "outputs": [],
   "source": [
    "# rule_2_3\n",
    "miss_ids_true, miss_true, miss_ids_big, miss_big = miss_check(df, cols[0], cols[6])"
   ]
  },
  {
   "cell_type": "code",
   "execution_count": null,
   "metadata": {
    "id": "Eu-axSrI5vLB"
   },
   "outputs": [],
   "source": [
    "# rule_1_2_3\n",
    "miss_ids_true, miss_true, miss_ids_big, miss_big = miss_check(df, cols[0], cols[7])"
   ]
  },
  {
   "cell_type": "code",
   "execution_count": null,
   "metadata": {
    "colab": {
     "base_uri": "https://localhost:8080/"
    },
    "id": "ubGkvrXTL_Yr",
    "outputId": "8b0ef5af-2763-4403-b30c-9c995841fdd5"
   },
   "outputs": [],
   "source": [
    "#rule_1__rule_morph\n",
    "miss_ids_true, miss_true, miss_ids_big, miss_big = miss_check(df, cols[0], cols[9])"
   ]
  },
  {
   "cell_type": "code",
   "execution_count": null,
   "metadata": {
    "colab": {
     "base_uri": "https://localhost:8080/"
    },
    "id": "Deh6hQd3Ritc",
    "outputId": "6c9990ab-1e4c-4414-fae4-6fcba952e87c"
   },
   "outputs": [],
   "source": [
    "#no_rules\n",
    "miss_ids_true, miss_true, miss_ids_big, miss_big = miss_check(df, cols[0], cols[1])"
   ]
  },
  {
   "cell_type": "code",
   "execution_count": null,
   "metadata": {
    "colab": {
     "base_uri": "https://localhost:8080/"
    },
    "id": "uULO3zw6y7mG",
    "outputId": "20ba4fa2-96ed-475d-dc8d-ec5417dfda7a"
   },
   "outputs": [],
   "source": [
    "#proj\n",
    "miss_ids_true, miss_true, miss_ids_big, miss_big = miss_check(df, cols[0], cols[1])"
   ]
  },
  {
   "cell_type": "code",
   "execution_count": null,
   "metadata": {
    "id": "3v0yLiuf1IUe"
   },
   "outputs": [],
   "source": []
  },
  {
   "cell_type": "markdown",
   "metadata": {
    "id": "P2nTSASV1NJE"
   },
   "source": [
    "# test data miss check"
   ]
  },
  {
   "cell_type": "code",
   "execution_count": null,
   "metadata": {
    "id": "axlr8HtK1NJF"
   },
   "outputs": [],
   "source": [
    "# rule_1\n",
    "miss_ids_true, miss_true, miss_ids_big, miss_big = miss_check(df, cols[0], cols[1])"
   ]
  },
  {
   "cell_type": "code",
   "execution_count": null,
   "metadata": {
    "id": "aBliJqsD1NJG"
   },
   "outputs": [],
   "source": [
    "# rule_2\n",
    "miss_ids_true, miss_true, miss_ids_big, miss_big = miss_check(df, cols[0], cols[2])"
   ]
  },
  {
   "cell_type": "code",
   "execution_count": null,
   "metadata": {
    "id": "8KGybNZt1NJH"
   },
   "outputs": [],
   "source": [
    "# rule_3\n",
    "miss_ids_true, miss_true, miss_ids_big, miss_big = miss_check(df, cols[0], cols[3])\n",
    "#потеряный ЗС"
   ]
  },
  {
   "cell_type": "code",
   "execution_count": null,
   "metadata": {
    "id": "jddrLpEU1NJI"
   },
   "outputs": [],
   "source": [
    "# rule_1_2\n",
    "miss_ids_true, miss_true, miss_ids_big, miss_big = miss_check(df, cols[0], cols[4])"
   ]
  },
  {
   "cell_type": "code",
   "execution_count": null,
   "metadata": {
    "colab": {
     "base_uri": "https://localhost:8080/"
    },
    "id": "ViV_V4M11NJJ",
    "outputId": "8e4f4e47-04fe-453d-ddea-411623e0000e"
   },
   "outputs": [],
   "source": [
    "# rule_1_3\n",
    "miss_ids_true, miss_true, miss_ids_big, miss_big = miss_check(df, cols[0], cols[5])"
   ]
  },
  {
   "cell_type": "code",
   "execution_count": null,
   "metadata": {
    "id": "U5H_Obxu1NJJ"
   },
   "outputs": [],
   "source": [
    "# rule_2_3\n",
    "miss_ids_true, miss_true, miss_ids_big, miss_big = miss_check(df, cols[0], cols[6])"
   ]
  },
  {
   "cell_type": "code",
   "execution_count": null,
   "metadata": {
    "id": "NdcRTwgq1NJK"
   },
   "outputs": [],
   "source": [
    "# rule_1_2_3\n",
    "miss_ids_true, miss_true, miss_ids_big, miss_big = miss_check(df, cols[0], cols[7])"
   ]
  },
  {
   "cell_type": "code",
   "execution_count": null,
   "metadata": {
    "id": "mCgTHB9y1NJL"
   },
   "outputs": [],
   "source": [
    "#rule_1__rule_morph\n",
    "miss_ids_true, miss_true, miss_ids_big, miss_big = miss_check(df, cols[0], cols[8])"
   ]
  },
  {
   "cell_type": "code",
   "execution_count": null,
   "metadata": {
    "colab": {
     "base_uri": "https://localhost:8080/"
    },
    "id": "9n6zifbTPR7g",
    "outputId": "bc318369-2f5b-4485-cd6a-2affd4163e79"
   },
   "outputs": [],
   "source": [
    "#no rules\n",
    "miss_ids_true, miss_true, miss_ids_big, miss_big = miss_check(df, cols[0], cols[1])"
   ]
  },
  {
   "cell_type": "code",
   "execution_count": null,
   "metadata": {
    "colab": {
     "base_uri": "https://localhost:8080/"
    },
    "id": "ITbw_djtE0yg",
    "outputId": "2dcb044b-95a0-4cbb-ea33-1f1ea006d367"
   },
   "outputs": [],
   "source": [
    "#proj\n",
    "miss_ids_true, miss_true, miss_ids_big, miss_big = miss_check(df, cols[0], cols[1])"
   ]
  },
  {
   "cell_type": "markdown",
   "metadata": {
    "id": "-EiaWs2rdhMl"
   },
   "source": [
    "# some additional checks"
   ]
  },
  {
   "cell_type": "code",
   "execution_count": null,
   "metadata": {
    "colab": {
     "base_uri": "https://localhost:8080/"
    },
    "id": "O3zb8xttm-gO",
    "outputId": "3404fc99-8463-4d1a-ae98-ee8f74984574"
   },
   "outputs": [],
   "source": [
    "for i in range(5):\n",
    "  print(miss_ids_big[i], miss_big[i])"
   ]
  },
  {
   "cell_type": "code",
   "execution_count": null,
   "metadata": {
    "id": "rbQmVtO5nXTS"
   },
   "outputs": [],
   "source": [
    "miss_big = miss_big[1:]\n",
    "miss_ids_big = miss_ids_big[1:]"
   ]
  },
  {
   "cell_type": "code",
   "execution_count": null,
   "metadata": {
    "colab": {
     "base_uri": "https://localhost:8080/"
    },
    "id": "9H7IUuwDqpLk",
    "outputId": "dd65c7c7-f6fb-4585-8f62-8e3522c85a34"
   },
   "outputs": [],
   "source": [
    "len(df[cols[0]]), len(df[cols[1]]), len(miss_ids_true), len(miss_ids_big)"
   ]
  },
  {
   "cell_type": "code",
   "execution_count": null,
   "metadata": {
    "colab": {
     "base_uri": "https://localhost:8080/"
    },
    "id": "QaFMaXqdr6J1",
    "outputId": "6fa3c1c7-8814-48e3-af41-5afd1224ed33"
   },
   "outputs": [],
   "source": [
    "k1 = 0\n",
    "k2 = 0\n",
    "kk = []\n",
    "kk2 = []\n",
    "for i, row in df.iterrows():\n",
    "  if row['зс'] != 'None':\n",
    "    k1 += 1\n",
    "    kk.append(row['зс'])\n",
    "  if row['rule_1'] != 'None':\n",
    "    k2 += 1\n",
    "    kk2.append(row['rule_1'])\n",
    "k1,k2"
   ]
  },
  {
   "cell_type": "code",
   "execution_count": null,
   "metadata": {
    "colab": {
     "base_uri": "https://localhost:8080/"
    },
    "id": "BpespWd7sm-Y",
    "outputId": "29eaafdb-c996-4221-934f-41f0fba0fafe"
   },
   "outputs": [],
   "source": [
    "for i in range(285,287):\n",
    "  print(kk[i])\n",
    "  print(kk2[i])"
   ]
  },
  {
   "cell_type": "code",
   "execution_count": null,
   "metadata": {
    "colab": {
     "base_uri": "https://localhost:8080/"
    },
    "id": "iqM1XxVTtEMl",
    "outputId": "57692504-c950-45a3-e073-3be171aca2e2"
   },
   "outputs": [],
   "source": [
    "len(list(df['rule_1'])), len(miss_ids_big), len(list(df['rule_1']))-len(miss_ids_big)"
   ]
  },
  {
   "cell_type": "code",
   "execution_count": null,
   "metadata": {
    "colab": {
     "base_uri": "https://localhost:8080/"
    },
    "id": "4bf7yBfdtXR2",
    "outputId": "7fc2c15d-7105-4708-fea1-409a7a26e219"
   },
   "outputs": [],
   "source": [
    "miss_ids_big[0]"
   ]
  },
  {
   "cell_type": "code",
   "execution_count": null,
   "metadata": {
    "colab": {
     "base_uri": "https://localhost:8080/",
     "height": 131
    },
    "id": "Ed0PtqzNtcx1",
    "outputId": "201f1370-50bc-479a-fe60-9aaa251534cb"
   },
   "outputs": [],
   "source": [
    "df[df.index == 21]"
   ]
  },
  {
   "cell_type": "markdown",
   "metadata": {
    "id": "l96GTSbddnTC"
   },
   "source": [
    "# df for aligning"
   ]
  },
  {
   "cell_type": "markdown",
   "metadata": {
    "id": "I6ChBBmD5Of7"
   },
   "source": [
    "Нужно убрать из датасета отсутствующие и препутанные сегменты, они будут учтены после выравнивания (добавляются в конце с соответствующей пометкой)"
   ]
  },
  {
   "cell_type": "code",
   "execution_count": null,
   "metadata": {
    "id": "tG-rgaliBAH2"
   },
   "outputs": [],
   "source": [
    "df = df_morph"
   ]
  },
  {
   "cell_type": "code",
   "execution_count": null,
   "metadata": {
    "colab": {
     "base_uri": "https://localhost:8080/"
    },
    "id": "TJIX8dwOd1_c",
    "outputId": "e382867c-acbc-4e79-8499-f1a95aafd1e4"
   },
   "outputs": [],
   "source": [
    "miss_ids_big[0] #эде которые отсутствуют в золотом стандарте"
   ]
  },
  {
   "cell_type": "code",
   "execution_count": null,
   "metadata": {
    "colab": {
     "base_uri": "https://localhost:8080/"
    },
    "id": "DbBIck85d7Hr",
    "outputId": "9f79fe0f-a2bd-4499-b57d-a38d844003db"
   },
   "outputs": [],
   "source": [
    "for i in range(len(miss_ids_big)):\n",
    "  try:\n",
    "    print(miss_ids_big[i], miss_big[i])\n",
    "  except:\n",
    "    continue"
   ]
  },
  {
   "cell_type": "code",
   "execution_count": null,
   "metadata": {
    "colab": {
     "base_uri": "https://localhost:8080/"
    },
    "id": "sgLKYSPKqqxr",
    "outputId": "f0ce7c47-6e4f-466f-8056-bd6671c8cdb3"
   },
   "outputs": [],
   "source": [
    "for i in range(len(miss_ids_true)):\n",
    "  try:\n",
    "    print(miss_ids_true[i], miss_true[i])\n",
    "  except:\n",
    "    continue"
   ]
  },
  {
   "cell_type": "code",
   "execution_count": null,
   "metadata": {
    "colab": {
     "base_uri": "https://localhost:8080/"
    },
    "id": "YHOvm4-lhTrt",
    "outputId": "574bbc59-398c-48e4-96eb-cf01144c72df"
   },
   "outputs": [],
   "source": [
    "miss_ids_true, miss_ids_big"
   ]
  },
  {
   "cell_type": "code",
   "execution_count": null,
   "metadata": {
    "id": "vc79919D46An"
   },
   "outputs": [],
   "source": [
    "df = df2"
   ]
  },
  {
   "cell_type": "code",
   "execution_count": null,
   "metadata": {
    "colab": {
     "base_uri": "https://localhost:8080/"
    },
    "id": "hMnaRGTHDOeP",
    "outputId": "69de4575-219e-45aa-ab33-562e4c7f1585"
   },
   "outputs": [],
   "source": [
    "new_golden_data = []\n",
    "new_auto_data = []\n",
    "\n",
    "for i, row in df.iterrows():\n",
    "  if i not in miss_ids_true:\n",
    "    new_golden_data.append(row[cols[0]])\n",
    "  else:\n",
    "    print(row['зс'])\n",
    "  #if i not in miss_ids_big:\n",
    "    #new_auto_data.append(row[cols[1]])"
   ]
  },
  {
   "cell_type": "code",
   "execution_count": null,
   "metadata": {
    "id": "xcrOn77zhzAT"
   },
   "outputs": [],
   "source": [
    "for i, row in df.iterrows():\n",
    "  if i != 176:#miss_ids_big[1]\n",
    "    new_auto_data.append(row[cols[1]]) #меняем номер столбца"
   ]
  },
  {
   "cell_type": "code",
   "execution_count": null,
   "metadata": {
    "colab": {
     "base_uri": "https://localhost:8080/"
    },
    "id": "-oEBA5E2eWNs",
    "outputId": "9c34313b-21bf-416d-abda-d9721adc3cbe"
   },
   "outputs": [],
   "source": [
    "len(new_golden_data), len(new_auto_data)"
   ]
  },
  {
   "cell_type": "code",
   "execution_count": null,
   "metadata": {
    "id": "Tw3Wrj6SfDAK"
   },
   "outputs": [],
   "source": [
    "'''new_auto_data_2 = []\n",
    "for i in new_auto_data:\n",
    "  if i != miss_big[0]:\n",
    "    new_auto_data_2.append(i)'''"
   ]
  },
  {
   "cell_type": "code",
   "execution_count": null,
   "metadata": {
    "id": "jb04GrhcfXlo"
   },
   "outputs": [],
   "source": [
    "#new_auto_data = new_auto_data_2"
   ]
  },
  {
   "cell_type": "code",
   "execution_count": null,
   "metadata": {
    "colab": {
     "base_uri": "https://localhost:8080/"
    },
    "id": "QFUYu_yPJcWx",
    "outputId": "ffa69e00-9d53-4a04-9c0b-0abc2298be21"
   },
   "outputs": [],
   "source": [
    "#for proj\n",
    "for i, row in df.iterrows():\n",
    "  if row['proj'] == 'Одна из причин этого заключается в том что до сих пор они совсем не боятся последствий несмотря на то что уборка за питомцем это их обязанность':\n",
    "    print(i)"
   ]
  },
  {
   "cell_type": "code",
   "execution_count": null,
   "metadata": {
    "id": "0nDlVU_7Kr9b"
   },
   "outputs": [],
   "source": [
    "#for proj\n",
    "lost_gs = ['Ни у кого не должно быть возможности купить противозачаточные таблетки без рецепта']"
   ]
  },
  {
   "cell_type": "markdown",
   "metadata": {
    "id": "VRQQmmticbLL"
   },
   "source": [
    "# lost gs (для трейна)"
   ]
  },
  {
   "cell_type": "markdown",
   "metadata": {
    "id": "93RQVLDP6iLr"
   },
   "source": [
    "Потерянный золотой стандарт"
   ]
  },
  {
   "cell_type": "markdown",
   "metadata": {
    "id": "A8cWZUT1YpV-"
   },
   "source": [
    "ДЛЯ ТРЕЙНА"
   ]
  },
  {
   "cell_type": "code",
   "execution_count": null,
   "metadata": {
    "id": "N1kBcntE_6yB"
   },
   "outputs": [],
   "source": [
    "# for proj\n",
    "lost_gs = ['К тому же всем приходится переезжать примерно от трёх до десяти раз в жизни']"
   ]
  },
  {
   "cell_type": "code",
   "execution_count": null,
   "metadata": {
    "id": "typqbUYUTcYY"
   },
   "outputs": [],
   "source": [
    "lost_gs = ['К тому же всем приходится переезжать примерно от трёх до десяти раз в жизни', 'потому что размеры желаемой жилплощади меняются с течением времени']"
   ]
  },
  {
   "cell_type": "markdown",
   "metadata": {
    "id": "qyTQehZAgAuV"
   },
   "source": [
    "New stuff"
   ]
  },
  {
   "cell_type": "code",
   "execution_count": null,
   "metadata": {
    "id": "cW3RZWwWgDTQ"
   },
   "outputs": [],
   "source": [
    "lost_gs = ['но', 'без достаточного числа высококвалифицированных молодых работников','учитывая стоимость именитых игроков']"
   ]
  },
  {
   "cell_type": "code",
   "execution_count": null,
   "metadata": {
    "id": "r0WV19-ufzQw"
   },
   "outputs": [],
   "source": [
    "#for rule morph, no_rules\n",
    "lost_gs_2 = ['Смертная казнь сама по себе была бы убийством', 'Учитывая то что они забрали или разрушили чью то жизнь']"
   ]
  },
  {
   "cell_type": "markdown",
   "metadata": {
    "id": "lQGBIhJwYrjW"
   },
   "source": [
    "ДЛЯ ТЕСТА"
   ]
  },
  {
   "cell_type": "code",
   "execution_count": null,
   "metadata": {
    "colab": {
     "base_uri": "https://localhost:8080/"
    },
    "id": "H3bkRGKiAE6h",
    "outputId": "7e27b490-2fa4-4361-ab25-e40657dadaa5"
   },
   "outputs": [],
   "source": [
    "new_golden_data_2 = []\n",
    "for i in new_golden_data:\n",
    "  if i not in lost_gs:\n",
    "    new_golden_data_2.append(i)\n",
    "  else:\n",
    "    print(i)"
   ]
  },
  {
   "cell_type": "code",
   "execution_count": null,
   "metadata": {
    "colab": {
     "base_uri": "https://localhost:8080/"
    },
    "id": "IepWfEUqAQBc",
    "outputId": "7b14c0bd-2fa6-44e4-f28a-571742cca686"
   },
   "outputs": [],
   "source": [
    "len(new_golden_data), len(new_golden_data_2)"
   ]
  },
  {
   "cell_type": "code",
   "execution_count": null,
   "metadata": {
    "id": "tEpvQ6ZBAQgD"
   },
   "outputs": [],
   "source": [
    "new_golden_data = new_golden_data_2"
   ]
  },
  {
   "cell_type": "code",
   "execution_count": null,
   "metadata": {
    "colab": {
     "base_uri": "https://localhost:8080/"
    },
    "id": "Kg_qZkvNrzd1",
    "outputId": "e33f401c-47bb-4d46-de8b-53a43b8259c8"
   },
   "outputs": [],
   "source": [
    "len(new_golden_data), len(new_auto_data)"
   ]
  },
  {
   "cell_type": "code",
   "execution_count": null,
   "metadata": {
    "id": "XRUW1wqYr1mD"
   },
   "outputs": [],
   "source": [
    "new_golden_data.append('None')"
   ]
  },
  {
   "cell_type": "markdown",
   "metadata": {
    "id": "3LeNsiAIpwxX"
   },
   "source": [
    "# mixed stuff (train)"
   ]
  },
  {
   "cell_type": "markdown",
   "metadata": {
    "id": "kn5_EVev518W"
   },
   "source": [
    "Перепутанные сегмегменты в train data"
   ]
  },
  {
   "cell_type": "markdown",
   "metadata": {
    "id": "HBaT1EIiYb32"
   },
   "source": [
    "ДЛЯ ТРЕЙНА"
   ]
  },
  {
   "cell_type": "code",
   "execution_count": null,
   "metadata": {
    "id": "0SrBggdkejsT"
   },
   "outputs": [],
   "source": [
    "# для rule_3\n",
    "mixed = ['потому что нам нужны общие и независимые СМИ', 'пока я сижу в офисе']"
   ]
  },
  {
   "cell_type": "code",
   "execution_count": null,
   "metadata": {
    "id": "Pi9sEYKmzeQe"
   },
   "outputs": [],
   "source": [
    "# for rule 3\n",
    "not_div = ['Учитывая их технические условия некоторые видеоигры не относятся к спортивным дисциплинам но эту проблему возможно решить ясно структурированным процессом отбора',\\\n",
    "           'Учитывая их технические условия','некоторые видеоигры не относятся к спортивным дисциплинам', 'но эту проблему возможно решить ясно структурированным процессом отбора']"
   ]
  },
  {
   "cell_type": "code",
   "execution_count": null,
   "metadata": {
    "id": "TNnxKSfH5mdF"
   },
   "outputs": [],
   "source": [
    "# 2, 3, 1-2\n",
    "not_div = ['Следовательно это хорошо когда магазины не работают в выходные и праздничные дни Однако у людей которые работают в течение недели и по субботам возникает проблема другие люди могут совершать покупки в будние дни а они не могут Для этих людей хорошая альтернатива посещение магазинов которые открыты до полуночи',\n",
    "           'Следовательно это хорошо когда магазины не работают в выходные и праздничные дни',\\\n",
    "           'Однако у людей которые работают в течение недели и по субботам возникает проблема',\\\n",
    "           'другие люди могут совершать покупки в будние дни', 'а они не могут',\\\n",
    "           'Для этих людей хорошая альтернатива посещение магазинов которые открыты до полуночи']"
   ]
  },
  {
   "cell_type": "code",
   "execution_count": null,
   "metadata": {
    "id": "jyZkQcEGsRII"
   },
   "outputs": [],
   "source": [
    "# FIN 3 rule for fixed data\n",
    "mixed = ['потому что нам нужны общие и независимые СМИ', 'пока я сижу в офисе', 'Учитывая их технические условия некоторые видеоигры не относятся к спортивным дисциплинам но эту проблему возможно решить ясно структурированным процессом отбора','Учитывая их технические условия','некоторые видеоигры не относятся к спортивным дисциплинам','но эту проблему возможно решить ясно структурированным процессом отбора']"
   ]
  },
  {
   "cell_type": "code",
   "execution_count": null,
   "metadata": {
    "id": "WSIUdl_foEnj"
   },
   "outputs": [],
   "source": [
    "#proj\n",
    "mixed = ['и теряется слишком много ресурсов','когда сжигается то что на самом деле следует разделять и перерабатывать','и теряется слишком много ресурсов когда','сжигается то что на самом деле следует разделять и перерабатывать','но их экскременты довольно настойчиво прилипают к вашим подошвам','как только вы в них вступаете','но их экскременты довольно настойчиво прилипают к вашим подошвам как','только вы в них вступаете']"
   ]
  },
  {
   "cell_type": "code",
   "execution_count": null,
   "metadata": {
    "id": "nKc8TWokqGrA"
   },
   "outputs": [],
   "source": [
    "mixed_2 = ['Просто скроенная практичная одежда выровняет визуальный образ школы','и позволит обратить внимание на характер и достижения учеников а не на их покупательную способность','Просто скроенная практичная одежда выровняет визуальный образ школы и позволит обратить внимание на характер и достижения учеников','а не на их покупательную способность']"
   ]
  },
  {
   "cell_type": "code",
   "execution_count": null,
   "metadata": {
    "id": "hvudEBpTCaaO"
   },
   "outputs": [],
   "source": [
    "# FIN rule 1 rule morph\n",
    "mixed = ['при обучении']"
   ]
  },
  {
   "cell_type": "code",
   "execution_count": null,
   "metadata": {
    "id": "r55cVbG2cgIl"
   },
   "outputs": [],
   "source": [
    "not_div = ['Существуют и другие средства для создания более строгой дисциплины при обучении',\\\n",
    "           'Существуют и другие средства', 'при обучении', 'для создания более строгой дисциплины']"
   ]
  },
  {
   "cell_type": "code",
   "execution_count": null,
   "metadata": {
    "id": "c7G6LgLFu0me"
   },
   "outputs": [],
   "source": [
    "#fin for rule 2,3\n",
    "not_div = ['учитывая само количество программ и станций которые в основном все равно показывают одно и то же', \\\n",
    "         'учитывая само количество программ и станций',\\\n",
    "         'которые в основном все равно показывают одно и то же']"
   ]
  },
  {
   "cell_type": "code",
   "execution_count": null,
   "metadata": {
    "id": "UTqFu__76lI9"
   },
   "outputs": [],
   "source": [
    "# fin for 3 rule\n",
    "not_div = ['Существуют шоу актуальные только для старшего поколения в прайм тайм так почему же все должны за них платить', \\\n",
    "           'Существуют шоу актуальные только для старшего поколения в прайм тайм',\\\n",
    "           'так почему же все должны за них платить']"
   ]
  },
  {
   "cell_type": "code",
   "execution_count": null,
   "metadata": {
    "id": "iJIGnm_A5vUa"
   },
   "outputs": [],
   "source": [
    "#for proj\n",
    "not_div = ['если бы за это ввели высокие штрафы Это в свою очередь привело бы к достаточно чистотым тротуарам',\\\n",
    "           'если бы за это ввели высокие штрафы',\\\n",
    "           'Это в свою очередь привело бы к достаточно чистотым тротуарам']"
   ]
  },
  {
   "cell_type": "markdown",
   "metadata": {
    "id": "1tksu2Mvcmb1"
   },
   "source": [
    "# mixed stuff (test)"
   ]
  },
  {
   "cell_type": "markdown",
   "metadata": {
    "id": "5--XPinC7STq"
   },
   "source": [
    "Перепутанные сегменты для test data"
   ]
  },
  {
   "cell_type": "markdown",
   "metadata": {
    "id": "j7mfUjLhYf20"
   },
   "source": [
    "ДЛЯ ТЕСТА"
   ]
  },
  {
   "cell_type": "code",
   "execution_count": null,
   "metadata": {
    "id": "DLVEUQxwYhTd"
   },
   "outputs": [],
   "source": [
    "#rule_1, 1_morph\n",
    "mixed = ['чтобы коллективно финансировать определенные области', 'которые не могут занять свое место в рыночной экономике',\\\n",
    "         'И поскольку общественный долг заключается в том',\\\n",
    "         'И поскольку общественный долг заключается в том чтобы коллективно финансировать определенные области которые не могут занять свое место в рыночной экономике']"
   ]
  },
  {
   "cell_type": "code",
   "execution_count": null,
   "metadata": {
    "id": "RvJb2WblYhhN"
   },
   "outputs": [],
   "source": [
    "#rule_2, 3, 1_2, 1_3, 2_3, 1_2_3\n",
    "mixed = ['чтобы коллективно финансировать определенные области которые не могут занять свое место в рыночной экономике',\\\n",
    "         'И поскольку общественный долг заключается в том',\\\n",
    "         'И поскольку общественный долг заключается в том чтобы коллективно финансировать определенные области которые не могут занять свое место в рыночной экономике']"
   ]
  },
  {
   "cell_type": "code",
   "execution_count": null,
   "metadata": {
    "id": "orKHMYwYPM_q"
   },
   "outputs": [],
   "source": [
    "#rule_2\n",
    "mixed_2 = ['Но я хочу испытать это восхитительное мгновение свободы', 'о котором снова и снова говорят парашютисты',\\\n",
    "           'Но я хочу испытать это восхитительное мгновение свободы о котором снова и снова говорят парашютисты']"
   ]
  },
  {
   "cell_type": "code",
   "execution_count": null,
   "metadata": {
    "id": "Q0xBINMBWf2O"
   },
   "outputs": [],
   "source": [
    "#rule_3, rule 1_2, 1_3, 2_3, 1_2_3\n",
    "#lost part\n",
    "mixed_2 = ['Но я хочу испытать это восхитительное мгновение свободы', \\\n",
    "           'Но я хочу испытать это восхитительное мгновение свободы о котором снова и снова говорят парашютисты']"
   ]
  },
  {
   "cell_type": "code",
   "execution_count": null,
   "metadata": {
    "id": "KLU1sROxQemi"
   },
   "outputs": [],
   "source": [
    "#rule_2, 3, 1_2, 1_3, 2_3, 1_2_3\n",
    "not_div = ['Предполагается что более высокий штраф который заставил бы владельцев собак поглубже залесть к себе в карман будет в конечном счете сдерживающим фактором',\\\n",
    "           'Весь город и в особенности зеленые газоны должны быть в порядке',\\\n",
    "           'так как это места для нашего же отдыха',\\\n",
    "           'Предполагается что более высокий штраф который заставил бы владельцев собак поглубже залесть к себе в карман будет в конечном счете сдерживающим фактором Весь город и в особенности зеленые газоны должны быть в порядке так как это места для нашего же отдыха']"
   ]
  },
  {
   "cell_type": "code",
   "execution_count": null,
   "metadata": {
    "id": "w8GF9aG-Ynzh"
   },
   "outputs": [],
   "source": [
    "#rule_3 (для 1_3 + разметка вроде норм, но не выравнивалась)\n",
    "not_div_2 = ['Следует отметить что в нашем цивилизованном мире в демократической стране народ может сам решать свою судьбу',\n",
    "           'пока мотивация этих людей не вызвана пропагандой коррупцией и военным давлением',\n",
    "           'Следует отметить что в нашем цивилизованном мире в демократической стране народ может сам решать свою судьбу пока мотивация этих людей не вызвана пропагандой коррупцией и военным давлением']"
   ]
  },
  {
   "cell_type": "code",
   "execution_count": null,
   "metadata": {
    "id": "AzS7H9Mt1nK3"
   },
   "outputs": [],
   "source": [
    "div = ['В конце концов есть преступники которым нравится жизнь в тюрьме за приличную плату без уплаты налогов без привычного стресса от работы',\\\n",
    "       'В конце концов есть преступники которым нравится жизнь в тюрьме за приличную плату','без привычного стресса от работы', 'без уплаты налогов']"
   ]
  },
  {
   "cell_type": "code",
   "execution_count": null,
   "metadata": {
    "id": "UnKYQbyBQG9D"
   },
   "outputs": [],
   "source": [
    "#no_rules\n",
    "lost_gs = ['Вчера']"
   ]
  },
  {
   "cell_type": "markdown",
   "metadata": {
    "id": "eZepMm4PYiUO"
   },
   "source": [
    "# final df"
   ]
  },
  {
   "cell_type": "markdown",
   "metadata": {
    "id": "TNJSzw1d64Hh"
   },
   "source": [
    "Создаем итоговый датасет, убирая нужные сегменты, найденные выше"
   ]
  },
  {
   "cell_type": "code",
   "execution_count": null,
   "metadata": {
    "id": "UzYAp9Ls6jzh"
   },
   "outputs": [],
   "source": [
    "# for the rest df2\n",
    "new_auto_data = list(df2['proj'])\n",
    "new_golden_data = list(df2['зс'])"
   ]
  },
  {
   "cell_type": "code",
   "execution_count": null,
   "metadata": {
    "colab": {
     "base_uri": "https://localhost:8080/"
    },
    "id": "ycbE3LDIc4hk",
    "outputId": "c27b3b1f-4318-48c8-a110-335062365849"
   },
   "outputs": [],
   "source": [
    "new_golden_data_2 = []\n",
    "for i in new_golden_data:\n",
    "  if i in not_div: #mixed or not_div or wrong\n",
    "    print(i)\n",
    "    continue\n",
    "  else:\n",
    "    new_golden_data_2.append(i)"
   ]
  },
  {
   "cell_type": "code",
   "execution_count": null,
   "metadata": {
    "colab": {
     "base_uri": "https://localhost:8080/"
    },
    "id": "v0rUeSw_d-I6",
    "outputId": "0699140e-0df6-49eb-c706-2c6c361443c8"
   },
   "outputs": [],
   "source": [
    "new_auto_data_2 = []\n",
    "for i in new_auto_data:\n",
    "  if i in not_div: #mixed or not_div or wrong\n",
    "    print(i)\n",
    "    continue\n",
    "  else:\n",
    "    new_auto_data_2.append(i)"
   ]
  },
  {
   "cell_type": "code",
   "execution_count": null,
   "metadata": {
    "id": "g714vccZdNok"
   },
   "outputs": [],
   "source": [
    "new_golden_data = new_golden_data_2\n",
    "new_auto_data = new_auto_data_2"
   ]
  },
  {
   "cell_type": "code",
   "execution_count": null,
   "metadata": {
    "colab": {
     "base_uri": "https://localhost:8080/"
    },
    "id": "iiK26PEM68rq",
    "outputId": "51ed7ce2-547f-4b52-d646-8dda1ca16fa6"
   },
   "outputs": [],
   "source": [
    "len(new_golden_data), len(new_auto_data)"
   ]
  },
  {
   "cell_type": "code",
   "execution_count": null,
   "metadata": {
    "id": "YEEKlXYY0VRV"
   },
   "outputs": [],
   "source": [
    "while len(new_golden_data) != len(new_auto_data):\n",
    "  new_golden_data.append('None')"
   ]
  },
  {
   "cell_type": "code",
   "execution_count": null,
   "metadata": {
    "id": "LDkZusXNve_x"
   },
   "outputs": [],
   "source": [
    "while len(new_auto_data) != len(new_golden_data):\n",
    "  new_auto_data.append('None')"
   ]
  },
  {
   "cell_type": "markdown",
   "metadata": {
    "id": "VU61wj6Mp2Rm"
   },
   "source": [
    "# aligning"
   ]
  },
  {
   "cell_type": "code",
   "execution_count": null,
   "metadata": {
    "id": "22TllLGMJREz"
   },
   "outputs": [],
   "source": [
    "new_golden_data = new_golden_data[:len(new_auto_data)]"
   ]
  },
  {
   "cell_type": "code",
   "execution_count": null,
   "metadata": {
    "id": "QWDWGixbGzn7"
   },
   "outputs": [],
   "source": [
    "df2 = pd.DataFrame()\n",
    "df2['зс'] = new_golden_data\n",
    "df2['auto'] = new_auto_data"
   ]
  },
  {
   "cell_type": "code",
   "execution_count": null,
   "metadata": {
    "id": "tU30ESBI70Gb"
   },
   "outputs": [],
   "source": [
    "df2['auto'] = df2['auto'].fillna('None')"
   ]
  },
  {
   "cell_type": "code",
   "execution_count": null,
   "metadata": {
    "id": "A7O0mFV1wFx_"
   },
   "outputs": [],
   "source": [
    "drop_ids = []\n",
    "for i, row in df2.iterrows():\n",
    "  if row['зс'] == 'None' and row['auto'] == 'None':\n",
    "    drop_ids.append(i)"
   ]
  },
  {
   "cell_type": "code",
   "execution_count": null,
   "metadata": {
    "colab": {
     "base_uri": "https://localhost:8080/"
    },
    "id": "Kypu4LZMwIBw",
    "outputId": "07134d38-b095-4f2d-f225-6c5cd7b91e76"
   },
   "outputs": [],
   "source": [
    "len(drop_ids)"
   ]
  },
  {
   "cell_type": "code",
   "execution_count": null,
   "metadata": {
    "id": "9EppF_0AwPf2"
   },
   "outputs": [],
   "source": [
    "df2 = df2.drop(drop_ids).reset_index(drop=True)"
   ]
  },
  {
   "cell_type": "code",
   "execution_count": null,
   "metadata": {
    "id": "dY2HzmThyaLe"
   },
   "outputs": [],
   "source": [
    "df2.to_csv('df2.csv')"
   ]
  },
  {
   "cell_type": "code",
   "execution_count": null,
   "metadata": {
    "id": "OgMOWzYeysXu"
   },
   "outputs": [],
   "source": [
    "df2 = pd.read_csv('proj_train_dop.csv')"
   ]
  },
  {
   "cell_type": "code",
   "execution_count": null,
   "metadata": {
    "colab": {
     "base_uri": "https://localhost:8080/",
     "height": 204
    },
    "id": "0yneAYMEBsvr",
    "outputId": "33af2397-0398-43e6-a7d1-dab774d49308"
   },
   "outputs": [],
   "source": [
    "df2.head()"
   ]
  },
  {
   "cell_type": "code",
   "execution_count": null,
   "metadata": {
    "id": "D_lCI2s2o1SE"
   },
   "outputs": [],
   "source": [
    "def aligning(df):\n",
    "  \"\"\"\n",
    "  Выравнивает две разметки\n",
    "  Annotation aligment\n",
    "  \"\"\"\n",
    "\n",
    "  new_gs = []\n",
    "  new_auto = []\n",
    "  a_id = 0\n",
    "  g_id = 0\n",
    "  cur_a = 0\n",
    "  cur_g = 0\n",
    "  a = True\n",
    "  b = False\n",
    "  k = 0\n",
    "  triple = False\n",
    "  for i in range(df.shape[0]):\n",
    "    try:\n",
    "      golden = df[df.index == cur_g]['зс'].values[0]\n",
    "    except:\n",
    "      golden = 'None'\n",
    "    try:\n",
    "      auto = df[df.index == cur_a]['auto'].values[0]\n",
    "    except:\n",
    "      auto = 'None'\n",
    "\n",
    "    if a == True:\n",
    "      if golden in auto: #lengths of auto and gs are equal\n",
    "        if golden == auto:\n",
    "          new_gs.append(golden)\n",
    "          new_auto.append(auto)\n",
    "          g_id += 1\n",
    "          a_id += 1\n",
    "          cur_a += 1\n",
    "          cur_g += 1\n",
    "        else: #auto is longer ->\n",
    "          new_gs.append(golden)\n",
    "          new_auto.append(auto)\n",
    "          cur_a = a_id\n",
    "          a_id += 1\n",
    "          g_id += 1\n",
    "          cur_g += 1\n",
    "\n",
    "      elif auto in golden: #gs contains auto\n",
    "        if auto == golden:\n",
    "          new_gs.append(golden)\n",
    "          new_auto.append(auto)\n",
    "          g_id += 1\n",
    "          a_id += 1\n",
    "          cur_a += 1\n",
    "          cur_g += 1 \n",
    "        else: #golden is longer ->\n",
    "          new_gs.append(golden)\n",
    "          new_auto.append(auto)\n",
    "          cur_g = g_id\n",
    "          g_id += 1\n",
    "          a_id += 1\n",
    "          cur_a += 1\n",
    "\n",
    "      elif auto == 'None':\n",
    "        a_id += 1\n",
    "        cur_a = a_id\n",
    "      elif golden == 'None':\n",
    "        g_id += 1\n",
    "        cur_g = g_id\n",
    "    \n",
    "      if cur_a != a_id:\n",
    "        #print('not equal A')\n",
    "        auto_long = df[df.index == cur_a]['auto'].values[0]\n",
    "        golden_short = df[df.index == cur_g]['зс'].values[0]\n",
    "\n",
    "        if auto_long.endswith(golden_short) == True:\n",
    "          new_gs.append(golden_short)\n",
    "          new_auto.append(auto_long)\n",
    "          g_id += 1\n",
    "          cur_g = g_id\n",
    "          cur_a = a_id\n",
    "\n",
    "        elif golden_short in auto_long: #triple\n",
    "          new_gs.append(golden_short)\n",
    "          new_auto.append(auto_long)\n",
    "          if df[df.index == cur_a+1]['auto'].values[0] in df[df.index == cur_g+1]['зс'].values[0]:\n",
    "            cur_g += 1\n",
    "            g_id = cur_g\n",
    "            cur_a += 1\n",
    "            a_id = cur_a\n",
    "          else:\n",
    "            g_id += 1\n",
    "            cur_g = g_id\n",
    "            a_id -= 1\n",
    "\n",
    "        elif auto_long.endswith(df[df.index == cur_g-1]['зс'].values[0]) == True:\n",
    "          cur_a = a_id\n",
    "\n",
    "        elif df[df.index == cur_a+1]['auto'].values[0] in df[df.index == cur_g-1]['зс'].values[0]:\n",
    "          cur_a = cur_a + 1\n",
    "          a_id = cur_a\n",
    "          cur_g = cur_g - 1\n",
    "          g_id = cur_g \n",
    "\n",
    "        else:\n",
    "          next_auto = df[df.index == cur_a+1]['auto'].values[0]\n",
    "          new_gs.append(golden_short)\n",
    "          new_auto.append(next_auto)\n",
    "\n",
    "          if golden_short.endswith(next_auto) == True:\n",
    "            g_id += 1\n",
    "            cur_g = g_id\n",
    "            a_id += 1\n",
    "            cur_a = a_id\n",
    "          else:\n",
    "            g_id += 1\n",
    "            cur_g = g_id\n",
    "            cur_a = a_id\n",
    "\n",
    "      if cur_g != g_id:\n",
    "        #print('not equal G')\n",
    "        golden_long = df[df.index == cur_g]['зс'].values[0]\n",
    "        auto_short = df[df.index == cur_a]['auto'].values[0]\n",
    "\n",
    "        if golden_long.endswith(auto_short) == True:\n",
    "          new_gs.append(golden_long)\n",
    "          new_auto.append(auto_short)\n",
    "          a_id += 1\n",
    "          cur_a = a_id\n",
    "          cur_g = g_id\n",
    "\n",
    "        elif auto_short in golden_long: #triple\n",
    "          new_gs.append(golden_long)\n",
    "          new_auto.append(auto_short)\n",
    "          if df[df.index == cur_g+1]['зс'].values[0] in df[df.index == cur_a+1]['auto'].values[0]:\n",
    "            cur_a += 1\n",
    "            a_id = cur_a\n",
    "            cur_g += 1\n",
    "            g_id = cur_g\n",
    "          else:\n",
    "            a_id += 1\n",
    "            cur_a = a_id\n",
    "            g_id -= 1\n",
    "\n",
    "        elif golden_long.endswith(df[df.index == cur_a-1]['auto'].values[0]) == True:\n",
    "          cur_g = g_id   \n",
    "\n",
    "        elif df[df.index == cur_g+1]['зс'].values[0] in df[df.index == cur_a-1]['auto'].values[0]:\n",
    "          cur_g = cur_g + 1\n",
    "          g_id = cur_g\n",
    "          cur_a = cur_a - 1\n",
    "          a_id = cur_a       \n",
    "\n",
    "        else:\n",
    "          next_golden = df[df.index == cur_g+1]['зс'].values[0]\n",
    "          new_gs.append(next_golden)\n",
    "          new_auto.append(auto_short)\n",
    "          \n",
    "          if auto_short.endswith(next_golden) == True:\n",
    "            a_id += 1\n",
    "            cur_a = a_id\n",
    "            g_id += 1\n",
    "            cur_g = g_id\n",
    "          else:\n",
    "            a_id += 1\n",
    "            cur_a = a_id\n",
    "            cur_g = g_id\n",
    "  \n",
    "  return new_gs, new_auto"
   ]
  },
  {
   "cell_type": "code",
   "execution_count": null,
   "metadata": {
    "id": "CzDFPxRAs3Nh"
   },
   "outputs": [],
   "source": [
    "new_gs, new_auto = aligning(df2)"
   ]
  },
  {
   "cell_type": "code",
   "execution_count": null,
   "metadata": {
    "colab": {
     "base_uri": "https://localhost:8080/"
    },
    "id": "LYrygXH2emRD",
    "outputId": "45700c64-aa01-454d-954b-82d4b29f4e53"
   },
   "outputs": [],
   "source": [
    "len(new_gs), len(new_auto)"
   ]
  },
  {
   "cell_type": "markdown",
   "metadata": {
    "id": "ZxluDLwJ8zS5"
   },
   "source": [
    "Возвращаем нужные убранные сегменты с конец выровненного датасета с пометкой"
   ]
  },
  {
   "cell_type": "code",
   "execution_count": null,
   "metadata": {
    "id": "lF9tKtKvmmpU"
   },
   "outputs": [],
   "source": [
    "for i in miss_true:\n",
    "  new_gs.append(i)\n",
    "  new_auto.append('None')"
   ]
  },
  {
   "cell_type": "code",
   "execution_count": null,
   "metadata": {
    "id": "NEJIvZ9ME7Nh"
   },
   "outputs": [],
   "source": [
    "for i in lost_gs:\n",
    "  new_gs.append(i)\n",
    "  new_auto.append('None')"
   ]
  },
  {
   "cell_type": "code",
   "execution_count": null,
   "metadata": {
    "id": "FOoFofzapgvU"
   },
   "outputs": [],
   "source": [
    "for i in mixed:\n",
    "  new_gs.append(i)\n",
    "  new_auto.append('mixed')\n",
    "  #new_gs.append('mixed')\n",
    "  #new_auto.append(i)"
   ]
  },
  {
   "cell_type": "code",
   "execution_count": null,
   "metadata": {
    "id": "gc_Py7gPZ7MR"
   },
   "outputs": [],
   "source": [
    "# for test 3, 1_2 +\n",
    "new_gs.append(mixed_2[1])\n",
    "new_gs.append(mixed_2[1])\n",
    "new_auto.append(mixed_2[0])\n",
    "new_auto.append('lost part')"
   ]
  },
  {
   "cell_type": "code",
   "execution_count": null,
   "metadata": {
    "id": "o8eF6xSK0uYk"
   },
   "outputs": [],
   "source": [
    "# for train 2, 3, 1-2\n",
    "# for test 1, 2, 3, 1_2 + ... 1_morph\n",
    "for i in mixed[:-1]:\n",
    "  #new_gs.append(i)\n",
    "  #new_auto.append(not_div_2[-1])\n",
    "  #new_auto.append(i)\n",
    "  #new_gs.append(mixed[-1])"
   ]
  },
  {
   "cell_type": "code",
   "execution_count": null,
   "metadata": {
    "id": "3-J-hJNV6u7a"
   },
   "outputs": [],
   "source": [
    "#for proj\n",
    "for i in not_div[1:]:\n",
    "  new_auto.append(not_div[0])\n",
    "  new_gs.append(i)"
   ]
  },
  {
   "cell_type": "code",
   "execution_count": null,
   "metadata": {
    "id": "GfKBo17V2ctq"
   },
   "outputs": [],
   "source": [
    "#for test 1_morph\n",
    "for i in div[1:]:\n",
    "  new_gs.append(div[0])\n",
    "  new_auto.append(i)"
   ]
  },
  {
   "cell_type": "markdown",
   "metadata": {
    "id": "QIL2WuM39E9e"
   },
   "source": [
    "Итоговый датасет"
   ]
  },
  {
   "cell_type": "code",
   "execution_count": null,
   "metadata": {
    "id": "Wfhfwo0iZGsv"
   },
   "outputs": [],
   "source": [
    "df_aligned = pd.DataFrame()\n",
    "df_aligned['зс'] = new_gs\n",
    "df_aligned['auto'] = new_auto"
   ]
  },
  {
   "cell_type": "code",
   "execution_count": null,
   "metadata": {
    "id": "ZDalSUGS3o4x"
   },
   "outputs": [],
   "source": [
    "# для частей\n",
    "#df_aligned.to_csv('train_segm/aligned/data_aligned_proj_2.csv')"
   ]
  },
  {
   "cell_type": "code",
   "execution_count": null,
   "metadata": {
    "id": "oJFXksVXnIEe"
   },
   "outputs": [],
   "source": [
    "drop_ids = []\n",
    "for i, row in df_aligned.iterrows():\n",
    "  if row['зс'] == 'None' and row['auto'] == 'None':\n",
    "    drop_ids.append(i)"
   ]
  },
  {
   "cell_type": "code",
   "execution_count": null,
   "metadata": {
    "colab": {
     "base_uri": "https://localhost:8080/"
    },
    "id": "9fmkB2vozVNZ",
    "outputId": "fc144e26-4a1c-4128-ce51-7f531ad9245f"
   },
   "outputs": [],
   "source": [
    "len(drop_ids)"
   ]
  },
  {
   "cell_type": "code",
   "execution_count": null,
   "metadata": {
    "id": "aHB9miN1yojd"
   },
   "outputs": [],
   "source": [
    "df_aligned = df_aligned.drop(drop_ids).reset_index(drop=True)"
   ]
  },
  {
   "cell_type": "code",
   "execution_count": null,
   "metadata": {
    "colab": {
     "base_uri": "https://localhost:8080/",
     "height": 545
    },
    "id": "kSVnrJ2kmEIZ",
    "outputId": "22ddbbbd-c746-4ec1-90ee-b57631b78d5e"
   },
   "outputs": [],
   "source": [
    "df_aligned.tail(16)"
   ]
  },
  {
   "cell_type": "markdown",
   "metadata": {
    "id": "-ShT0BQY9JTt"
   },
   "source": [
    "Из выровненного датасета получаем датасет с сегментами, которые различаются в двух сравниваемых разметках"
   ]
  },
  {
   "cell_type": "code",
   "execution_count": null,
   "metadata": {
    "colab": {
     "base_uri": "https://localhost:8080/",
     "height": 204
    },
    "id": "p4iTtG5Miz70",
    "outputId": "d2001317-f591-4786-b0f5-6c77f9a8a346"
   },
   "outputs": [],
   "source": [
    "diff_g = []\n",
    "diff_a = []\n",
    "diff_i = []\n",
    "for i, row in df_aligned.iterrows():\n",
    "  if row['зс'] != row['auto']:\n",
    "    diff_g.append(row['зс'])\n",
    "    diff_a.append(row['auto'])\n",
    "    diff_i.append(i)\n",
    "diff_df = pd.DataFrame()\n",
    "diff_df['segm_id'] = diff_i\n",
    "diff_df['зс'] = diff_g\n",
    "diff_df['auto'] = diff_a\n",
    "diff_df.head()"
   ]
  },
  {
   "cell_type": "code",
   "execution_count": null,
   "metadata": {
    "id": "rE6Fa0YLjo5g"
   },
   "outputs": [],
   "source": [
    "diff_df.to_csv('test_segm/diffs/diff_proj_test.csv')"
   ]
  },
  {
   "cell_type": "code",
   "execution_count": null,
   "metadata": {
    "id": "S2Q8eWHx_vD8"
   },
   "outputs": [],
   "source": [
    "#df_aligned = pd.read_csv('train_segm/aligned/da_rule_1__rule_morph_all.csv')"
   ]
  },
  {
   "cell_type": "code",
   "execution_count": null,
   "metadata": {
    "id": "Q5jDTQHXlRB-"
   },
   "outputs": [],
   "source": [
    "df = pd.read_csv('all_segm_Kesha_5_train_clean.csv')"
   ]
  },
  {
   "cell_type": "code",
   "execution_count": null,
   "metadata": {
    "id": "CW292RRygPHk"
   },
   "outputs": [],
   "source": [
    "import pandas as pd\n",
    "df_aligned = pd.read_csv('test_segm/aligned/data_aligned_proj_corrected.csv')"
   ]
  },
  {
   "cell_type": "code",
   "execution_count": null,
   "metadata": {
    "id": "-zlZZAsIvCeI"
   },
   "outputs": [],
   "source": [
    "golden_uniq = []\n",
    "for i, row  in df_aligned.iterrows():\n",
    "  if row['зс'] != 'None':\n",
    "    if i > 0:\n",
    "      if row['зс'] != golden_uniq[-1]:\n",
    "        golden_uniq.append(row['зс'])\n",
    "    else:\n",
    "      golden_uniq.append(row['зс'])"
   ]
  },
  {
   "cell_type": "code",
   "execution_count": null,
   "metadata": {
    "colab": {
     "base_uri": "https://localhost:8080/"
    },
    "id": "l7bqHFhUv3Gk",
    "outputId": "2fca9fcd-8ad3-47e5-dcd4-c99b450743bf"
   },
   "outputs": [],
   "source": [
    "len(golden_uniq)"
   ]
  },
  {
   "cell_type": "code",
   "execution_count": null,
   "metadata": {
    "id": "xRPpaypHeUow"
   },
   "outputs": [],
   "source": [
    "#проверка на то, что ничего не потеряли в зс\n",
    "pres = 0\n",
    "nop = 0\n",
    "for i in range(len(list(df['зс']))):\n",
    "  if list(df['зс'])[i] != 'None':\n",
    "    if list(df['зс'])[i] in list(df_aligned['зс']):\n",
    "      pres += 1\n",
    "    else:\n",
    "      print(i, list(df['зс'])[i])\n",
    "      nop += 1\n",
    "pres, nop"
   ]
  },
  {
   "cell_type": "markdown",
   "metadata": {
    "id": "TNf9CMl2cZ4p"
   },
   "source": [
    "# df save 1"
   ]
  },
  {
   "cell_type": "code",
   "execution_count": null,
   "metadata": {
    "id": "x_vX3rwiXK9p"
   },
   "outputs": [],
   "source": [
    "df_aligned.to_csv('data_aligned/final_gs/data_aligned_no_rules.csv')"
   ]
  },
  {
   "cell_type": "code",
   "execution_count": null,
   "metadata": {
    "id": "dQLbn3Bb-R9V"
   },
   "outputs": [],
   "source": [
    "df_aligned.to_csv('data_aligned/final_gs/data_aligned_rule_1.csv')"
   ]
  },
  {
   "cell_type": "code",
   "execution_count": null,
   "metadata": {
    "id": "VVTJyQCOYM-M"
   },
   "outputs": [],
   "source": [
    "df_aligned.to_csv('data_aligned/final_gs/data_aligned_rule_2.csv')"
   ]
  },
  {
   "cell_type": "code",
   "execution_count": null,
   "metadata": {
    "id": "g6L_zRArG4AE"
   },
   "outputs": [],
   "source": [
    "df_aligned.to_csv('data_aligned/final_gs/data_aligned_rule_3_mystem.csv')"
   ]
  },
  {
   "cell_type": "code",
   "execution_count": null,
   "metadata": {
    "id": "b-4orZrYISig"
   },
   "outputs": [],
   "source": [
    "df_aligned.to_csv('data_aligned/final_gs/data_aligned_rule_3.csv')"
   ]
  },
  {
   "cell_type": "code",
   "execution_count": null,
   "metadata": {
    "id": "Wz8tUE8oCxHQ"
   },
   "outputs": [],
   "source": [
    "df_aligned.to_csv('data_aligned/final_gs/data_aligned_rule_1__rule2.csv')"
   ]
  },
  {
   "cell_type": "code",
   "execution_count": null,
   "metadata": {
    "id": "lkoHYjomDnpM"
   },
   "outputs": [],
   "source": [
    "df_aligned.to_csv('data_aligned/final_gs/data_aligned_rule_1_rule_3.csv')"
   ]
  },
  {
   "cell_type": "code",
   "execution_count": null,
   "metadata": {
    "id": "rh0ijNFuEUv-"
   },
   "outputs": [],
   "source": [
    "df_aligned.to_csv('data_aligned/final_gs/data_aligned_rule_2__rule_3.csv')"
   ]
  },
  {
   "cell_type": "code",
   "execution_count": null,
   "metadata": {
    "id": "9omWWCiYE_q5"
   },
   "outputs": [],
   "source": [
    "df_aligned.to_csv('data_aligned/final_gs/data_aligned_rule_1__rule_2__rule_3.csv')"
   ]
  },
  {
   "cell_type": "code",
   "execution_count": null,
   "metadata": {
    "id": "1Wdkftp4UkNM"
   },
   "outputs": [],
   "source": [
    "df_aligned.to_csv('data_aligned/final_gs/data_aligned_proj.csv')"
   ]
  },
  {
   "cell_type": "code",
   "execution_count": null,
   "metadata": {
    "id": "9b5cw4WGCOb5"
   },
   "outputs": [],
   "source": [
    "df_aligned.to_csv('data_aligned/final_gs/data_aligned_morph.csv')"
   ]
  },
  {
   "cell_type": "markdown",
   "metadata": {
    "id": "XpZJ5CpCckco"
   },
   "source": [
    "# df save 2 version"
   ]
  },
  {
   "cell_type": "code",
   "execution_count": null,
   "metadata": {
    "id": "cJR96CdBcnPd"
   },
   "outputs": [],
   "source": [
    "df_aligned.to_csv('final_gs/fixed_data/data_aligned_rule_1.csv')"
   ]
  },
  {
   "cell_type": "code",
   "execution_count": null,
   "metadata": {
    "id": "Kpy-OGGpkp-W"
   },
   "outputs": [],
   "source": [
    "df_aligned.to_csv('final_gs/fixed_data/data_aligned_rule_2.csv')"
   ]
  },
  {
   "cell_type": "code",
   "execution_count": null,
   "metadata": {
    "id": "fze9FRdW2I0d"
   },
   "outputs": [],
   "source": [
    "df_aligned.to_csv('final_gs/fixed_data/data_aligned_rule_3.csv')"
   ]
  },
  {
   "cell_type": "code",
   "execution_count": null,
   "metadata": {
    "id": "wVEhd0ao27QL"
   },
   "outputs": [],
   "source": [
    "df_aligned.to_csv('final_gs/fixed_data/data_aligned_rule_1__rule_2.csv')"
   ]
  },
  {
   "cell_type": "code",
   "execution_count": null,
   "metadata": {
    "id": "hK-d8j3Z5UJM"
   },
   "outputs": [],
   "source": [
    "df_aligned.to_csv('final_gs/fixed_data/data_aligned_rule_1__rule_3.csv')"
   ]
  },
  {
   "cell_type": "code",
   "execution_count": null,
   "metadata": {
    "id": "gr5UVyNV5egq"
   },
   "outputs": [],
   "source": [
    "df_aligned.to_csv('final_gs/fixed_data/data_aligned_rule_2__rule_3.csv')"
   ]
  },
  {
   "cell_type": "code",
   "execution_count": null,
   "metadata": {
    "id": "Bzc1dM566sPk"
   },
   "outputs": [],
   "source": [
    "df_aligned.to_csv('final_gs/fixed_data/data_aligned_rule_1__rule_2__rule_3.csv')"
   ]
  },
  {
   "cell_type": "markdown",
   "metadata": {
    "id": "sqNnSIrQkPGM"
   },
   "source": [
    "# df save 3"
   ]
  },
  {
   "cell_type": "code",
   "execution_count": null,
   "metadata": {
    "id": "qNqpK4lAkN6Z"
   },
   "outputs": [],
   "source": [
    "df_aligned.to_csv('train_segm/aligned/data_aligned_no_rules.csv')"
   ]
  },
  {
   "cell_type": "code",
   "execution_count": null,
   "metadata": {
    "id": "Re9chJiJFOk7"
   },
   "outputs": [],
   "source": [
    "df_aligned.to_csv('test_segm/aligned/data_aligned_no_rules.csv')"
   ]
  },
  {
   "cell_type": "code",
   "execution_count": null,
   "metadata": {
    "id": "cUw0aGRRLeQW"
   },
   "outputs": [],
   "source": [
    "df_aligned.to_csv('test_segm/aligned/data_aligned_proj.csv')"
   ]
  },
  {
   "cell_type": "markdown",
   "metadata": {
    "id": "HvXGtHKochfq"
   },
   "source": [
    "# evaluation"
   ]
  },
  {
   "cell_type": "code",
   "execution_count": null,
   "metadata": {
    "id": "9Ig5XVEyVq5Y"
   },
   "outputs": [],
   "source": [
    "import pandas as pd\n",
    "df_aligned = pd.read_csv('train_segm/aligned/data_aligned_no_rules_50.csv')"
   ]
  },
  {
   "cell_type": "code",
   "execution_count": null,
   "metadata": {
    "id": "H2MfMfoDF8PK"
   },
   "outputs": [],
   "source": [
    "import sklearn\n",
    "from sklearn.metrics import cohen_kappa_score"
   ]
  },
  {
   "cell_type": "code",
   "execution_count": null,
   "metadata": {
    "id": "wXzGdKk2FVuk"
   },
   "outputs": [],
   "source": [
    "agree = 0\n",
    "for i, row in df_aligned.iterrows():\n",
    "  if row['зс'] == row['auto']:\n",
    "    agree += 1"
   ]
  },
  {
   "cell_type": "code",
   "execution_count": null,
   "metadata": {
    "colab": {
     "base_uri": "https://localhost:8080/"
    },
    "id": "eHVwDN4Ebn4K",
    "outputId": "165b6153-be19-47fe-f1a4-3a01aee96ddc"
   },
   "outputs": [],
   "source": [
    "agree, len(golden_uniq)-1"
   ]
  },
  {
   "cell_type": "code",
   "execution_count": null,
   "metadata": {
    "id": "_aXqybMnFYpH"
   },
   "outputs": [],
   "source": [
    "def eval(rule):\n",
    "  \"\"\"Возвращает Accuracy и Kappa scores\"\"\"\n",
    "\n",
    "  print(f'accuracy зс vs {rule} = {agree/(len(golden_uniq)-1)}')\n",
    "  print(f\"kappa зс vs {rule} = {cohen_kappa_score(df_aligned['зс'], df_aligned['auto'])}\")"
   ]
  },
  {
   "cell_type": "markdown",
   "metadata": {
    "id": "bbWNcP9OgC-Y"
   },
   "source": [
    "# new scores train updated"
   ]
  },
  {
   "cell_type": "code",
   "execution_count": null,
   "metadata": {
    "colab": {
     "base_uri": "https://localhost:8080/"
    },
    "id": "3M3uKrzDgC-Z",
    "outputId": "7d004309-c7b4-457e-fd9f-4c13e041c2e7"
   },
   "outputs": [],
   "source": [
    "eval('rule_1')"
   ]
  },
  {
   "cell_type": "code",
   "execution_count": null,
   "metadata": {
    "colab": {
     "base_uri": "https://localhost:8080/"
    },
    "id": "PKFS6f54gC-b",
    "outputId": "2f493254-28f4-4f58-910c-5f33a5d6bf61"
   },
   "outputs": [],
   "source": [
    "eval('rule_2')"
   ]
  },
  {
   "cell_type": "code",
   "execution_count": null,
   "metadata": {
    "colab": {
     "base_uri": "https://localhost:8080/"
    },
    "id": "PVKg-ui7gC-c",
    "outputId": "2551440d-b78d-4f9c-bb48-d7cb8f13df22"
   },
   "outputs": [],
   "source": [
    "eval('rule_3')"
   ]
  },
  {
   "cell_type": "code",
   "execution_count": null,
   "metadata": {
    "colab": {
     "base_uri": "https://localhost:8080/"
    },
    "id": "jHYAza5PgC-d",
    "outputId": "879b36f1-0bcf-43d3-e24e-d96b27bb1677"
   },
   "outputs": [],
   "source": [
    "eval('rule_1__rule_2')"
   ]
  },
  {
   "cell_type": "code",
   "execution_count": null,
   "metadata": {
    "colab": {
     "base_uri": "https://localhost:8080/"
    },
    "id": "zeo_mOJYgC-e",
    "outputId": "102ea19f-b4b4-4146-e734-655572f2dbd4"
   },
   "outputs": [],
   "source": [
    "eval('rule_1__rule_morph')"
   ]
  },
  {
   "cell_type": "code",
   "execution_count": null,
   "metadata": {
    "colab": {
     "base_uri": "https://localhost:8080/"
    },
    "id": "Xux47N1j8tqo",
    "outputId": "e81e2eb6-13e4-4bda-b27d-8b202c01b260"
   },
   "outputs": [],
   "source": [
    "eval('proj')"
   ]
  },
  {
   "cell_type": "code",
   "execution_count": null,
   "metadata": {
    "colab": {
     "base_uri": "https://localhost:8080/"
    },
    "id": "tK4wvYPCewOD",
    "outputId": "7d58000c-7bc2-4f7a-81b1-0188eff46e6e"
   },
   "outputs": [],
   "source": [
    "eval('proj')"
   ]
  },
  {
   "cell_type": "markdown",
   "metadata": {
    "id": "1ovw3UPRsHs4"
   },
   "source": [
    "No_rules ver does not need updates"
   ]
  },
  {
   "cell_type": "markdown",
   "metadata": {
    "id": "gsSg10CUFovc"
   },
   "source": [
    "# new scores test"
   ]
  },
  {
   "cell_type": "code",
   "execution_count": null,
   "metadata": {
    "colab": {
     "base_uri": "https://localhost:8080/"
    },
    "id": "AOnksQiaFqjr",
    "outputId": "f26c97c1-92a9-43ce-b73e-c04529970fcc"
   },
   "outputs": [],
   "source": [
    "eval('rule_1')"
   ]
  },
  {
   "cell_type": "code",
   "execution_count": null,
   "metadata": {
    "colab": {
     "base_uri": "https://localhost:8080/"
    },
    "id": "k9PKAzijSfV9",
    "outputId": "8369abf0-c65f-49c8-e3c1-a66a2783f34d"
   },
   "outputs": [],
   "source": [
    "eval('rule_2')"
   ]
  },
  {
   "cell_type": "code",
   "execution_count": null,
   "metadata": {
    "colab": {
     "base_uri": "https://localhost:8080/"
    },
    "id": "5ks9eE70a9DM",
    "outputId": "96cfb90e-1bc8-4092-ad71-249091e101b7"
   },
   "outputs": [],
   "source": [
    "eval('rule_3')"
   ]
  },
  {
   "cell_type": "code",
   "execution_count": null,
   "metadata": {
    "colab": {
     "base_uri": "https://localhost:8080/"
    },
    "id": "U8ig24Lzfb3x",
    "outputId": "6afb63ab-b81a-4704-a584-dc698815673b"
   },
   "outputs": [],
   "source": [
    "eval('rule_1__rule_2')"
   ]
  },
  {
   "cell_type": "code",
   "execution_count": null,
   "metadata": {
    "colab": {
     "base_uri": "https://localhost:8080/"
    },
    "id": "ZLd6TkbgoUtS",
    "outputId": "27aa7a52-42c9-48c0-c8a0-0451015b0db0"
   },
   "outputs": [],
   "source": [
    "eval('rule_1__rule_3')"
   ]
  },
  {
   "cell_type": "code",
   "execution_count": null,
   "metadata": {
    "colab": {
     "base_uri": "https://localhost:8080/"
    },
    "id": "2m0HkCRu3AlZ",
    "outputId": "e9512525-c707-4a55-ea30-754989e5ece9"
   },
   "outputs": [],
   "source": [
    "eval('rule_1__rule_morph')"
   ]
  },
  {
   "cell_type": "code",
   "execution_count": null,
   "metadata": {
    "colab": {
     "base_uri": "https://localhost:8080/"
    },
    "id": "IcegiG02Qzkd",
    "outputId": "47fe6820-1da4-4ecb-857f-06a8a414c6c4"
   },
   "outputs": [],
   "source": [
    "eval('no_rules')"
   ]
  },
  {
   "cell_type": "code",
   "execution_count": null,
   "metadata": {
    "colab": {
     "base_uri": "https://localhost:8080/"
    },
    "id": "ZzZX9lvCLk0W",
    "outputId": "47de3739-8b36-4540-8ea1-fd2a8be7f4e6"
   },
   "outputs": [],
   "source": [
    "eval('proj')"
   ]
  },
  {
   "cell_type": "code",
   "execution_count": null,
   "metadata": {
    "colab": {
     "base_uri": "https://localhost:8080/"
    },
    "id": "PRQQXMD_flhE",
    "outputId": "215aae1d-611d-45fb-d16b-5e161886d78c"
   },
   "outputs": [],
   "source": [
    "eval('proj')"
   ]
  },
  {
   "cell_type": "markdown",
   "metadata": {
    "id": "wdGoc2mFknH6"
   },
   "source": [
    "# new scores train"
   ]
  },
  {
   "cell_type": "code",
   "execution_count": null,
   "metadata": {
    "colab": {
     "base_uri": "https://localhost:8080/"
    },
    "id": "1ov82lSYkpWj",
    "outputId": "e34bca04-6d53-4364-8fdc-364f81983f28"
   },
   "outputs": [],
   "source": [
    "print(f'accuracy зс vs rule_1 = {agree/(len(golden_uniq)-1)}')\n",
    "print(f\"kappa зс vs rule_1 = {cohen_kappa_score(df_aligned['зс'], df_aligned['auto'])}\")"
   ]
  },
  {
   "cell_type": "code",
   "execution_count": null,
   "metadata": {
    "colab": {
     "base_uri": "https://localhost:8080/"
    },
    "id": "3AEV0qGNq14-",
    "outputId": "f94821a4-5aa1-42d8-9ca6-97f3c8f57f1d"
   },
   "outputs": [],
   "source": [
    "print(f'accuracy зс vs rule_2 = {agree/(len(golden_uniq)-1)}')\n",
    "print(f\"kappa зс vs rule_2 = {cohen_kappa_score(df_aligned['зс'], df_aligned['auto'])}\")"
   ]
  },
  {
   "cell_type": "code",
   "execution_count": null,
   "metadata": {
    "colab": {
     "base_uri": "https://localhost:8080/"
    },
    "id": "FfQSFlBVuyJL",
    "outputId": "a6444bed-ed48-4803-a2f4-e91cc91530ab"
   },
   "outputs": [],
   "source": [
    "print(f'accuracy зс vs rule_3 = {agree/(len(golden_uniq)-1)}')\n",
    "print(f\"kappa зс vs rule_3 = {cohen_kappa_score(df_aligned['зс'], df_aligned['auto'])}\")"
   ]
  },
  {
   "cell_type": "code",
   "execution_count": null,
   "metadata": {
    "colab": {
     "base_uri": "https://localhost:8080/"
    },
    "id": "1TAl-OkpAXfB",
    "outputId": "6290cc49-3934-4bfe-8da5-8d51029c0753"
   },
   "outputs": [],
   "source": [
    "print(f'accuracy зс vs rule_1__rule_2 = {agree/(len(golden_uniq)-1)}')\n",
    "print(f\"kappa зс vs rule_1__rule_2 = {cohen_kappa_score(df_aligned['зс'], df_aligned['auto'])}\")"
   ]
  },
  {
   "cell_type": "code",
   "execution_count": null,
   "metadata": {
    "colab": {
     "base_uri": "https://localhost:8080/"
    },
    "id": "_Lv1R9-bjunY",
    "outputId": "16e91fc7-d096-4a61-a361-08f0dfb65eeb"
   },
   "outputs": [],
   "source": [
    "print(f'accuracy зс vs rule_1__rule_morph = {agree/(len(golden_uniq)-1)}')\n",
    "print(f\"kappa зс vs rule_1__rule_morph = {cohen_kappa_score(df_aligned['зс'], df_aligned['auto'])}\")"
   ]
  },
  {
   "cell_type": "code",
   "execution_count": null,
   "metadata": {
    "colab": {
     "base_uri": "https://localhost:8080/"
    },
    "id": "QoEOgk3aZ5NN",
    "outputId": "c4c18ad6-8b17-40b1-f461-8a2ea1930af6"
   },
   "outputs": [],
   "source": [
    "print(f'accuracy зс vs no_rules = {agree/(len(golden_uniq)-1)}')\n",
    "print(f\"kappa зс vs no_rules = {cohen_kappa_score(df_aligned['зс'], df_aligned['auto'])}\")"
   ]
  },
  {
   "cell_type": "markdown",
   "metadata": {
    "id": "Q6szFHoLfoxX"
   },
   "source": [
    "# df comparison"
   ]
  },
  {
   "cell_type": "markdown",
   "metadata": {
    "id": "6cGVy4rp-svK"
   },
   "source": [
    "Датасет, чтобы сравнивать авторазметку и разметку, полученную при помочи выравнивания"
   ]
  },
  {
   "cell_type": "code",
   "execution_count": null,
   "metadata": {
    "id": "GlQvfVX6ciLK"
   },
   "outputs": [],
   "source": [
    "import pandas as pd\n",
    "df_aligned = pd.read_csv('data_aligned/data_aligned_rule_1.csv')\n",
    "df_proj = pd.read_csv('data_aligned/data_aligned_proj.csv')"
   ]
  },
  {
   "cell_type": "code",
   "execution_count": null,
   "metadata": {
    "colab": {
     "base_uri": "https://localhost:8080/"
    },
    "id": "GNA6-Qhfcq2i",
    "outputId": "93e0971f-37b6-421a-a739-135020554ea8"
   },
   "outputs": [],
   "source": [
    "df_aligned.shape, df_proj.shape"
   ]
  },
  {
   "cell_type": "code",
   "execution_count": null,
   "metadata": {
    "id": "DLq4wDCcdMZU"
   },
   "outputs": [],
   "source": [
    "df_aligned = df_aligned.drop('Unnamed: 0', axis = 1).reset_index(drop = True)\n",
    "df_proj = df_proj.drop('Unnamed: 0', axis = 1).reset_index(drop = True)"
   ]
  },
  {
   "cell_type": "code",
   "execution_count": null,
   "metadata": {
    "id": "XP90osWGeytO"
   },
   "outputs": [],
   "source": [
    "df_proj.rename(columns = {'зс':'proj_g', 'auto':'proj_a'}, inplace = True)"
   ]
  },
  {
   "cell_type": "code",
   "execution_count": null,
   "metadata": {
    "colab": {
     "base_uri": "https://localhost:8080/"
    },
    "id": "5Jzrtb9le9C-",
    "outputId": "82ac8ffe-289f-496f-8a5e-76b03fe42442"
   },
   "outputs": [],
   "source": [
    "df_comp = df_aligned.join(df_proj)\n",
    "df_comp.rename(columns = {'зс':'auto_g', 'auto':'auto_a'}, inplace = True)\n",
    "df_comp.head()"
   ]
  },
  {
   "cell_type": "code",
   "execution_count": null,
   "metadata": {
    "id": "v6fXW2hPfbZh"
   },
   "outputs": [],
   "source": [
    "df_comp.to_csv('data_aligned/data_comp.csv')"
   ]
  },
  {
   "cell_type": "markdown",
   "metadata": {
    "id": "sc5Bg3BJ9Pov"
   },
   "source": [
    "# df with manual annotations"
   ]
  },
  {
   "cell_type": "code",
   "execution_count": null,
   "metadata": {
    "id": "kVIcFRE59Ryh"
   },
   "outputs": [],
   "source": [
    "import pandas as pd\n",
    "import numpy as np"
   ]
  },
  {
   "cell_type": "code",
   "execution_count": null,
   "metadata": {
    "id": "pWhAt9jQ9aVx"
   },
   "outputs": [],
   "source": [
    "#df = pd.read_csv('segm_annot.csv')\n",
    "#df = pd.read_csv('segm_50_2ver.csv')\n",
    "#df = pd.read_csv('segm_50_3ver.csv')\n",
    "df = pd.read_csv('segm_final.csv')"
   ]
  },
  {
   "cell_type": "code",
   "execution_count": null,
   "metadata": {
    "colab": {
     "base_uri": "https://localhost:8080/",
     "height": 306
    },
    "id": "aouz86Ii9tMU",
    "outputId": "31817d9d-98fa-47b1-b95d-f5710620d2c2"
   },
   "outputs": [],
   "source": [
    "df.head()"
   ]
  },
  {
   "cell_type": "code",
   "execution_count": null,
   "metadata": {
    "colab": {
     "base_uri": "https://localhost:8080/"
    },
    "id": "elOlzBMf9uIk",
    "outputId": "88ef4fe0-a94e-4e3b-b0cf-4f8b7df6ec59"
   },
   "outputs": [],
   "source": [
    "colm = df.columns.tolist()[8:]\n",
    "colm"
   ]
  },
  {
   "cell_type": "code",
   "execution_count": null,
   "metadata": {
    "id": "Rmnq9T9l-DuI"
   },
   "outputs": [],
   "source": [
    "df = df.drop(colm, axis = 1)"
   ]
  },
  {
   "cell_type": "code",
   "execution_count": null,
   "metadata": {
    "colab": {
     "base_uri": "https://localhost:8080/"
    },
    "id": "1KfE24BttQGm",
    "outputId": "a8b5caa6-f012-4949-e0fa-426441b62092"
   },
   "outputs": [],
   "source": [
    "colm = df.columns.tolist()[2:4]\n",
    "colm"
   ]
  },
  {
   "cell_type": "code",
   "execution_count": null,
   "metadata": {
    "id": "aPB7-ESctUmZ"
   },
   "outputs": [],
   "source": [
    "df = df.drop(colm, axis = 1)"
   ]
  },
  {
   "cell_type": "code",
   "execution_count": null,
   "metadata": {
    "id": "hJ0zUg-zB1L_"
   },
   "outputs": [],
   "source": [
    "df = df.dropna(how='all')"
   ]
  },
  {
   "cell_type": "code",
   "execution_count": null,
   "metadata": {
    "colab": {
     "base_uri": "https://localhost:8080/",
     "height": 306
    },
    "id": "KH7DTmm9tX0y",
    "outputId": "cc3c7fee-b508-4be0-bafe-6b96a93ff765"
   },
   "outputs": [],
   "source": [
    "df.head()"
   ]
  },
  {
   "cell_type": "code",
   "execution_count": null,
   "metadata": {
    "id": "Jx-UCmAsce51"
   },
   "outputs": [],
   "source": [
    "train_b = df.iloc[:378]"
   ]
  },
  {
   "cell_type": "code",
   "execution_count": null,
   "metadata": {
    "id": "hiyEVMKLeknM"
   },
   "outputs": [],
   "source": [
    "test_b = df.iloc[378:468]"
   ]
  },
  {
   "cell_type": "code",
   "execution_count": null,
   "metadata": {
    "id": "2_oCEP92e6fJ"
   },
   "outputs": [],
   "source": [
    "train_d = df.iloc[468:555]"
   ]
  },
  {
   "cell_type": "code",
   "execution_count": null,
   "metadata": {
    "id": "qrzdjnnvflVL"
   },
   "outputs": [],
   "source": [
    "test_d = df.iloc[555:621]"
   ]
  },
  {
   "cell_type": "code",
   "execution_count": null,
   "metadata": {
    "id": "zxbvrezwf0Ps"
   },
   "outputs": [],
   "source": [
    "train_k = df.iloc[621:767]"
   ]
  },
  {
   "cell_type": "code",
   "execution_count": null,
   "metadata": {
    "id": "USTCOsYCgCx3"
   },
   "outputs": [],
   "source": [
    "test_k = df.iloc[767:]"
   ]
  },
  {
   "cell_type": "code",
   "execution_count": null,
   "metadata": {
    "id": "YOvn9AlBHOKf"
   },
   "outputs": [],
   "source": [
    "df_train = pd.concat([train_b, train_d, train_k])\n",
    "df_test = pd.concat([test_b, test_d, test_k])"
   ]
  },
  {
   "cell_type": "code",
   "execution_count": null,
   "metadata": {
    "id": "GbTsfT-qPLs5"
   },
   "outputs": [],
   "source": [
    "df_train.to_csv('data_train_annot.csv')\n",
    "df_test.to_csv('data_test_annot.csv')"
   ]
  },
  {
   "cell_type": "code",
   "execution_count": null,
   "metadata": {
    "colab": {
     "base_uri": "https://localhost:8080/"
    },
    "id": "SAXpFRscNda5",
    "outputId": "b786c895-a15e-4d19-888f-406e8df7f834"
   },
   "outputs": [],
   "source": [
    "df_train.shape, df_test.shape"
   ]
  },
  {
   "cell_type": "code",
   "execution_count": null,
   "metadata": {
    "id": "GdfngpadfKVG"
   },
   "outputs": [],
   "source": [
    "df['кеша'] = df['кеша'].fillna('None')\n",
    "df['полина'] = df['полина'].fillna('None')\n",
    "df['даша'] = df['даша'].fillna('None')\n",
    "df['зс'] = df['зс'].fillna('None')"
   ]
  },
  {
   "cell_type": "code",
   "execution_count": null,
   "metadata": {
    "id": "7iVh_0trt4WP"
   },
   "outputs": [],
   "source": [
    "df['id текста'] = df['id текста'].fillna('0')"
   ]
  },
  {
   "cell_type": "code",
   "execution_count": null,
   "metadata": {
    "id": "S1DkXveN_nj4"
   },
   "outputs": [],
   "source": [
    "df['id текста'] = df['id текста'].astype('int')"
   ]
  },
  {
   "cell_type": "code",
   "execution_count": null,
   "metadata": {
    "id": "hRvbYNwonoOb"
   },
   "outputs": [],
   "source": [
    "df = df.drop(df.loc[(df['id текста'] == 7) & (df['id текста.1'] == 'd')].index)"
   ]
  },
  {
   "cell_type": "code",
   "execution_count": null,
   "metadata": {
    "id": "QTgBqkWQUBTF"
   },
   "outputs": [],
   "source": [
    "df = df.drop(df.loc[(df['id текста'] == 11) & (df['id текста.1'] == 'k')].index)"
   ]
  },
  {
   "cell_type": "code",
   "execution_count": null,
   "metadata": {
    "id": "sbwcnY0yYFau"
   },
   "outputs": [],
   "source": [
    "#df = df.drop(df.loc[(df['id текста'] > 50) | (df['id текста.1'] != 'b')].index)\n",
    "df = df.drop(df.loc[df['id текста'] > 50].index)"
   ]
  },
  {
   "cell_type": "code",
   "execution_count": null,
   "metadata": {
    "id": "F__NQjS_0e2m"
   },
   "outputs": [],
   "source": [
    "df = df.drop(df.loc[(df['id текста'] <= 50) & (df['id текста.1'] == 'b')].index)"
   ]
  },
  {
   "cell_type": "code",
   "execution_count": null,
   "metadata": {
    "colab": {
     "base_uri": "https://localhost:8080/",
     "height": 289
    },
    "id": "-T8KDtgKHLEB",
    "outputId": "c75fbc6e-fcb3-4b3b-8bb7-53fa328e3109"
   },
   "outputs": [],
   "source": [
    "df.tail()"
   ]
  },
  {
   "cell_type": "markdown",
   "metadata": {
    "id": "-MADNc4MnY6w"
   },
   "source": [
    "# annotators' agreement"
   ]
  },
  {
   "cell_type": "code",
   "execution_count": null,
   "metadata": {
    "id": "_DzKTWcCZ7La"
   },
   "outputs": [],
   "source": [
    "annots = ['полина','кеша','даша']"
   ]
  },
  {
   "cell_type": "code",
   "execution_count": null,
   "metadata": {
    "id": "RhkHorTGWyIK"
   },
   "outputs": [],
   "source": [
    "def annot_agree(diff = False):\n",
    "  \"\"\"\n",
    "  Согласие аннотаторов\n",
    "  Annotators agreement\n",
    "  \"\"\"\n",
    "  total_agree = []\n",
    "  agree = disagree = 0\n",
    "  for index, row in df.iterrows():\n",
    "    if row[annots[0]] == row[annots[1]] and row[annots[0]] == row[annots[2]]:\n",
    "      agree += 1\n",
    "    else:\n",
    "      disagree += 1\n",
    "      if diff == True:\n",
    "        print(f'row_id = {index}, text_id = {row[\"id текста\"]}')\n",
    "        for i in annots:\n",
    "          print(f'{i}: {row[i]}')\n",
    "        print('\\n')\n",
    "      else:\n",
    "        continue\n",
    "  return agree/(agree+disagree-1)"
   ]
  },
  {
   "cell_type": "code",
   "execution_count": null,
   "metadata": {
    "colab": {
     "base_uri": "https://localhost:8080/"
    },
    "id": "Wgm8LmMIXl2K",
    "outputId": "51a9c692-74e3-4117-d3db-81d78e1e4f96"
   },
   "outputs": [],
   "source": [
    "#all texts final gs\n",
    "annot_agree()"
   ]
  },
  {
   "cell_type": "code",
   "execution_count": null,
   "metadata": {
    "colab": {
     "base_uri": "https://localhost:8080/"
    },
    "id": "RMQiOg9AYZgW",
    "outputId": "1dcc795b-dc28-4daa-e859-6875f005acf1"
   },
   "outputs": [],
   "source": [
    "#50 texts final gs\n",
    "annot_agree()"
   ]
  },
  {
   "cell_type": "code",
   "execution_count": null,
   "metadata": {
    "colab": {
     "base_uri": "https://localhost:8080/"
    },
    "id": "2xtZtCEm1B98",
    "outputId": "4f2da6e0-defa-4492-a9c3-e572e394acdd"
   },
   "outputs": [],
   "source": [
    "#not(50 texts final gs)\n",
    "annot_agree()"
   ]
  },
  {
   "cell_type": "code",
   "execution_count": null,
   "metadata": {
    "colab": {
     "base_uri": "https://localhost:8080/"
    },
    "id": "37-kq1VSwuwZ",
    "outputId": "feab95a2-7827-4131-9561-61d1f97e32e2"
   },
   "outputs": [],
   "source": [
    "#2ver\n",
    "annot_agree()"
   ]
  },
  {
   "cell_type": "code",
   "execution_count": null,
   "metadata": {
    "colab": {
     "base_uri": "https://localhost:8080/"
    },
    "id": "R8IKk3mLyLsB",
    "outputId": "12958388-4601-4d96-d14d-d05107534158"
   },
   "outputs": [],
   "source": [
    "#3ver\n",
    "annot_agree()"
   ]
  },
  {
   "cell_type": "code",
   "execution_count": null,
   "metadata": {
    "id": "cbboOphwyPqw"
   },
   "outputs": [],
   "source": [
    "import sklearn\n",
    "from sklearn.metrics import cohen_kappa_score\n",
    "def get_kappas():\n",
    "  print(f'kappa Полина-Кеша = {cohen_kappa_score(df[annots[0]], df[annots[1]])}')\n",
    "  print(f'kappa Полина-Даша = {cohen_kappa_score(df[annots[0]], df[annots[2]])}')\n",
    "  print(f'kappa Кеша-Даша = {cohen_kappa_score(df[annots[1]], df[annots[2]])}')\n",
    "\n",
    "  print(f'\\nkappa Полина-ЗС = {cohen_kappa_score(df[annots[0]], df[\"зс\"])}')\n",
    "  print(f'kappa Кеша-ЗС = {cohen_kappa_score(df[annots[1]], df[\"зс\"])}')\n",
    "  print(f'kappa Даша-ЗС = {cohen_kappa_score(df[annots[2]], df[\"зс\"])}')"
   ]
  },
  {
   "cell_type": "code",
   "execution_count": null,
   "metadata": {
    "colab": {
     "base_uri": "https://localhost:8080/"
    },
    "id": "yeVed4Yxy0Cq",
    "outputId": "53f83172-1383-4b14-e777-83a17263725a"
   },
   "outputs": [],
   "source": [
    "#2_ver\n",
    "get_kappas()"
   ]
  },
  {
   "cell_type": "code",
   "execution_count": null,
   "metadata": {
    "colab": {
     "base_uri": "https://localhost:8080/"
    },
    "id": "L6FcD6KhyYRi",
    "outputId": "c4f31d64-dc4e-4cd3-e268-6d7ba32861ba"
   },
   "outputs": [],
   "source": [
    "#3_ver\n",
    "get_kappas()"
   ]
  },
  {
   "cell_type": "code",
   "execution_count": null,
   "metadata": {
    "colab": {
     "base_uri": "https://localhost:8080/"
    },
    "id": "4Sd_MULF1N2u",
    "outputId": "e7301f82-01fb-456f-e08c-107382082eb0"
   },
   "outputs": [],
   "source": [
    "#not(50 texts final gs)\n",
    "get_kappas()"
   ]
  },
  {
   "cell_type": "code",
   "execution_count": null,
   "metadata": {
    "colab": {
     "base_uri": "https://localhost:8080/"
    },
    "id": "UCfhba8MYk4E",
    "outputId": "ef1b1708-1bfe-4e5d-b478-8e25f17f27df"
   },
   "outputs": [],
   "source": [
    "#50 texts final gs\n",
    "import sklearn\n",
    "from sklearn.metrics import cohen_kappa_score\n",
    "\n",
    "print(f'kappa Полина-Кеша = {cohen_kappa_score(df[annots[0]], df[annots[1]])}')\n",
    "print(f'kappa Полина-Даша = {cohen_kappa_score(df[annots[0]], df[annots[2]])}')\n",
    "print(f'kappa Кеша-Даша = {cohen_kappa_score(df[annots[1]], df[annots[2]])}')\n",
    "\n",
    "print(f'\\nkappa Полина-ЗС = {cohen_kappa_score(df[annots[0]], df[\"зс\"])}')\n",
    "print(f'kappa Кеша-ЗС = {cohen_kappa_score(df[annots[1]], df[\"зс\"])}')\n",
    "print(f'kappa Даша-ЗС = {cohen_kappa_score(df[annots[2]], df[\"зс\"])}')"
   ]
  },
  {
   "cell_type": "code",
   "execution_count": null,
   "metadata": {
    "colab": {
     "base_uri": "https://localhost:8080/"
    },
    "id": "APZVttQuV_5P",
    "outputId": "55b58d7f-a547-48a2-a003-00d97b8fee12"
   },
   "outputs": [],
   "source": [
    "#all texts final gs\n",
    "import sklearn\n",
    "from sklearn.metrics import cohen_kappa_score\n",
    "\n",
    "print(f'kappa Полина-Кеша = {cohen_kappa_score(df[annots[0]], df[annots[1]])}')\n",
    "print(f'kappa Полина-Даша = {cohen_kappa_score(df[annots[0]], df[annots[2]])}')\n",
    "print(f'kappa Кеша-Даша = {cohen_kappa_score(df[annots[1]], df[annots[2]])}')\n",
    "\n",
    "print(f'\\nkappa Полина-ЗС = {cohen_kappa_score(df[annots[0]], df[\"зс\"])}')\n",
    "print(f'kappa Кеша-ЗС = {cohen_kappa_score(df[annots[1]], df[\"зс\"])}')\n",
    "print(f'kappa Даша-ЗС = {cohen_kappa_score(df[annots[2]], df[\"зс\"])}')"
   ]
  }
 ],
 "metadata": {
  "colab": {
   "collapsed_sections": [
    "-4v2i3sPff7r",
    "pgq5Zp6dh0De",
    "iFQiZe8v1zZ8",
    "qP0eqCiAp-Mc",
    "fAfp3Oxa1u75",
    "kUrkAzJ-T0mX",
    "79biSjUwT9J1",
    "P2nTSASV1NJE",
    "-EiaWs2rdhMl",
    "l96GTSbddnTC",
    "VRQQmmticbLL",
    "3LeNsiAIpwxX",
    "1tksu2Mvcmb1",
    "eZepMm4PYiUO",
    "VU61wj6Mp2Rm",
    "TNf9CMl2cZ4p",
    "XpZJ5CpCckco",
    "sqNnSIrQkPGM",
    "HvXGtHKochfq",
    "bbWNcP9OgC-Y",
    "gsSg10CUFovc",
    "wdGoc2mFknH6",
    "Q6szFHoLfoxX",
    "sc5Bg3BJ9Pov",
    "-MADNc4MnY6w"
   ],
   "name": "aligning_and_evaluation.ipynb",
   "provenance": []
  },
  "kernelspec": {
   "display_name": "Python 3",
   "language": "python",
   "name": "python3"
  },
  "language_info": {
   "codemirror_mode": {
    "name": "ipython",
    "version": 3
   },
   "file_extension": ".py",
   "mimetype": "text/x-python",
   "name": "python",
   "nbconvert_exporter": "python",
   "pygments_lexer": "ipython3",
   "version": "3.8.8"
  }
 },
 "nbformat": 4,
 "nbformat_minor": 1
}
